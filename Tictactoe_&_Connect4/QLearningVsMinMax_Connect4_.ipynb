{
 "cells": [
  {
   "cell_type": "code",
   "execution_count": 1,
   "id": "51bd5e6c",
   "metadata": {},
   "outputs": [],
   "source": [
    "import random\n",
    "import math\n",
    "from IPython.display import display\n",
    "import pandas as pd\n",
    "from tqdm import tqdm\n",
    "import pickle\n",
    "import numpy as np\n",
    "import time"
   ]
  },
  {
   "cell_type": "code",
   "execution_count": 2,
   "id": "a1cd9d9a",
   "metadata": {},
   "outputs": [],
   "source": [
    "class Connect4_Game:\n",
    "    \n",
    "    def initialise_board(self) : \n",
    "        self.rows = 6\n",
    "        self.columns = 7\n",
    "        self.connect4_board = np.zeros((self.rows, self.columns))\n",
    "    \n",
    "    validateMove = lambda self, column: self.connect4_board[len(self.connect4_board)-1][column] == 0\n",
    "    \n",
    "    getNextAvailableRow = lambda self, column: next((row for row in range(len(self.connect4_board)) if self.connect4_board[row][column] == 0), None)\n",
    "\n",
    "    getValidMove = lambda self: [column for column in range(self.columns) if self.validateMove(column)]\n",
    "\n",
    "    def getNextAvailablePosition(self, letter):\n",
    "        rows, cols = self.rows, self.columns\n",
    "        for row, row_vals in enumerate(self.connect4_board):\n",
    "            for col, col_val in enumerate(row_vals[:-3]):\n",
    "                if all(elem == letter for elem in row_vals[col:col+4]):\n",
    "                    return row, col\n",
    "            for col, col_vals in zip(range(cols), (self.connect4_board[r][col] for r in range(row, min(row+4, rows)))):\n",
    "                if all(elem == letter for elem in col_vals):\n",
    "                    return row, col\n",
    "            for col, col_vals in enumerate(row_vals[:-3]):\n",
    "                if row < rows-3 and col < cols-3:\n",
    "                    diag_vals = [self.connect4_board[row+i][col+i] for i in range(4)]\n",
    "                    if all(elem == letter for elem in diag_vals):\n",
    "                        return row, col\n",
    "            for col, col_vals in enumerate(row_vals[:-3]):\n",
    "                if row >= 3 and col < cols-3:\n",
    "                    diag_vals = [self.connect4_board[row-i][col+i] for i in range(4)]\n",
    "                    if all(elem == letter for elem in diag_vals):\n",
    "                        return row, col\n",
    "        else:\n",
    "            return -1, -1\n",
    "\n",
    "    \n",
    "\n",
    "    def validateWin(self, letter):\n",
    "        for row in range(self.rows):\n",
    "            for col in range(self.columns - 3):\n",
    "                if all(self.connect4_board[row][col + i] == letter for i in range(4)):\n",
    "                    return True\n",
    "\n",
    "        for row in range(self.rows - 3):\n",
    "            for col in range(self.columns):\n",
    "                if all(self.connect4_board[row + i][col] == letter for i in range(4)):\n",
    "                    return True\n",
    "\n",
    "        for row in range(self.rows - 3):\n",
    "            for col in range(self.columns - 3):\n",
    "                if all(self.connect4_board[row + i][col + i] == letter for i in range(4)):\n",
    "                    return True\n",
    "\n",
    "        for row in range(3, self.rows):\n",
    "            for col in range(self.columns - 3):\n",
    "                if all(self.connect4_board[row - i][col + i] == letter for i in range(4)):\n",
    "                    return True\n",
    "\n",
    "        return False\n",
    "\n",
    "    \n",
    "        \n",
    "    def tossForFirstMove(self):\n",
    "        choices = [1,2]\n",
    "        return random.choice(choices)\n",
    "        \n",
    "    def validateFinalMove(self, SI_Agent_Letter, MinMax_Letter):\n",
    "        return any(self.validateWin(letter) for letter in (SI_Agent_Letter, MinMax_Letter)) or not self.getValidMove()"
   ]
  },
  {
   "cell_type": "code",
   "execution_count": 3,
   "id": "8132d6cc",
   "metadata": {},
   "outputs": [],
   "source": [
    "class QLearning:\n",
    "    def __init__(self):\n",
    "        self.epsilon = 1.0\n",
    "        self.QLearningStates = {}\n",
    "    \n",
    "    getPosition = lambda self, positions: int(''.join([str(int(position)) for position in positions.flatten()]))\n",
    "\n",
    "    def getQLearningValue_For_Action(self, current_board, current_position):\n",
    "        position = self.getPosition(current_board)\n",
    "        if position not in self.QLearningStates:\n",
    "            self.QLearningStates[(position, current_position)] = 0\n",
    "        return self.QLearningStates[(position, current_position)]\n",
    "    \n",
    "    def getBestPositionFromQLearning(self, current_board, possible_positions):\n",
    "        return random.choice(possible_positions) if random.random() < self.epsilon else max([(self.getQLearningValue_For_Action(current_board, position), position) for position in possible_positions], key=lambda x: x[0])[1]\n",
    "            \n",
    "    def loadQLearningModel(self):\n",
    "        with open(\"Connect4QLearningModel.pickle\", \"rb\") as file:\n",
    "            self.QLearningStates = pickle.load(file)\n",
    "            \n",
    "    "
   ]
  },
  {
   "cell_type": "code",
   "execution_count": 4,
   "id": "d7f2f152",
   "metadata": {},
   "outputs": [],
   "source": [
    "class MinMax : \n",
    "    \n",
    "    def evaluate_MinMax_score(self, c4Game, letter, SIAgentLetter, MinMaxLetter):\n",
    "        score = 0\n",
    "        OtherPlayerLetter = MinMaxLetter if letter == SIAgentLetter else SIAgentLetter\n",
    "\n",
    "        for i in range(c4Game.rows):\n",
    "            row_array = [int(x) for x in list(c4Game.connect4_board[i,:])]\n",
    "            col_array = [int(x) for x in list(c4Game.connect4_board[:,i])]\n",
    "            for j in range(c4Game.columns-3):\n",
    "                sub_row = row_array[j:j+4]\n",
    "                sub_col = col_array[j:j+4]\n",
    "                if sub_row.count(letter) == 4:\n",
    "                    score += 1000\n",
    "                elif sub_row.count(letter) == 3 and sub_row.count(0) == 1:\n",
    "                    score += 100\n",
    "                elif sub_row.count(letter) == 2 and sub_row.count(0) == 2:\n",
    "                    score += 10\n",
    "                if sub_row.count(OtherPlayerLetter) == 3 and sub_row.count(0) == 1:\n",
    "                    score -= 10\n",
    "                if sub_col.count(letter) == 4:\n",
    "                    score += 1000\n",
    "                elif sub_col.count(letter) == 3 and sub_col.count(0) == 1:\n",
    "                    score += 100\n",
    "                elif sub_col.count(letter) == 2 and sub_col.count(0) == 2:\n",
    "                    score += 10\n",
    "                if sub_col.count(OtherPlayerLetter) == 3 and sub_col.count(0) == 1:\n",
    "                    score -= 10\n",
    "\n",
    "        for i in range(c4Game.rows-3):\n",
    "            for j in range(c4Game.columns-3):\n",
    "                sub_diagonal1 = [c4Game.connect4_board[i+k][j+k] for k in range(4)]\n",
    "                sub_diagonal2 = [c4Game.connect4_board[i+3-k][j+k] for k in range(4)]\n",
    "                if sub_diagonal1.count(letter) == 4:\n",
    "                    score += 1000\n",
    "                elif sub_diagonal1.count(letter) == 3 and sub_diagonal1.count(0) == 1:\n",
    "                    score += 100\n",
    "                elif sub_diagonal1.count(letter) == 2 and sub_diagonal1.count(0) == 2:\n",
    "                    score += 10\n",
    "                if sub_diagonal1.count(OtherPlayerLetter) == 3 and sub_diagonal1.count(0) == 1:\n",
    "                    score -= 10\n",
    "                if sub_diagonal2.count(letter) == 4:\n",
    "                    score += 1000\n",
    "                elif sub_diagonal2.count(letter) == 3 and sub_diagonal2.count(0) == 1:\n",
    "                    score += 100\n",
    "                elif sub_diagonal2.count(letter) == 2 and sub_diagonal2.count(0) == 2:\n",
    "                    score += 10\n",
    "                if sub_diagonal2.count(OtherPlayerLetter) == 3 and sub_diagonal2.count(0) == 1:\n",
    "                    score -= 10\n",
    "\n",
    "        return score\n",
    "    \n",
    "    def Min_Max_Move_with_alpha_beta_pruning_and_depth(self, c4Game, connect4_board, current_depth, isMinMaxMove, MinMaxLetter, SIAgentLetter, alpha, beta):\n",
    "\n",
    "        if c4Game.validateFinalMove(SIAgentLetter, MinMaxLetter):\n",
    "\n",
    "            if c4Game.validateWin(MinMaxLetter) :\n",
    "                return (None, 10000000)\n",
    "\n",
    "            elif c4Game.validateWin(SIAgentLetter) :\n",
    "                return (None, -10000000)\n",
    "\n",
    "            else:\n",
    "                return (None, 0)\n",
    "\n",
    "        if current_depth == 0 :     \n",
    "            return (None, self.evaluate_MinMax_score(c4Game, MinMaxLetter, SIAgentLetter, MinMaxLetter))\n",
    "\n",
    "\n",
    "        possible_positions = c4Game.getValidMove()\n",
    "\n",
    "        if isMinMaxMove:\n",
    "            optimisedScore = -math.inf\n",
    "            optimisedPosition = random.choice(possible_positions)\n",
    "\n",
    "            for position in possible_positions:\n",
    "                random_row = c4Game.getNextAvailableRow(position)\n",
    "                connect4_board = c4Game.connect4_board.copy()\n",
    "                connect4_board[random_row][position] = MinMaxLetter\n",
    "                current_minmax_score = self.Min_Max_Move_with_alpha_beta_pruning_and_depth(c4Game, connect4_board, current_depth - 1, False, MinMaxLetter, SIAgentLetter, alpha, beta)[1]\n",
    "\n",
    "                if current_minmax_score > optimisedScore:\n",
    "                    optimisedScore = current_minmax_score\n",
    "                    optimisedPosition = position\n",
    "\n",
    "                alpha = max(optimisedScore, alpha)\n",
    "\n",
    "                if alpha >= beta:\n",
    "                    break\n",
    "\n",
    "            return optimisedPosition, optimisedScore\n",
    "\n",
    "        else:\n",
    "            optimisedScore = math.inf\n",
    "            optimisedPosition = random.choice(possible_positions)\n",
    "\n",
    "            for position in possible_positions:\n",
    "                random_row = c4Game.getNextAvailableRow(position)\n",
    "                connect4_board = c4Game.connect4_board.copy()\n",
    "                connect4_board[random_row][position] = MinMaxLetter\n",
    "                current_minmax_score = self.Min_Max_Move_with_alpha_beta_pruning_and_depth(c4Game, connect4_board, current_depth - 1, True, MinMaxLetter, SIAgentLetter, alpha, beta)[1]\n",
    "\n",
    "                if current_minmax_score < optimisedScore:\n",
    "                    optimisedScore = current_minmax_score\n",
    "                    optimisedPosition = position\n",
    "\n",
    "                beta = min(beta, optimisedScore)\n",
    "\n",
    "                if alpha >= beta:\n",
    "                    break\n",
    "\n",
    "        return optimisedPosition, optimisedScore\n",
    "    "
   ]
  },
  {
   "cell_type": "code",
   "execution_count": 5,
   "id": "31ac22cd",
   "metadata": {},
   "outputs": [],
   "source": [
    "\n",
    "def play_connect4(MinMaxPlaysFirst, qLearningPlayer, minmaxPlayer, c4Game):\n",
    "        \n",
    "        QLearningLetter = 1\n",
    "        MinMaxLetter = 2\n",
    "        \n",
    "        while True:\n",
    "            if MinMaxPlaysFirst:\n",
    "                \n",
    "                MinMaxPossible_Positions = c4Game.getValidMove()\n",
    "               \n",
    "                if len(MinMaxPossible_Positions) == 0:\n",
    "                    return \"Draw\"\n",
    "                \n",
    "                minmax_chosen_column, _ = minmaxPlayer.Min_Max_Move_with_alpha_beta_pruning_and_depth(c4Game, c4Game.connect4_board, \n",
    "                                        8, True, MinMaxLetter, QLearningLetter, -math.inf, math.inf)\n",
    "                \n",
    "                minmax_chosen_row = c4Game.getNextAvailableRow(minmax_chosen_column)\n",
    "                c4Game.connect4_board[minmax_chosen_row][minmax_chosen_column] = MinMaxLetter\n",
    "                \n",
    "                if c4Game.validateWin(MinMaxLetter) : \n",
    "                    return \"MinMaxWon\"\n",
    "\n",
    "                if c4Game.validateWin(QLearningLetter):\n",
    "                    return \"QLearningWon\"\n",
    "\n",
    "                if len(c4Game.getValidMove()) == 0 :\n",
    "                    return \"Draw\"\n",
    "\n",
    "                QLearningPossible_Positions = c4Game.getValidMove()\n",
    "                \n",
    "                if len(QLearningPossible_Positions) == 0:\n",
    "                    return \"Draw\"\n",
    "\n",
    "                QLearning_chosen_column = qLearningPlayer.getBestPositionFromQLearning(c4Game.connect4_board, QLearningPossible_Positions)\n",
    "                QLearning_chosen_row = c4Game.getNextAvailableRow(QLearning_chosen_column)\n",
    "                c4Game.connect4_board[QLearning_chosen_row][QLearning_chosen_column] = QLearningLetter\n",
    "\n",
    "                if c4Game.validateWin(QLearningLetter):\n",
    "                    return \"QLearningWon\"\n",
    "                \n",
    "                if c4Game.validateWin(MinMaxLetter) : \n",
    "                    return \"MinMaxWon\"\n",
    "                \n",
    "                if len(c4Game.getValidMove()) == 0 :\n",
    "                    return \"Draw\"\n",
    "\n",
    "            else:\n",
    "                QLearningPossible_Positions = c4Game.getValidMove()\n",
    "                \n",
    "                if len(QLearningPossible_Positions) == 0:\n",
    "                    return \"Draw\"\n",
    "\n",
    "                QLearning_chosen_column = qLearningPlayer.getBestPositionFromQLearning(c4Game.connect4_board, QLearningPossible_Positions)\n",
    "                QLearning_chosen_row = c4Game.getNextAvailableRow(QLearning_chosen_column)\n",
    "                c4Game.connect4_board[QLearning_chosen_row][QLearning_chosen_column] = QLearningLetter\n",
    "\n",
    "                if c4Game.validateWin(QLearningLetter):\n",
    "                    return \"QLearningWon\"\n",
    "                \n",
    "                if c4Game.validateWin(MinMaxLetter) : \n",
    "                    return \"MinMaxWon\"\n",
    "                \n",
    "                if len(c4Game.getValidMove()) == 0 :\n",
    "                    return \"Draw\"\n",
    "\n",
    "\n",
    "                MinMaxPossible_Positions = c4Game.getValidMove()\n",
    "               \n",
    "                if len(MinMaxPossible_Positions) == 0:\n",
    "                    return \"Draw\"\n",
    "                \n",
    "                minmax_chosen_column, _ = minmaxPlayer.Min_Max_Move_with_alpha_beta_pruning_and_depth(c4Game, c4Game.connect4_board, \n",
    "                                        8, True, MinMaxLetter, QLearningLetter, -math.inf, math.inf)\n",
    "                \n",
    "                minmax_chosen_row = c4Game.getNextAvailableRow(minmax_chosen_column)\n",
    "                c4Game.connect4_board[minmax_chosen_row][minmax_chosen_column] = MinMaxLetter\n",
    "                \n",
    "                if c4Game.validateWin(MinMaxLetter) : \n",
    "                    return \"MinMaxWon\"\n",
    "\n",
    "                if c4Game.validateWin(QLearningLetter):\n",
    "                    return \"QLearningWon\"\n",
    "\n",
    "                if len(c4Game.getValidMove()) == 0 :\n",
    "                    return \"Draw\"\n",
    "                "
   ]
  },
  {
   "cell_type": "markdown",
   "id": "c64610f9",
   "metadata": {},
   "source": [
    "### First Move: Random"
   ]
  },
  {
   "cell_type": "code",
   "execution_count": 6,
   "id": "a0d05faa",
   "metadata": {},
   "outputs": [
    {
     "name": "stderr",
     "output_type": "stream",
     "text": [
      "\r",
      "  0%|                                                                                          | 0/200 [00:00<?, ?it/s]"
     ]
    },
    {
     "name": "stdout",
     "output_type": "stream",
     "text": [
      "Current Q Learning model has 11822743 states\n"
     ]
    },
    {
     "name": "stderr",
     "output_type": "stream",
     "text": [
      "100%|████████████████████████████████████████████████████████████████████████████████| 200/200 [06:13<00:00,  1.87s/it]\n"
     ]
    }
   ],
   "source": [
    "games = 200\n",
    "MinMaxWin = QLearningWin = Draw = 0\n",
    "\n",
    "qLearningPlayer = QLearning() \n",
    "qLearningPlayer.loadQLearningModel()\n",
    "\n",
    "minmaxPlayer = MinMax()\n",
    "\n",
    "\n",
    "print(f\"Current Q Learning model has {len(qLearningPlayer.QLearningStates)} states\")\n",
    "\n",
    "for _ in tqdm(range(games)):\n",
    "    c4Game = Connect4_Game()\n",
    "    c4Game.initialise_board()\n",
    "    \n",
    "    MinMaxPlaysFirst = False\n",
    "    if c4Game.tossForFirstMove() == 1 :\n",
    "        MinMaxPlaysFirst = True\n",
    "    else : \n",
    "        MinMaxPlaysFirst = False\n",
    "    \n",
    "    winner = play_connect4(MinMaxPlaysFirst, qLearningPlayer, minmaxPlayer, c4Game)\n",
    "    \n",
    "    if winner == 'QLearningWon':\n",
    "        QLearningWin += 1\n",
    "    elif winner == 'MinMaxWon':\n",
    "        MinMaxWin += 1\n",
    "    else:\n",
    "        Draw += 1\n",
    "\n"
   ]
  },
  {
   "cell_type": "code",
   "execution_count": 8,
   "id": "04c3cee6",
   "metadata": {},
   "outputs": [
    {
     "data": {
      "text/html": [
       "<style  type=\"text/css\" >\n",
       "#T_ef3b5_row0_col0,#T_ef3b5_row0_col1,#T_ef3b5_row0_col2,#T_ef3b5_row0_col3,#T_ef3b5_row0_col4{\n",
       "            white-space: nowrap;\n",
       "        }</style><table id=\"T_ef3b5_\" ><thead>    <tr>        <th class=\"blank level0\" ></th>        <th class=\"col_heading level0 col0\" >Game Type</th>        <th class=\"col_heading level0 col1\" >Total Number of Games</th>        <th class=\"col_heading level0 col2\" >Number of Games QLearning Won</th>        <th class=\"col_heading level0 col3\" >Number of Games MinMax Won</th>        <th class=\"col_heading level0 col4\" >Number of Games Drawn</th>    </tr></thead><tbody>\n",
       "                <tr>\n",
       "                        <th id=\"T_ef3b5_level0_row0\" class=\"row_heading level0 row0\" >0</th>\n",
       "                        <td id=\"T_ef3b5_row0_col0\" class=\"data row0 col0\" >First Move: Random </td>\n",
       "                        <td id=\"T_ef3b5_row0_col1\" class=\"data row0 col1\" >200</td>\n",
       "                        <td id=\"T_ef3b5_row0_col2\" class=\"data row0 col2\" >40</td>\n",
       "                        <td id=\"T_ef3b5_row0_col3\" class=\"data row0 col3\" >125</td>\n",
       "                        <td id=\"T_ef3b5_row0_col4\" class=\"data row0 col4\" >35</td>\n",
       "            </tr>\n",
       "    </tbody></table>"
      ],
      "text/plain": [
       "<pandas.io.formats.style.Styler at 0x15b7edcef10>"
      ]
     },
     "metadata": {},
     "output_type": "display_data"
    }
   ],
   "source": [
    "statistics_df = pd.DataFrame(columns=['Game Type', 'Total Number of Games', 'Number of Games QLearning Won', 'Number of Games MinMax Won', 'Number of Games Drawn'])\n",
    "statistics_dict = {}\n",
    "statistics_dict['Game Type'] = 'First Move: Random '\n",
    "statistics_dict['Total Number of Games'] = games\n",
    "statistics_dict['Number of Games QLearning Won'] = QLearningWin\n",
    "statistics_dict['Number of Games MinMax Won'] = MinMaxWin\n",
    "statistics_dict['Number of Games Drawn'] = Draw\n",
    "statistics_df = statistics_df.append(statistics_dict, ignore_index = True)\n",
    "statistics_df = statistics_df.style.applymap(lambda x:'white-space:nowrap')\n",
    "display(statistics_df)"
   ]
  },
  {
   "cell_type": "markdown",
   "id": "c751b0c3",
   "metadata": {},
   "source": [
    "### First Move: Always Q-Learning Player"
   ]
  },
  {
   "cell_type": "code",
   "execution_count": 9,
   "id": "7941f829",
   "metadata": {},
   "outputs": [
    {
     "name": "stderr",
     "output_type": "stream",
     "text": [
      "  0%|▍                                                                                 | 1/200 [00:02<09:40,  2.92s/it]"
     ]
    },
    {
     "name": "stdout",
     "output_type": "stream",
     "text": [
      "Current Q Learning model has 11822743 states\n"
     ]
    },
    {
     "name": "stderr",
     "output_type": "stream",
     "text": [
      "100%|████████████████████████████████████████████████████████████████████████████████| 200/200 [06:21<00:00,  1.91s/it]\n"
     ]
    }
   ],
   "source": [
    "games = 200\n",
    "MinMaxWin = QLearningWin = Draw = 0\n",
    "\n",
    "qLearningPlayer = QLearning() \n",
    "qLearningPlayer.loadQLearningModel()\n",
    "\n",
    "minmaxPlayer = MinMax()\n",
    "\n",
    "\n",
    "print(f\"Current Q Learning model has {len(qLearningPlayer.QLearningStates)} states\")\n",
    "\n",
    "for _ in tqdm(range(games)):\n",
    "    c4Game = Connect4_Game()\n",
    "    c4Game.initialise_board()\n",
    "    \n",
    "    MinMaxPlaysFirst = False\n",
    "    \n",
    "    winner = play_connect4(MinMaxPlaysFirst, qLearningPlayer, minmaxPlayer, c4Game)\n",
    "    \n",
    "    if winner == 'QLearningWon':\n",
    "        QLearningWin += 1\n",
    "    elif winner == 'MinMaxWon':\n",
    "        MinMaxWin += 1\n",
    "    else:\n",
    "        Draw += 1\n",
    "\n"
   ]
  },
  {
   "cell_type": "code",
   "execution_count": 11,
   "id": "e5454fb1",
   "metadata": {},
   "outputs": [
    {
     "data": {
      "text/html": [
       "<style  type=\"text/css\" >\n",
       "#T_58703_row0_col0,#T_58703_row0_col1,#T_58703_row0_col2,#T_58703_row0_col3,#T_58703_row0_col4{\n",
       "            white-space: nowrap;\n",
       "        }</style><table id=\"T_58703_\" ><thead>    <tr>        <th class=\"blank level0\" ></th>        <th class=\"col_heading level0 col0\" >Game Type</th>        <th class=\"col_heading level0 col1\" >Total Number of Games</th>        <th class=\"col_heading level0 col2\" >Number of Games QLearning Won</th>        <th class=\"col_heading level0 col3\" >Number of Games MinMax Won</th>        <th class=\"col_heading level0 col4\" >Number of Games Drawn</th>    </tr></thead><tbody>\n",
       "                <tr>\n",
       "                        <th id=\"T_58703_level0_row0\" class=\"row_heading level0 row0\" >0</th>\n",
       "                        <td id=\"T_58703_row0_col0\" class=\"data row0 col0\" >First Move: Q-Learning Player</td>\n",
       "                        <td id=\"T_58703_row0_col1\" class=\"data row0 col1\" >200</td>\n",
       "                        <td id=\"T_58703_row0_col2\" class=\"data row0 col2\" >69</td>\n",
       "                        <td id=\"T_58703_row0_col3\" class=\"data row0 col3\" >98</td>\n",
       "                        <td id=\"T_58703_row0_col4\" class=\"data row0 col4\" >33</td>\n",
       "            </tr>\n",
       "    </tbody></table>"
      ],
      "text/plain": [
       "<pandas.io.formats.style.Styler at 0x15b39af34c0>"
      ]
     },
     "metadata": {},
     "output_type": "display_data"
    }
   ],
   "source": [
    "statistics_df = pd.DataFrame(columns=['Game Type', 'Total Number of Games', 'Number of Games QLearning Won', 'Number of Games MinMax Won', 'Number of Games Drawn'])\n",
    "statistics_dict = {}\n",
    "statistics_dict['Game Type'] = 'First Move: Q-Learning Player'\n",
    "statistics_dict['Total Number of Games'] = games\n",
    "statistics_dict['Number of Games QLearning Won'] = QLearningWin\n",
    "statistics_dict['Number of Games MinMax Won'] = MinMaxWin\n",
    "statistics_dict['Number of Games Drawn'] = Draw\n",
    "statistics_df = statistics_df.append(statistics_dict, ignore_index = True)\n",
    "statistics_df = statistics_df.style.applymap(lambda x:'white-space:nowrap')\n",
    "display(statistics_df)"
   ]
  },
  {
   "cell_type": "markdown",
   "id": "d11ae068",
   "metadata": {},
   "source": [
    "### First Move: Always Min-Max Player"
   ]
  },
  {
   "cell_type": "code",
   "execution_count": 12,
   "id": "7609e401",
   "metadata": {},
   "outputs": [
    {
     "name": "stderr",
     "output_type": "stream",
     "text": [
      "\r",
      "  0%|                                                                                          | 0/200 [00:00<?, ?it/s]"
     ]
    },
    {
     "name": "stdout",
     "output_type": "stream",
     "text": [
      "Current Q Learning model has 11822743 states\n"
     ]
    },
    {
     "name": "stderr",
     "output_type": "stream",
     "text": [
      "100%|████████████████████████████████████████████████████████████████████████████████| 200/200 [06:22<00:00,  1.91s/it]\n"
     ]
    }
   ],
   "source": [
    "games = 200\n",
    "MinMaxWin = QLearningWin = Draw = 0\n",
    "\n",
    "qLearningPlayer = QLearning() \n",
    "qLearningPlayer.loadQLearningModel()\n",
    "\n",
    "minmaxPlayer = MinMax()\n",
    "\n",
    "\n",
    "print(f\"Current Q Learning model has {len(qLearningPlayer.QLearningStates)} states\")\n",
    "\n",
    "for _ in tqdm(range(games)):\n",
    "    c4Game = Connect4_Game()\n",
    "    c4Game.initialise_board()\n",
    "    \n",
    "    MinMaxPlaysFirst = True\n",
    "    \n",
    "    winner = play_connect4(MinMaxPlaysFirst, qLearningPlayer, minmaxPlayer, c4Game)\n",
    "    \n",
    "    if winner == 'QLearningWon':\n",
    "        QLearningWin += 1\n",
    "    elif winner == 'MinMaxWon':\n",
    "        MinMaxWin += 1\n",
    "    else:\n",
    "        Draw += 1\n",
    "\n"
   ]
  },
  {
   "cell_type": "code",
   "execution_count": 14,
   "id": "32fa7ab3",
   "metadata": {},
   "outputs": [
    {
     "data": {
      "text/html": [
       "<style  type=\"text/css\" >\n",
       "#T_31947_row0_col0,#T_31947_row0_col1,#T_31947_row0_col2,#T_31947_row0_col3,#T_31947_row0_col4{\n",
       "            white-space: nowrap;\n",
       "        }</style><table id=\"T_31947_\" ><thead>    <tr>        <th class=\"blank level0\" ></th>        <th class=\"col_heading level0 col0\" >Game Type</th>        <th class=\"col_heading level0 col1\" >Total Number of Games</th>        <th class=\"col_heading level0 col2\" >Number of Games QLearning Won</th>        <th class=\"col_heading level0 col3\" >Number of Games MinMax Won</th>        <th class=\"col_heading level0 col4\" >Number of Games Drawn</th>    </tr></thead><tbody>\n",
       "                <tr>\n",
       "                        <th id=\"T_31947_level0_row0\" class=\"row_heading level0 row0\" >0</th>\n",
       "                        <td id=\"T_31947_row0_col0\" class=\"data row0 col0\" >First Move: Min-Max Player</td>\n",
       "                        <td id=\"T_31947_row0_col1\" class=\"data row0 col1\" >200</td>\n",
       "                        <td id=\"T_31947_row0_col2\" class=\"data row0 col2\" >8</td>\n",
       "                        <td id=\"T_31947_row0_col3\" class=\"data row0 col3\" >167</td>\n",
       "                        <td id=\"T_31947_row0_col4\" class=\"data row0 col4\" >25</td>\n",
       "            </tr>\n",
       "    </tbody></table>"
      ],
      "text/plain": [
       "<pandas.io.formats.style.Styler at 0x15b39c43370>"
      ]
     },
     "metadata": {},
     "output_type": "display_data"
    }
   ],
   "source": [
    "statistics_df = pd.DataFrame(columns=['Game Type', 'Total Number of Games', 'Number of Games QLearning Won', 'Number of Games MinMax Won', 'Number of Games Drawn'])\n",
    "statistics_dict = {}\n",
    "statistics_dict['Game Type'] = 'First Move: Min-Max Player'\n",
    "statistics_dict['Total Number of Games'] = games\n",
    "statistics_dict['Number of Games QLearning Won'] = QLearningWin\n",
    "statistics_dict['Number of Games MinMax Won'] = MinMaxWin\n",
    "statistics_dict['Number of Games Drawn'] = Draw\n",
    "statistics_df = statistics_df.append(statistics_dict, ignore_index = True)\n",
    "statistics_df = statistics_df.style.applymap(lambda x:'white-space:nowrap')\n",
    "display(statistics_df)"
   ]
  },
  {
   "cell_type": "code",
   "execution_count": null,
   "id": "65b2c2be",
   "metadata": {},
   "outputs": [],
   "source": []
  }
 ],
 "metadata": {
  "kernelspec": {
   "display_name": "Python 3",
   "language": "python",
   "name": "python3"
  },
  "language_info": {
   "codemirror_mode": {
    "name": "ipython",
    "version": 3
   },
   "file_extension": ".py",
   "mimetype": "text/x-python",
   "name": "python",
   "nbconvert_exporter": "python",
   "pygments_lexer": "ipython3",
   "version": "3.8.8"
  }
 },
 "nbformat": 4,
 "nbformat_minor": 5
}
