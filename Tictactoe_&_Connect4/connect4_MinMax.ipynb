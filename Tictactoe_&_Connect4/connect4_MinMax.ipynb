{
 "cells": [
  {
   "cell_type": "code",
   "execution_count": 1,
   "id": "1ded47af",
   "metadata": {},
   "outputs": [],
   "source": [
    "import random\n",
    "import math\n",
    "from IPython.display import display\n",
    "import pandas as pd\n",
    "from tqdm import tqdm\n",
    "import pickle\n",
    "import numpy as np\n",
    "import time"
   ]
  },
  {
   "cell_type": "code",
   "execution_count": 2,
   "id": "7d08da56",
   "metadata": {},
   "outputs": [],
   "source": [
    "class Connect4_Game:\n",
    "    \n",
    "    def initialise_board(self) : \n",
    "        self.rows = 6\n",
    "        self.columns = 7\n",
    "        self.connect4_board = np.zeros((self.rows, self.columns))\n",
    "    \n",
    "    validateMove = lambda self, column: self.connect4_board[len(self.connect4_board)-1][column] == 0\n",
    "    \n",
    "    getNextAvailableRow = lambda self, column: next((row for row in range(len(self.connect4_board)) if self.connect4_board[row][column] == 0), None)\n",
    "\n",
    "    getValidMove = lambda self: [column for column in range(self.columns) if self.validateMove(column)]\n",
    "\n",
    "    def getNextAvailablePosition(self, letter):\n",
    "        rows, cols = self.rows, self.columns\n",
    "        for row, row_vals in enumerate(self.connect4_board):\n",
    "            for col, col_val in enumerate(row_vals[:-3]):\n",
    "                if all(elem == letter for elem in row_vals[col:col+4]):\n",
    "                    return row, col\n",
    "            for col, col_vals in zip(range(cols), (self.connect4_board[r][col] for r in range(row, min(row+4, rows)))):\n",
    "                if all(elem == letter for elem in col_vals):\n",
    "                    return row, col\n",
    "            for col, col_vals in enumerate(row_vals[:-3]):\n",
    "                if row < rows-3 and col < cols-3:\n",
    "                    diag_vals = [self.connect4_board[row+i][col+i] for i in range(4)]\n",
    "                    if all(elem == letter for elem in diag_vals):\n",
    "                        return row, col\n",
    "            for col, col_vals in enumerate(row_vals[:-3]):\n",
    "                if row >= 3 and col < cols-3:\n",
    "                    diag_vals = [self.connect4_board[row-i][col+i] for i in range(4)]\n",
    "                    if all(elem == letter for elem in diag_vals):\n",
    "                        return row, col\n",
    "        else:\n",
    "            return -1, -1\n",
    "\n",
    "    \n",
    "\n",
    "    def validateWin(self, letter):\n",
    "        for row in range(self.rows):\n",
    "            for col in range(self.columns - 3):\n",
    "                if all(self.connect4_board[row][col + i] == letter for i in range(4)):\n",
    "                    return True\n",
    "\n",
    "        for row in range(self.rows - 3):\n",
    "            for col in range(self.columns):\n",
    "                if all(self.connect4_board[row + i][col] == letter for i in range(4)):\n",
    "                    return True\n",
    "\n",
    "        for row in range(self.rows - 3):\n",
    "            for col in range(self.columns - 3):\n",
    "                if all(self.connect4_board[row + i][col + i] == letter for i in range(4)):\n",
    "                    return True\n",
    "\n",
    "        for row in range(3, self.rows):\n",
    "            for col in range(self.columns - 3):\n",
    "                if all(self.connect4_board[row - i][col + i] == letter for i in range(4)):\n",
    "                    return True\n",
    "\n",
    "        return False\n",
    "\n",
    "    \n",
    "        \n",
    "    def tossForFirstMove(self):\n",
    "        choices = [1,2]\n",
    "        return random.choice(choices)\n",
    "        \n",
    "    def validateFinalMove(self, SI_Agent_Letter, MinMax_Letter):\n",
    "        return any(self.validateWin(letter) for letter in (SI_Agent_Letter, MinMax_Letter)) or not self.getValidMove()"
   ]
  },
  {
   "cell_type": "code",
   "execution_count": 3,
   "id": "821e2d4f",
   "metadata": {},
   "outputs": [],
   "source": [
    "class MinMax : \n",
    "    \n",
    "    def evaluate_MinMax_score(self, c4Game, letter, SIAgentLetter, MinMaxLetter):\n",
    "        score = 0\n",
    "        OtherPlayerLetter = MinMaxLetter if letter == SIAgentLetter else SIAgentLetter\n",
    "\n",
    "        for i in range(c4Game.rows):\n",
    "            row_array = [int(x) for x in list(c4Game.connect4_board[i,:])]\n",
    "            col_array = [int(x) for x in list(c4Game.connect4_board[:,i])]\n",
    "            for j in range(c4Game.columns-3):\n",
    "                sub_row = row_array[j:j+4]\n",
    "                sub_col = col_array[j:j+4]\n",
    "                if sub_row.count(letter) == 4:\n",
    "                    score += 1000\n",
    "                elif sub_row.count(letter) == 3 and sub_row.count(0) == 1:\n",
    "                    score += 100\n",
    "                elif sub_row.count(letter) == 2 and sub_row.count(0) == 2:\n",
    "                    score += 10\n",
    "                if sub_row.count(OtherPlayerLetter) == 3 and sub_row.count(0) == 1:\n",
    "                    score -= 10\n",
    "                if sub_col.count(letter) == 4:\n",
    "                    score += 1000\n",
    "                elif sub_col.count(letter) == 3 and sub_col.count(0) == 1:\n",
    "                    score += 100\n",
    "                elif sub_col.count(letter) == 2 and sub_col.count(0) == 2:\n",
    "                    score += 10\n",
    "                if sub_col.count(OtherPlayerLetter) == 3 and sub_col.count(0) == 1:\n",
    "                    score -= 10\n",
    "\n",
    "        for i in range(c4Game.rows-3):\n",
    "            for j in range(c4Game.columns-3):\n",
    "                sub_diagonal1 = [c4Game.connect4_board[i+k][j+k] for k in range(4)]\n",
    "                sub_diagonal2 = [c4Game.connect4_board[i+3-k][j+k] for k in range(4)]\n",
    "                if sub_diagonal1.count(letter) == 4:\n",
    "                    score += 1000\n",
    "                elif sub_diagonal1.count(letter) == 3 and sub_diagonal1.count(0) == 1:\n",
    "                    score += 100\n",
    "                elif sub_diagonal1.count(letter) == 2 and sub_diagonal1.count(0) == 2:\n",
    "                    score += 10\n",
    "                if sub_diagonal1.count(OtherPlayerLetter) == 3 and sub_diagonal1.count(0) == 1:\n",
    "                    score -= 10\n",
    "                if sub_diagonal2.count(letter) == 4:\n",
    "                    score += 1000\n",
    "                elif sub_diagonal2.count(letter) == 3 and sub_diagonal2.count(0) == 1:\n",
    "                    score += 100\n",
    "                elif sub_diagonal2.count(letter) == 2 and sub_diagonal2.count(0) == 2:\n",
    "                    score += 10\n",
    "                if sub_diagonal2.count(OtherPlayerLetter) == 3 and sub_diagonal2.count(0) == 1:\n",
    "                    score -= 10\n",
    "\n",
    "        return score\n",
    "    \n",
    "    def Min_Max_Move_with_alpha_beta_pruning_and_depth(self, c4Game, connect4_board, current_depth, isMinMaxMove, MinMaxLetter, SIAgentLetter, alpha, beta):\n",
    "\n",
    "        if c4Game.validateFinalMove(SIAgentLetter, MinMaxLetter):\n",
    "\n",
    "            if c4Game.validateWin(MinMaxLetter) :\n",
    "                return (None, 10000000)\n",
    "\n",
    "            elif c4Game.validateWin(SIAgentLetter) :\n",
    "                return (None, -10000000)\n",
    "\n",
    "            else:\n",
    "                return (None, 0)\n",
    "\n",
    "        if current_depth == 0 :     \n",
    "            return (None, self.evaluate_MinMax_score(c4Game, MinMaxLetter, SIAgentLetter, MinMaxLetter))\n",
    "\n",
    "\n",
    "        possible_positions = c4Game.getValidMove()\n",
    "\n",
    "        if isMinMaxMove:\n",
    "            optimisedScore = -math.inf\n",
    "            optimisedPosition = random.choice(possible_positions)\n",
    "\n",
    "            for position in possible_positions:\n",
    "                random_row = c4Game.getNextAvailableRow(position)\n",
    "                connect4_board = c4Game.connect4_board.copy()\n",
    "                connect4_board[random_row][position] = MinMaxLetter\n",
    "                current_minmax_score = self.Min_Max_Move_with_alpha_beta_pruning_and_depth(c4Game, connect4_board, current_depth - 1, False, MinMaxLetter, SIAgentLetter, alpha, beta)[1]\n",
    "\n",
    "                if current_minmax_score > optimisedScore:\n",
    "                    optimisedScore = current_minmax_score\n",
    "                    optimisedPosition = position\n",
    "\n",
    "                alpha = max(optimisedScore, alpha)\n",
    "\n",
    "                if alpha >= beta:\n",
    "                    break\n",
    "\n",
    "            return optimisedPosition, optimisedScore\n",
    "\n",
    "        else:\n",
    "            optimisedScore = math.inf\n",
    "            optimisedPosition = random.choice(possible_positions)\n",
    "\n",
    "            for position in possible_positions:\n",
    "                random_row = c4Game.getNextAvailableRow(position)\n",
    "                connect4_board = c4Game.connect4_board.copy()\n",
    "                connect4_board[random_row][position] = MinMaxLetter\n",
    "                current_minmax_score = self.Min_Max_Move_with_alpha_beta_pruning_and_depth(c4Game, connect4_board, current_depth - 1, True, MinMaxLetter, SIAgentLetter, alpha, beta)[1]\n",
    "\n",
    "                if current_minmax_score < optimisedScore:\n",
    "                    optimisedScore = current_minmax_score\n",
    "                    optimisedPosition = position\n",
    "\n",
    "                beta = min(beta, optimisedScore)\n",
    "\n",
    "                if alpha >= beta:\n",
    "                    break\n",
    "\n",
    "        return optimisedPosition, optimisedScore\n",
    "    \n"
   ]
  },
  {
   "cell_type": "code",
   "execution_count": 4,
   "id": "884fcd49",
   "metadata": {},
   "outputs": [],
   "source": [
    "class SI_Agent : \n",
    "    \n",
    "    def Semi_Intelligent_Agent_Move(self, c4_game, SIAgentLetter, MinMaxLetter) : \n",
    "        if c4_game.validateFinalMove(SIAgentLetter, MinMaxLetter):\n",
    "            siagent_row, siagent_col = c4_game.getNextAvailablePosotion(SIAgentLetter)\n",
    "            if siagent_row != -1:\n",
    "                return siagent_row, siagent_col\n",
    "            else:\n",
    "                minmax_row, minmax_col = c4_game.getNextAvailablePosotion(MinMaxLetter)\n",
    "                if minmax_row != -1:\n",
    "                    return minmax_row, minmax_col\n",
    "                else:\n",
    "                    possible_positions = c4_game.getValidMove()\n",
    "                    random_row = c4_game.getNextAvailableRow(random.choice(possible_positions))\n",
    "                    random_col = random.choice(possible_positions)\n",
    "                    return random_row, random_col\n",
    "        else:\n",
    "            possible_positions = c4_game.getValidMove()\n",
    "            random_row = c4_game.getNextAvailableRow(random.choice(possible_positions)) \n",
    "            random_col = random.choice(possible_positions)\n",
    "\n",
    "            return random_row, random_col"
   ]
  },
  {
   "cell_type": "code",
   "execution_count": 27,
   "id": "5c5a6f0e",
   "metadata": {},
   "outputs": [],
   "source": [
    "def play_connect4(SIAgent_plays_first, minmax_agent, si_agent, c4_game) : \n",
    "    MinMaxLetter = 1\n",
    "    SIAgentLetter = 2\n",
    "    isGameOver = False\n",
    "    gameWinner = ''\n",
    "    while not isGameOver : \n",
    "        \n",
    "        if SIAgent_plays_first : \n",
    "            \n",
    "            si_chosen_row, si_chosen_column = si_agent.Semi_Intelligent_Agent_Move(c4_game, SIAgentLetter, MinMaxLetter)\n",
    "            \n",
    "            if c4_game.validateMove(si_chosen_column-1):\n",
    "                SIAgent_plays_first = False\n",
    "                c4_game.connect4_board[si_chosen_row][si_chosen_column] = SIAgentLetter\n",
    "                \n",
    "                if c4_game.validateWin(SIAgentLetter):\n",
    "                    isGameOver = True\n",
    "                    gameWinner = 'SIAgentWon'\n",
    "                    \n",
    "            else:\n",
    "                continue\n",
    "        else:\n",
    "            \n",
    "            minmax_chosen_column, _ = minmax_agent.Min_Max_Move_with_alpha_beta_pruning_and_depth(c4_game, c4_game.connect4_board, \n",
    "                                        6, True, MinMaxLetter, SIAgentLetter, -math.inf, math.inf)\n",
    "\n",
    "\n",
    "            if c4_game.validateMove(minmax_chosen_column):\n",
    "                SIAgent_plays_first = True\n",
    "                minmax_chosen_row = c4_game.getNextAvailableRow(minmax_chosen_column)\n",
    "                c4_game.connect4_board[minmax_chosen_row][minmax_chosen_column] = MinMaxLetter\n",
    "\n",
    "                if c4_game.validateWin(MinMaxLetter):\n",
    "                    isGameOver = True\n",
    "                    gameWinner = 'MinMaxWon'\n",
    "\n",
    "            else:\n",
    "                continue\n",
    "    \n",
    "    return gameWinner if gameWinner != '' else 'Draw'\n",
    "\n",
    "    "
   ]
  },
  {
   "cell_type": "markdown",
   "id": "157840e8",
   "metadata": {},
   "source": [
    "### Min-Max Depth comparison for time"
   ]
  },
  {
   "cell_type": "markdown",
   "id": "8602cfbf",
   "metadata": {},
   "source": [
    "#### Depth = 8, First Move: Random"
   ]
  },
  {
   "cell_type": "code",
   "execution_count": 6,
   "id": "dec832fd",
   "metadata": {},
   "outputs": [
    {
     "name": "stderr",
     "output_type": "stream",
     "text": [
      "100%|████████████████████████████████████████████████████████████████████████████████| 100/100 [15:52<00:00,  9.53s/it]\n"
     ]
    }
   ],
   "source": [
    "games = 100\n",
    "SIAgentWin = 0\n",
    "MinMaxWin = 0\n",
    "Draw = 0\n",
    "\n",
    "minmax_agent = MinMax()\n",
    "si_agent = SI_Agent()\n",
    "\n",
    "startTime = time.time()\n",
    "\n",
    "for _ in tqdm(range(games)):\n",
    "    c4_game = Connect4_Game()\n",
    "    c4_game.initialise_board()\n",
    "    \n",
    "    SIAgent_plays_first = False\n",
    "    if c4_game.tossForFirstMove() == 1 :\n",
    "        SIAgent_plays_first = True\n",
    "    else : \n",
    "        SIAgent_plays_first = False\n",
    "    \n",
    "    try:\n",
    "        winner = play_connect4(SIAgent_plays_first, minmax_agent, si_agent, c4_game)\n",
    "    except:\n",
    "        continue\n",
    "        \n",
    "    if winner == 'MinMaxWon':\n",
    "        MinMaxWin += 1\n",
    "    elif winner == 'SIAgentWon':\n",
    "        SIAgentWin += 1\n",
    "    else:\n",
    "        Draw += 1\n",
    "        \n",
    "totalTime = time.time()-startTime"
   ]
  },
  {
   "cell_type": "code",
   "execution_count": 15,
   "id": "4303585a",
   "metadata": {},
   "outputs": [
    {
     "data": {
      "text/html": [
       "<style  type=\"text/css\" >\n",
       "#T_9a2dc_row0_col0,#T_9a2dc_row0_col1,#T_9a2dc_row0_col2,#T_9a2dc_row0_col3,#T_9a2dc_row0_col4,#T_9a2dc_row0_col5{\n",
       "            white-space: nowrap;\n",
       "        }</style><table id=\"T_9a2dc_\" ><thead>    <tr>        <th class=\"blank level0\" ></th>        <th class=\"col_heading level0 col0\" >Game Type</th>        <th class=\"col_heading level0 col1\" >Total Number of Games</th>        <th class=\"col_heading level0 col2\" >Time taken (in seconds) with Depth = 8</th>        <th class=\"col_heading level0 col3\" >Number of Games MinMax Won</th>        <th class=\"col_heading level0 col4\" >Number of Games Semi-Intelligent player Won</th>        <th class=\"col_heading level0 col5\" >Number of Games Drawn</th>    </tr></thead><tbody>\n",
       "                <tr>\n",
       "                        <th id=\"T_9a2dc_level0_row0\" class=\"row_heading level0 row0\" >0</th>\n",
       "                        <td id=\"T_9a2dc_row0_col0\" class=\"data row0 col0\" >First Move: Random</td>\n",
       "                        <td id=\"T_9a2dc_row0_col1\" class=\"data row0 col1\" >100</td>\n",
       "                        <td id=\"T_9a2dc_row0_col2\" class=\"data row0 col2\" >956.590000</td>\n",
       "                        <td id=\"T_9a2dc_row0_col3\" class=\"data row0 col3\" >87</td>\n",
       "                        <td id=\"T_9a2dc_row0_col4\" class=\"data row0 col4\" >2</td>\n",
       "                        <td id=\"T_9a2dc_row0_col5\" class=\"data row0 col5\" >11</td>\n",
       "            </tr>\n",
       "    </tbody></table>"
      ],
      "text/plain": [
       "<pandas.io.formats.style.Styler at 0x21543469250>"
      ]
     },
     "metadata": {},
     "output_type": "display_data"
    }
   ],
   "source": [
    "statistics_df = pd.DataFrame(columns=['Game Type', 'Total Number of Games', 'Time taken (in seconds) with Depth = 8', 'Number of Games MinMax Won', 'Number of Games Semi-Intelligent player Won', 'Number of Games Drawn'])\n",
    "statistics_dict = {}\n",
    "statistics_dict['Game Type'] = 'First Move: Random'\n",
    "statistics_dict['Total Number of Games'] = games\n",
    "statistics_dict['Time taken (in seconds) with Depth = 8'] = totalTime\n",
    "statistics_dict['Number of Games MinMax Won'] = MinMaxWin\n",
    "statistics_dict['Number of Games Semi-Intelligent player Won'] = SIAgentWin\n",
    "statistics_dict['Number of Games Drawn'] = Draw\n",
    "statistics_df = statistics_df.append(statistics_dict, ignore_index = True)\n",
    "statistics_df = statistics_df.style.applymap(lambda x:'white-space:nowrap')\n",
    "display(statistics_df)"
   ]
  },
  {
   "cell_type": "markdown",
   "id": "eac8b8e9",
   "metadata": {},
   "source": [
    "#### Depth = 8, First Move: Always Min-Max"
   ]
  },
  {
   "cell_type": "code",
   "execution_count": 8,
   "id": "93e71c2f",
   "metadata": {},
   "outputs": [
    {
     "name": "stderr",
     "output_type": "stream",
     "text": [
      "100%|████████████████████████████████████████████████████████████████████████████████| 100/100 [15:29<00:00,  9.29s/it]\n"
     ]
    }
   ],
   "source": [
    "games = 100\n",
    "SIAgentWin = 0\n",
    "MinMaxWin = 0\n",
    "Draw = 0\n",
    "\n",
    "minmax_agent = MinMax()\n",
    "si_agent = SI_Agent()\n",
    "\n",
    "startTime = time.time()\n",
    "\n",
    "for _ in tqdm(range(games)):\n",
    "    c4_game = Connect4_Game()\n",
    "    c4_game.initialise_board()\n",
    "    \n",
    "    SIAgent_plays_first = False\n",
    "    \n",
    "    try:\n",
    "        winner = play_connect4(SIAgent_plays_first, minmax_agent, si_agent, c4_game)\n",
    "    except:\n",
    "        continue\n",
    "        \n",
    "    if winner == 'MinMaxWon':\n",
    "        MinMaxWin += 1\n",
    "    elif winner == 'SIAgentWon':\n",
    "        SIAgentWin += 1\n",
    "    else:\n",
    "        Draw += 1\n",
    "        \n",
    "totalTime = time.time()-startTime"
   ]
  },
  {
   "cell_type": "code",
   "execution_count": 16,
   "id": "f551ae79",
   "metadata": {},
   "outputs": [
    {
     "data": {
      "text/html": [
       "<style  type=\"text/css\" >\n",
       "#T_553cf_row0_col0,#T_553cf_row0_col1,#T_553cf_row0_col2,#T_553cf_row0_col3,#T_553cf_row0_col4,#T_553cf_row0_col5{\n",
       "            white-space: nowrap;\n",
       "        }</style><table id=\"T_553cf_\" ><thead>    <tr>        <th class=\"blank level0\" ></th>        <th class=\"col_heading level0 col0\" >Game Type</th>        <th class=\"col_heading level0 col1\" >Total Number of Games</th>        <th class=\"col_heading level0 col2\" >Time taken (in seconds) with Depth = 8</th>        <th class=\"col_heading level0 col3\" >Number of Games MinMax Won</th>        <th class=\"col_heading level0 col4\" >Number of Games Semi-Intelligent player Won</th>        <th class=\"col_heading level0 col5\" >Number of Games Drawn</th>    </tr></thead><tbody>\n",
       "                <tr>\n",
       "                        <th id=\"T_553cf_level0_row0\" class=\"row_heading level0 row0\" >0</th>\n",
       "                        <td id=\"T_553cf_row0_col0\" class=\"data row0 col0\" >First Move: MinMax Player</td>\n",
       "                        <td id=\"T_553cf_row0_col1\" class=\"data row0 col1\" >100</td>\n",
       "                        <td id=\"T_553cf_row0_col2\" class=\"data row0 col2\" >929.250072</td>\n",
       "                        <td id=\"T_553cf_row0_col3\" class=\"data row0 col3\" >95</td>\n",
       "                        <td id=\"T_553cf_row0_col4\" class=\"data row0 col4\" >0</td>\n",
       "                        <td id=\"T_553cf_row0_col5\" class=\"data row0 col5\" >5</td>\n",
       "            </tr>\n",
       "    </tbody></table>"
      ],
      "text/plain": [
       "<pandas.io.formats.style.Styler at 0x21543469a00>"
      ]
     },
     "metadata": {},
     "output_type": "display_data"
    }
   ],
   "source": [
    "statistics_df = pd.DataFrame(columns=['Game Type', 'Total Number of Games', 'Time taken (in seconds) with Depth = 8', 'Number of Games MinMax Won', 'Number of Games Semi-Intelligent player Won', 'Number of Games Drawn'])\n",
    "statistics_dict = {}\n",
    "statistics_dict['Game Type'] = 'First Move: MinMax Player'\n",
    "statistics_dict['Total Number of Games'] = games\n",
    "statistics_dict['Time taken (in seconds) with Depth = 8'] = totalTime\n",
    "statistics_dict['Number of Games MinMax Won'] = MinMaxWin\n",
    "statistics_dict['Number of Games Semi-Intelligent player Won'] = SIAgentWin\n",
    "statistics_dict['Number of Games Drawn'] = Draw\n",
    "statistics_df = statistics_df.append(statistics_dict, ignore_index = True)\n",
    "statistics_df = statistics_df.style.applymap(lambda x:'white-space:nowrap')\n",
    "display(statistics_df)"
   ]
  },
  {
   "cell_type": "markdown",
   "id": "3ff106d5",
   "metadata": {},
   "source": [
    "#### Depth = 8, First Move: Always Semi-Intelligent Agent "
   ]
  },
  {
   "cell_type": "code",
   "execution_count": 10,
   "id": "de665464",
   "metadata": {},
   "outputs": [
    {
     "name": "stderr",
     "output_type": "stream",
     "text": [
      "100%|████████████████████████████████████████████████████████████████████████████████| 100/100 [15:37<00:00,  9.37s/it]\n"
     ]
    }
   ],
   "source": [
    "games = 100\n",
    "SIAgentWin = 0\n",
    "MinMaxWin = 0\n",
    "Draw = 0\n",
    "\n",
    "minmax_agent = MinMax()\n",
    "si_agent = SI_Agent()\n",
    "\n",
    "startTime = time.time()\n",
    "\n",
    "for _ in tqdm(range(games)):\n",
    "    c4_game = Connect4_Game()\n",
    "    c4_game.initialise_board()\n",
    "    \n",
    "    SIAgent_plays_first = True\n",
    "    \n",
    "    try:\n",
    "        winner = play_connect4(SIAgent_plays_first, minmax_agent, si_agent, c4_game)\n",
    "    except:\n",
    "        continue\n",
    "        \n",
    "    if winner == 'MinMaxWon':\n",
    "        MinMaxWin += 1\n",
    "    elif winner == 'SIAgentWon':\n",
    "        SIAgentWin += 1\n",
    "    else:\n",
    "        Draw += 1\n",
    "        \n",
    "totalTime = time.time()-startTime"
   ]
  },
  {
   "cell_type": "code",
   "execution_count": 17,
   "id": "5bb8118a",
   "metadata": {},
   "outputs": [
    {
     "data": {
      "text/html": [
       "<style  type=\"text/css\" >\n",
       "#T_eef57_row0_col0,#T_eef57_row0_col1,#T_eef57_row0_col2,#T_eef57_row0_col3,#T_eef57_row0_col4,#T_eef57_row0_col5{\n",
       "            white-space: nowrap;\n",
       "        }</style><table id=\"T_eef57_\" ><thead>    <tr>        <th class=\"blank level0\" ></th>        <th class=\"col_heading level0 col0\" >Game Type</th>        <th class=\"col_heading level0 col1\" >Total Number of Games</th>        <th class=\"col_heading level0 col2\" >Time taken (in seconds) with Depth = 8</th>        <th class=\"col_heading level0 col3\" >Number of Games MinMax Won</th>        <th class=\"col_heading level0 col4\" >Number of Games Semi-Intelligent player Won</th>        <th class=\"col_heading level0 col5\" >Number of Games Drawn</th>    </tr></thead><tbody>\n",
       "                <tr>\n",
       "                        <th id=\"T_eef57_level0_row0\" class=\"row_heading level0 row0\" >0</th>\n",
       "                        <td id=\"T_eef57_row0_col0\" class=\"data row0 col0\" >First Move: Semi Intelligent Player</td>\n",
       "                        <td id=\"T_eef57_row0_col1\" class=\"data row0 col1\" >100</td>\n",
       "                        <td id=\"T_eef57_row0_col2\" class=\"data row0 col2\" >937.176666</td>\n",
       "                        <td id=\"T_eef57_row0_col3\" class=\"data row0 col3\" >81</td>\n",
       "                        <td id=\"T_eef57_row0_col4\" class=\"data row0 col4\" >6</td>\n",
       "                        <td id=\"T_eef57_row0_col5\" class=\"data row0 col5\" >13</td>\n",
       "            </tr>\n",
       "    </tbody></table>"
      ],
      "text/plain": [
       "<pandas.io.formats.style.Styler at 0x215455cc310>"
      ]
     },
     "metadata": {},
     "output_type": "display_data"
    }
   ],
   "source": [
    "statistics_df = pd.DataFrame(columns=['Game Type', 'Total Number of Games', 'Time taken (in seconds) with Depth = 8', 'Number of Games MinMax Won', 'Number of Games Semi-Intelligent player Won', 'Number of Games Drawn'])\n",
    "statistics_dict = {}\n",
    "statistics_dict['Game Type'] = 'First Move: Semi Intelligent Player'\n",
    "statistics_dict['Total Number of Games'] = games\n",
    "statistics_dict['Time taken (in seconds) with Depth = 8'] = totalTime\n",
    "statistics_dict['Number of Games MinMax Won'] = MinMaxWin\n",
    "statistics_dict['Number of Games Semi-Intelligent player Won'] = SIAgentWin\n",
    "statistics_dict['Number of Games Drawn'] = Draw\n",
    "statistics_df = statistics_df.append(statistics_dict, ignore_index = True)\n",
    "statistics_df = statistics_df.style.applymap(lambda x:'white-space:nowrap')\n",
    "display(statistics_df)"
   ]
  },
  {
   "cell_type": "code",
   "execution_count": null,
   "id": "0476f663",
   "metadata": {},
   "outputs": [],
   "source": []
  },
  {
   "cell_type": "code",
   "execution_count": null,
   "id": "a5718f11",
   "metadata": {},
   "outputs": [],
   "source": []
  },
  {
   "cell_type": "markdown",
   "id": "61760be2",
   "metadata": {},
   "source": [
    "#### Depth = 6, First Move = Random"
   ]
  },
  {
   "cell_type": "code",
   "execution_count": 29,
   "id": "72fa5413",
   "metadata": {},
   "outputs": [
    {
     "name": "stderr",
     "output_type": "stream",
     "text": [
      "100%|████████████████████████████████████████████████████████████████████████████████| 100/100 [02:13<00:00,  1.34s/it]\n"
     ]
    }
   ],
   "source": [
    "games = 100\n",
    "SIAgentWin = 0\n",
    "MinMaxWin = 0\n",
    "Draw = 0\n",
    "\n",
    "minmax_agent = MinMax()\n",
    "si_agent = SI_Agent()\n",
    "\n",
    "startTime = time.time()\n",
    "\n",
    "for _ in tqdm(range(games)):\n",
    "    c4_game = Connect4_Game()\n",
    "    c4_game.initialise_board()\n",
    "    \n",
    "    SIAgent_plays_first = False\n",
    "    if c4_game.tossForFirstMove() == 1 :\n",
    "        SIAgent_plays_first = True\n",
    "    else : \n",
    "        SIAgent_plays_first = False\n",
    "    \n",
    "    try:\n",
    "        winner = play_connect4(SIAgent_plays_first, minmax_agent, si_agent, c4_game)\n",
    "    except:\n",
    "        continue\n",
    "        \n",
    "    if winner == 'MinMaxWon':\n",
    "        MinMaxWin += 1\n",
    "    elif winner == 'SIAgentWon':\n",
    "        SIAgentWin += 1\n",
    "    else:\n",
    "        Draw += 1\n",
    "        \n",
    "totalTime = time.time()-startTime"
   ]
  },
  {
   "cell_type": "code",
   "execution_count": 34,
   "id": "1391539b",
   "metadata": {},
   "outputs": [
    {
     "data": {
      "text/html": [
       "<style  type=\"text/css\" >\n",
       "#T_f4f81_row0_col0,#T_f4f81_row0_col1,#T_f4f81_row0_col2,#T_f4f81_row0_col3,#T_f4f81_row0_col4,#T_f4f81_row0_col5{\n",
       "            white-space: nowrap;\n",
       "        }</style><table id=\"T_f4f81_\" ><thead>    <tr>        <th class=\"blank level0\" ></th>        <th class=\"col_heading level0 col0\" >Game Type</th>        <th class=\"col_heading level0 col1\" >Total Number of Games</th>        <th class=\"col_heading level0 col2\" >Time taken (in seconds) with Depth = 6</th>        <th class=\"col_heading level0 col3\" >Number of Games MinMax Won</th>        <th class=\"col_heading level0 col4\" >Number of Games Semi-Intelligent player Won</th>        <th class=\"col_heading level0 col5\" >Number of Games Drawn</th>    </tr></thead><tbody>\n",
       "                <tr>\n",
       "                        <th id=\"T_f4f81_level0_row0\" class=\"row_heading level0 row0\" >0</th>\n",
       "                        <td id=\"T_f4f81_row0_col0\" class=\"data row0 col0\" >First Move: Semi Intelligent Player</td>\n",
       "                        <td id=\"T_f4f81_row0_col1\" class=\"data row0 col1\" >100</td>\n",
       "                        <td id=\"T_f4f81_row0_col2\" class=\"data row0 col2\" >133.962062</td>\n",
       "                        <td id=\"T_f4f81_row0_col3\" class=\"data row0 col3\" >55</td>\n",
       "                        <td id=\"T_f4f81_row0_col4\" class=\"data row0 col4\" >4</td>\n",
       "                        <td id=\"T_f4f81_row0_col5\" class=\"data row0 col5\" >41</td>\n",
       "            </tr>\n",
       "    </tbody></table>"
      ],
      "text/plain": [
       "<pandas.io.formats.style.Styler at 0x21546796f10>"
      ]
     },
     "metadata": {},
     "output_type": "display_data"
    }
   ],
   "source": [
    "statistics_df = pd.DataFrame(columns=['Game Type', 'Total Number of Games', 'Time taken (in seconds) with Depth = 6', 'Number of Games MinMax Won', 'Number of Games Semi-Intelligent player Won', 'Number of Games Drawn'])\n",
    "statistics_dict = {}\n",
    "statistics_dict['Game Type'] = 'First Move: Semi Intelligent Player'\n",
    "statistics_dict['Total Number of Games'] = games\n",
    "statistics_dict['Time taken (in seconds) with Depth = 6'] = 133.962062\n",
    "statistics_dict['Number of Games MinMax Won'] = MinMaxWin\n",
    "statistics_dict['Number of Games Semi-Intelligent player Won'] = SIAgentWin\n",
    "statistics_dict['Number of Games Drawn'] = Draw\n",
    "statistics_df = statistics_df.append(statistics_dict, ignore_index = True)\n",
    "statistics_df = statistics_df.style.applymap(lambda x:'white-space:nowrap')\n",
    "display(statistics_df)"
   ]
  },
  {
   "cell_type": "markdown",
   "id": "f3705985",
   "metadata": {},
   "source": [
    "#### Depth = 6, First Move = Always Min-Max"
   ]
  },
  {
   "cell_type": "code",
   "execution_count": 32,
   "id": "2d1968f6",
   "metadata": {},
   "outputs": [
    {
     "name": "stderr",
     "output_type": "stream",
     "text": [
      "100%|████████████████████████████████████████████████████████████████████████████████| 100/100 [02:21<00:00,  1.42s/it]\n"
     ]
    }
   ],
   "source": [
    "games = 100\n",
    "SIAgentWin = 0\n",
    "MinMaxWin = 0\n",
    "Draw = 0\n",
    "\n",
    "minmax_agent = MinMax()\n",
    "si_agent = SI_Agent()\n",
    "\n",
    "startTime = time.time()\n",
    "\n",
    "for _ in tqdm(range(games)):\n",
    "    c4_game = Connect4_Game()\n",
    "    c4_game.initialise_board()\n",
    "    \n",
    "    SIAgent_plays_first = False\n",
    "    \n",
    "    try:\n",
    "        winner = play_connect4(SIAgent_plays_first, minmax_agent, si_agent, c4_game)\n",
    "    except:\n",
    "        continue\n",
    "        \n",
    "    if winner == 'MinMaxWon':\n",
    "        MinMaxWin += 1\n",
    "    elif winner == 'SIAgentWon':\n",
    "        SIAgentWin += 1\n",
    "    else:\n",
    "        Draw += 1\n",
    "        \n",
    "totalTime = time.time()-startTime"
   ]
  },
  {
   "cell_type": "code",
   "execution_count": 35,
   "id": "a550ea16",
   "metadata": {},
   "outputs": [
    {
     "data": {
      "text/html": [
       "<style  type=\"text/css\" >\n",
       "#T_e23f9_row0_col0,#T_e23f9_row0_col1,#T_e23f9_row0_col2,#T_e23f9_row0_col3,#T_e23f9_row0_col4,#T_e23f9_row0_col5{\n",
       "            white-space: nowrap;\n",
       "        }</style><table id=\"T_e23f9_\" ><thead>    <tr>        <th class=\"blank level0\" ></th>        <th class=\"col_heading level0 col0\" >Game Type</th>        <th class=\"col_heading level0 col1\" >Total Number of Games</th>        <th class=\"col_heading level0 col2\" >Time taken (in seconds) with Depth = 6</th>        <th class=\"col_heading level0 col3\" >Number of Games MinMax Won</th>        <th class=\"col_heading level0 col4\" >Number of Games Semi-Intelligent player Won</th>        <th class=\"col_heading level0 col5\" >Number of Games Drawn</th>    </tr></thead><tbody>\n",
       "                <tr>\n",
       "                        <th id=\"T_e23f9_level0_row0\" class=\"row_heading level0 row0\" >0</th>\n",
       "                        <td id=\"T_e23f9_row0_col0\" class=\"data row0 col0\" >First Move: MinMax Player</td>\n",
       "                        <td id=\"T_e23f9_row0_col1\" class=\"data row0 col1\" >100</td>\n",
       "                        <td id=\"T_e23f9_row0_col2\" class=\"data row0 col2\" >141.769968</td>\n",
       "                        <td id=\"T_e23f9_row0_col3\" class=\"data row0 col3\" >67</td>\n",
       "                        <td id=\"T_e23f9_row0_col4\" class=\"data row0 col4\" >1</td>\n",
       "                        <td id=\"T_e23f9_row0_col5\" class=\"data row0 col5\" >32</td>\n",
       "            </tr>\n",
       "    </tbody></table>"
      ],
      "text/plain": [
       "<pandas.io.formats.style.Styler at 0x21543469250>"
      ]
     },
     "metadata": {},
     "output_type": "display_data"
    }
   ],
   "source": [
    "statistics_df = pd.DataFrame(columns=['Game Type', 'Total Number of Games', 'Time taken (in seconds) with Depth = 6', 'Number of Games MinMax Won', 'Number of Games Semi-Intelligent player Won', 'Number of Games Drawn'])\n",
    "statistics_dict = {}\n",
    "statistics_dict['Game Type'] = 'First Move: MinMax Player'\n",
    "statistics_dict['Total Number of Games'] = games\n",
    "statistics_dict['Time taken (in seconds) with Depth = 6'] = totalTime\n",
    "statistics_dict['Number of Games MinMax Won'] = MinMaxWin\n",
    "statistics_dict['Number of Games Semi-Intelligent player Won'] = SIAgentWin\n",
    "statistics_dict['Number of Games Drawn'] = Draw\n",
    "statistics_df = statistics_df.append(statistics_dict, ignore_index = True)\n",
    "statistics_df = statistics_df.style.applymap(lambda x:'white-space:nowrap')\n",
    "display(statistics_df)"
   ]
  },
  {
   "cell_type": "markdown",
   "id": "a96a8c0a",
   "metadata": {},
   "source": [
    "#### Depth = 6, First Move = Always Semi-Intelligent Agent "
   ]
  },
  {
   "cell_type": "code",
   "execution_count": 36,
   "id": "225609ab",
   "metadata": {},
   "outputs": [
    {
     "name": "stderr",
     "output_type": "stream",
     "text": [
      "100%|████████████████████████████████████████████████████████████████████████████████| 100/100 [02:19<00:00,  1.40s/it]\n"
     ]
    }
   ],
   "source": [
    "games = 100\n",
    "SIAgentWin = 0\n",
    "MinMaxWin = 0\n",
    "Draw = 0\n",
    "\n",
    "minmax_agent = MinMax()\n",
    "si_agent = SI_Agent()\n",
    "\n",
    "startTime = time.time()\n",
    "\n",
    "for _ in tqdm(range(games)):\n",
    "    c4_game = Connect4_Game()\n",
    "    c4_game.initialise_board()\n",
    "    \n",
    "    SIAgent_plays_first = True\n",
    "    \n",
    "    try:\n",
    "        winner = play_connect4(SIAgent_plays_first, minmax_agent, si_agent, c4_game)\n",
    "    except:\n",
    "        continue\n",
    "        \n",
    "    if winner == 'MinMaxWon':\n",
    "        MinMaxWin += 1\n",
    "    elif winner == 'SIAgentWon':\n",
    "        SIAgentWin += 1\n",
    "    else:\n",
    "        Draw += 1\n",
    "        \n",
    "totalTime = time.time()-startTime"
   ]
  },
  {
   "cell_type": "code",
   "execution_count": 38,
   "id": "d88bd374",
   "metadata": {},
   "outputs": [
    {
     "data": {
      "text/html": [
       "<style  type=\"text/css\" >\n",
       "#T_87ca4_row0_col0,#T_87ca4_row0_col1,#T_87ca4_row0_col2,#T_87ca4_row0_col3,#T_87ca4_row0_col4,#T_87ca4_row0_col5{\n",
       "            white-space: nowrap;\n",
       "        }</style><table id=\"T_87ca4_\" ><thead>    <tr>        <th class=\"blank level0\" ></th>        <th class=\"col_heading level0 col0\" >Game Type</th>        <th class=\"col_heading level0 col1\" >Total Number of Games</th>        <th class=\"col_heading level0 col2\" >Time taken (in seconds) with Depth = 6</th>        <th class=\"col_heading level0 col3\" >Number of Games MinMax Won</th>        <th class=\"col_heading level0 col4\" >Number of Games Semi-Intelligent player Won</th>        <th class=\"col_heading level0 col5\" >Number of Games Drawn</th>    </tr></thead><tbody>\n",
       "                <tr>\n",
       "                        <th id=\"T_87ca4_level0_row0\" class=\"row_heading level0 row0\" >0</th>\n",
       "                        <td id=\"T_87ca4_row0_col0\" class=\"data row0 col0\" >First Move: Semi Intelligent Player</td>\n",
       "                        <td id=\"T_87ca4_row0_col1\" class=\"data row0 col1\" >100</td>\n",
       "                        <td id=\"T_87ca4_row0_col2\" class=\"data row0 col2\" >139.694996</td>\n",
       "                        <td id=\"T_87ca4_row0_col3\" class=\"data row0 col3\" >44</td>\n",
       "                        <td id=\"T_87ca4_row0_col4\" class=\"data row0 col4\" >2</td>\n",
       "                        <td id=\"T_87ca4_row0_col5\" class=\"data row0 col5\" >53</td>\n",
       "            </tr>\n",
       "    </tbody></table>"
      ],
      "text/plain": [
       "<pandas.io.formats.style.Styler at 0x2154676c220>"
      ]
     },
     "metadata": {},
     "output_type": "display_data"
    }
   ],
   "source": [
    "statistics_df = pd.DataFrame(columns=['Game Type', 'Total Number of Games', 'Time taken (in seconds) with Depth = 6', 'Number of Games MinMax Won', 'Number of Games Semi-Intelligent player Won', 'Number of Games Drawn'])\n",
    "statistics_dict = {}\n",
    "statistics_dict['Game Type'] = 'First Move: Semi Intelligent Player'\n",
    "statistics_dict['Total Number of Games'] = games\n",
    "statistics_dict['Time taken (in seconds) with Depth = 6'] = 139.694996\n",
    "statistics_dict['Number of Games MinMax Won'] = MinMaxWin\n",
    "statistics_dict['Number of Games Semi-Intelligent player Won'] = SIAgentWin\n",
    "statistics_dict['Number of Games Drawn'] = Draw\n",
    "statistics_df = statistics_df.append(statistics_dict, ignore_index = True)\n",
    "statistics_df = statistics_df.style.applymap(lambda x:'white-space:nowrap')\n",
    "display(statistics_df)"
   ]
  },
  {
   "cell_type": "code",
   "execution_count": null,
   "id": "83a535bc",
   "metadata": {},
   "outputs": [],
   "source": []
  }
 ],
 "metadata": {
  "kernelspec": {
   "display_name": "Python 3",
   "language": "python",
   "name": "python3"
  },
  "language_info": {
   "codemirror_mode": {
    "name": "ipython",
    "version": 3
   },
   "file_extension": ".py",
   "mimetype": "text/x-python",
   "name": "python",
   "nbconvert_exporter": "python",
   "pygments_lexer": "ipython3",
   "version": "3.8.8"
  }
 },
 "nbformat": 4,
 "nbformat_minor": 5
}
