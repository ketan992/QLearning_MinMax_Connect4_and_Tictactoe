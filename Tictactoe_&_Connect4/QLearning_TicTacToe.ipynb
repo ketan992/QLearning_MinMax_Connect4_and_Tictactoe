{
 "cells": [
  {
   "cell_type": "code",
   "execution_count": 1,
   "id": "25fe86c5",
   "metadata": {},
   "outputs": [],
   "source": [
    "import random\n",
    "import math\n",
    "from IPython.display import display\n",
    "import pandas as pd\n",
    "from tqdm import tqdm\n",
    "import pickle\n",
    "import numpy as np"
   ]
  },
  {
   "cell_type": "code",
   "execution_count": 2,
   "id": "92a4a505",
   "metadata": {},
   "outputs": [],
   "source": [
    "class TicTacToe_Game:\n",
    "    \n",
    "    def initialise_baord(self) : \n",
    "        self.ttt_board = {\n",
    "                            1: ' ', 2:' ', 3: ' ',\n",
    "                            4: ' ', 5:' ', 6: ' ',\n",
    "                            7: ' ', 8:' ', 9: ' '\n",
    "                         }\n",
    "    def display_board(self):\n",
    "        print(\"\\n\")\n",
    "        for row in range(3):\n",
    "            for col in range(3):\n",
    "                cell = row * 3 + col + 1\n",
    "                print(self.ttt_board[cell], end=\"\")\n",
    "                if col < 2:\n",
    "                    print(\" | \", end=\"\")\n",
    "            print()\n",
    "            if row < 2:\n",
    "                print(\"---------\")\n",
    "        print()\n",
    "        \n",
    "    def tossForFirstMove(self):\n",
    "        choices = [1,2]\n",
    "        return random.choice(choices)\n",
    "        \n",
    "    def display_board(self):\n",
    "        print(\"\\n\")\n",
    "        print( self.ttt_board[1], '|', self.ttt_board[2], '|', self.ttt_board[3])\n",
    "        print(' -+---+-')\n",
    "        print(self.ttt_board[4], '|', self.ttt_board[5], '|', self.ttt_board[6])\n",
    "        print(' -+---+-')\n",
    "        print(self.ttt_board[7], '|', self.ttt_board[8], '|', self.ttt_board[9], \"\\n\")\n",
    "        \n",
    "    def validateMove(self, move):\n",
    "        return self.ttt_board[move] == ' '\n",
    "        \n",
    "    def validateDraw(self):\n",
    "        return all(self.ttt_board[key] != ' ' for key in self.ttt_board.keys())\n",
    "    \n",
    "    \n",
    "    def validateWin(self):\n",
    "        win_combinations = [\n",
    "            (1, 2, 3), (4, 5, 6), (7, 8, 9), \n",
    "            (1, 4, 7), (2, 5, 8), (3, 6, 9),  \n",
    "            (1, 5, 9), (7, 5, 3)\n",
    "        ]\n",
    "\n",
    "        for combo in win_combinations:\n",
    "            if (self.ttt_board[combo[0]] == self.ttt_board[combo[1]] == self.ttt_board[combo[2]] != ' '):\n",
    "                return True\n",
    "\n",
    "        return False\n",
    "                        \n",
    "    def validateWinForLetter(self, mark):\n",
    "        winning_positions = [\n",
    "            (1, 2, 3), (4, 5, 6), (7, 8, 9),\n",
    "            (1, 4, 7), (2, 5, 8), (3, 6, 9),\n",
    "            (1, 5, 9), (7, 5, 3)\n",
    "        ]\n",
    "        for pos in winning_positions:\n",
    "            if all(self.ttt_board[i] == mark for i in pos):\n",
    "                return True\n",
    "        return False\n",
    "\n",
    "    \n"
   ]
  },
  {
   "cell_type": "code",
   "execution_count": 3,
   "id": "1ba75824",
   "metadata": {},
   "outputs": [],
   "source": [
    "class QLearning:\n",
    "    def __init__(self):\n",
    "        self.epsilon = 1.0\n",
    "        self.QLearningStates = {}\n",
    "  \n",
    "    getPosition = lambda self, current_board: tuple(tuple(current_board[i+j] for j in range(3)) for i in range(1, 10, 3))\n",
    "\n",
    "    def getQLearningValue_For_Action(self, current_board, current_position):\n",
    "        position = self.getPosition(current_board)\n",
    "        if position not in self.QLearningStates:\n",
    "            self.QLearningStates[position] = np.zeros((9,))\n",
    "        return self.QLearningStates[position][current_position - 1]\n",
    "  \n",
    "\n",
    "    def getBestPositionFromQLearning(self, current_board, possible_positions):\n",
    "        return random.choice(possible_positions) if random.random() < self.epsilon else max(possible_positions, key=lambda x: self.getQLearningValue_For_Action(current_board, x))\n",
    "\n",
    "    def updateQLearningModel(self, current_board, current_position, reward, successive_board, possible_positions):\n",
    "        bestQValue = max([self.getQLearningValue_For_Action(successive_board, current_position) for next_action in possible_positions], default=0)\n",
    "        optimisedQVlaue = self.getQLearningValue_For_Action(current_board, current_position) + 0.1 * ((reward + 0.99 * bestQValue) - self.getQLearningValue_For_Action(current_board, current_position))\n",
    "        position = self.getPosition(current_board)\n",
    "        self.QLearningStates[position][current_position - 1] = optimisedQVlaue\n",
    "\n",
    "    def update_epsilon(self):\n",
    "        self.epsilon = max(self.epsilon * 0.999, 0.1)\n",
    "        \n",
    "    def saveQLearningModel(self):\n",
    "        with open(\"TicTacToeQLearningModel.pickle\", \"wb\") as file:\n",
    "            pickle.dump(self.QLearningStates, file)\n",
    "            \n",
    "    def loadQLearningModel(self):\n",
    "        with open(\"TicTacToeQLearningModel.pickle\", \"rb\") as file:\n",
    "            self.QLearningStates = pickle.load(file)\n",
    "            \n",
    "    def trainQLearningModel(self):\n",
    "        QLearningWin = SIAgentWin = Draw = 0\n",
    "        total_episodes = 3000000\n",
    "        for episode in tqdm(range(total_episodes)):\n",
    "            ttt_game = TicTacToe_Game()\n",
    "            ttt_game.initialise_baord()\n",
    "            current_board = ttt_game.ttt_board\n",
    "\n",
    "            while True:\n",
    "                QLearningPossible_Positions = [i for i in range(1, 10) if ttt_game.validateMove(i)]\n",
    "\n",
    "                if len(QLearningPossible_Positions) == 0:\n",
    "                    break\n",
    "\n",
    "                QLearningPosition = self.getBestPositionFromQLearning(current_board, QLearningPossible_Positions)\n",
    "\n",
    "                if ttt_game.validateMove(QLearningPosition):\n",
    "                    ttt_game.ttt_board[QLearningPosition] = 'X'\n",
    "\n",
    "                isQLearningWinner = ttt_game.validateWinForLetter('X')\n",
    "                isSIAgentWinner = ttt_game.validateWinForLetter('O')\n",
    "                possibleMoves = [i for i in range(1, 10) if ttt_game.validateMove(i)]\n",
    "\n",
    "                if isQLearningWinner:\n",
    "                    QLearningWin += 1\n",
    "                    self.updateQLearningModel(current_board, QLearningPosition, 1, ttt_game.ttt_board, [])\n",
    "                    break\n",
    "\n",
    "                elif isSIAgentWinner:\n",
    "                    SIAgentWin += 1\n",
    "                    self.updateQLearningModel(current_board, QLearningPosition, -1, ttt_game.ttt_board, [])\n",
    "                    break\n",
    "\n",
    "                elif ttt_game.validateDraw():\n",
    "                    Draw += 1\n",
    "                    self.updateQLearningModel(current_board, QLearningPosition, 0, ttt_game.ttt_board, [])\n",
    "                    break\n",
    "                else:\n",
    "                    self.updateQLearningModel(current_board, QLearningPosition, 0, ttt_game.ttt_board, possibleMoves)\n",
    "\n",
    "                SIAgentPossible_Positions = [i for i in range(1, 10) if ttt_game.validateMove(i)]\n",
    "                SIAgentPosition = SIAgentPossible_Positions[random.randint(0, len(SIAgentPossible_Positions)-1)]\n",
    "\n",
    "                if ttt_game.validateMove(SIAgentPosition):\n",
    "                    ttt_game.ttt_board[SIAgentPosition] = 'O'\n",
    "\n",
    "                isQLearningWinner = ttt_game.validateWinForLetter('X')\n",
    "                isSIAgentWinner = ttt_game.validateWinForLetter('O')\n",
    "                possibleMoves = [i for i in range(1, 10) if ttt_game.validateMove(i)]\n",
    "\n",
    "                if isQLearningWinner:\n",
    "                    QLearningWin += 1\n",
    "                    self.updateQLearningModel(current_board, SIAgentPosition, 1, ttt_game.ttt_board, [])\n",
    "                    break\n",
    "\n",
    "                elif isSIAgentWinner:\n",
    "                    SIAgentWin += 1\n",
    "                    self.updateQLearningModel(current_board, SIAgentPosition, -1, ttt_game.ttt_board, [])\n",
    "                    break\n",
    "\n",
    "                elif ttt_game.validateDraw():\n",
    "                    Draw += 1\n",
    "                    self.updateQLearningModel(current_board, SIAgentPosition, 0, ttt_game.ttt_board, [])\n",
    "                    break\n",
    "                else:\n",
    "                    self.updateQLearningModel(current_board, SIAgentPosition, 0, ttt_game.ttt_board, possibleMoves)\n",
    "\n",
    "                current_board = ttt_game.ttt_board\n",
    "            self.update_epsilon()\n",
    "\n",
    "        return QLearningWin, SIAgentWin, Draw, total_episodes\n",
    "\n",
    "    def play_tic_tac_toe(self, SIAgent_plays_first, ttt_game):\n",
    "        SI_Agent_Letter = 'O'\n",
    "        QLearning_Letter = 'X'\n",
    "\n",
    "        while True:\n",
    "            if SIAgent_plays_first:\n",
    "                SIAgentPossible_Positions = [i for i in range(1, 10) if ttt_game.validateMove(i)]\n",
    "\n",
    "                if len(SIAgentPossible_Positions) == 0:\n",
    "                    return \"Draw\"\n",
    "\n",
    "                SIAgentPosition = SIAgentPossible_Positions[random.randint(0, len(SIAgentPossible_Positions)-1)]\n",
    "\n",
    "                if ttt_game.validateMove(SIAgentPosition):\n",
    "                    ttt_game.ttt_board[SIAgentPosition] = SI_Agent_Letter\n",
    "\n",
    "                if ttt_game.validateWinForLetter(SI_Agent_Letter) : \n",
    "                    return \"SIAgentWon\"\n",
    "\n",
    "                if ttt_game.validateDraw():\n",
    "                    return \"Draw\"\n",
    "\n",
    "                QLearningPossible_Positions = [i for i in range(1, 10) if ttt_game.validateMove(i)]\n",
    "\n",
    "                if len(QLearningPossible_Positions) == 0:\n",
    "                    \"Draw\"\n",
    "\n",
    "                QLearningPosition = self.getBestPositionFromQLearning(ttt_game.ttt_board, QLearningPossible_Positions)\n",
    "\n",
    "                if ttt_game.validateMove(QLearningPosition):\n",
    "                    ttt_game.ttt_board[QLearningPosition] = QLearning_Letter\n",
    "\n",
    "                if ttt_game.validateWinForLetter(QLearning_Letter) : \n",
    "                    return \"QLearningWon\"\n",
    "\n",
    "                if ttt_game.validateDraw():\n",
    "                    return \"Draw\"\n",
    "\n",
    "            else:\n",
    "                QLearningPossible_Positions = [i for i in range(1, 10) if ttt_game.validateMove(i)]\n",
    "\n",
    "                if len(QLearningPossible_Positions) == 0:\n",
    "                    break\n",
    "\n",
    "                QLearningPosition = self.getBestPositionFromQLearning(ttt_game.ttt_board, QLearningPossible_Positions)\n",
    "\n",
    "                if ttt_game.validateMove(QLearningPosition):\n",
    "                    ttt_game.ttt_board[QLearningPosition] = QLearning_Letter\n",
    "\n",
    "                if ttt_game.validateWinForLetter(QLearning_Letter) : \n",
    "                    return \"QLearningWon\"\n",
    "\n",
    "                if ttt_game.validateDraw():\n",
    "                    return \"Draw\"\n",
    "\n",
    "\n",
    "                SIAgentPossible_Positions = [i for i in range(1, 10) if ttt_game.validateMove(i)]\n",
    "\n",
    "                if len(SIAgentPossible_Positions) == 0:\n",
    "                    return \"Draw\"\n",
    "\n",
    "                SIAgentPosition = SIAgentPossible_Positions[random.randint(0, len(SIAgentPossible_Positions)-1)]\n",
    "\n",
    "                if ttt_game.validateMove(SIAgentPosition):\n",
    "                    ttt_game.ttt_board[SIAgentPosition] = SI_Agent_Letter\n",
    "\n",
    "                if ttt_game.validateWinForLetter(SI_Agent_Letter) : \n",
    "                    return \"SIAgentWon\"\n",
    "\n",
    "                if ttt_game.validateDraw():\n",
    "                    return \"Draw\"\n",
    "                \n",
    "                    \n",
    "    "
   ]
  },
  {
   "cell_type": "markdown",
   "id": "23da6a32",
   "metadata": {},
   "source": [
    "### Training QLearning Model"
   ]
  },
  {
   "cell_type": "code",
   "execution_count": 4,
   "id": "9711c2f6",
   "metadata": {},
   "outputs": [
    {
     "name": "stderr",
     "output_type": "stream",
     "text": [
      "100%|██████████████████████████████████████████████████████████████████████| 3000000/3000000 [18:54<00:00, 2644.46it/s]\n"
     ]
    }
   ],
   "source": [
    "qLearning = QLearning()\n",
    "\n",
    "QLearningWin, SIAgentWin, Draw, total_episodes = qLearning.trainQLearningModel()\n",
    "\n",
    "qLearning.saveQLearningModel()"
   ]
  },
  {
   "cell_type": "code",
   "execution_count": 5,
   "id": "affceca7",
   "metadata": {},
   "outputs": [
    {
     "data": {
      "text/html": [
       "<style  type=\"text/css\" >\n",
       "#T_4a953_row0_col0,#T_4a953_row0_col1,#T_4a953_row0_col2,#T_4a953_row0_col3,#T_4a953_row0_col4{\n",
       "            white-space: nowrap;\n",
       "        }</style><table id=\"T_4a953_\" ><thead>    <tr>        <th class=\"blank level0\" ></th>        <th class=\"col_heading level0 col0\" >Game Type</th>        <th class=\"col_heading level0 col1\" >Total Number of Games</th>        <th class=\"col_heading level0 col2\" >Number of Games Qlearning Won</th>        <th class=\"col_heading level0 col3\" >Number of Games Semi-Intelligent player Won</th>        <th class=\"col_heading level0 col4\" >Number of Games Drawn</th>    </tr></thead><tbody>\n",
       "                <tr>\n",
       "                        <th id=\"T_4a953_level0_row0\" class=\"row_heading level0 row0\" >0</th>\n",
       "                        <td id=\"T_4a953_row0_col0\" class=\"data row0 col0\" >Training</td>\n",
       "                        <td id=\"T_4a953_row0_col1\" class=\"data row0 col1\" >3000000</td>\n",
       "                        <td id=\"T_4a953_row0_col2\" class=\"data row0 col2\" >2250425</td>\n",
       "                        <td id=\"T_4a953_row0_col3\" class=\"data row0 col3\" >586352</td>\n",
       "                        <td id=\"T_4a953_row0_col4\" class=\"data row0 col4\" >163223</td>\n",
       "            </tr>\n",
       "    </tbody></table>"
      ],
      "text/plain": [
       "<pandas.io.formats.style.Styler at 0x20a46ec8bb0>"
      ]
     },
     "metadata": {},
     "output_type": "display_data"
    }
   ],
   "source": [
    "\n",
    "statistics_df = pd.DataFrame(columns=['Game Type', 'Total Number of Games', 'Number of Games Qlearning Won', 'Number of Games Semi-Intelligent player Won', 'Number of Games Drawn'])\n",
    "statistics_dict = {}\n",
    "statistics_dict['Game Type'] = 'Training'\n",
    "statistics_dict['Total Number of Games'] = total_episodes\n",
    "statistics_dict['Number of Games Qlearning Won'] = QLearningWin\n",
    "statistics_dict['Number of Games Semi-Intelligent player Won'] = SIAgentWin\n",
    "statistics_dict['Number of Games Drawn'] = Draw\n",
    "\n",
    "statistics_df = statistics_df.append(statistics_dict, ignore_index = True)\n",
    "statistics_df = statistics_df.style.applymap(lambda x:'white-space:nowrap')\n",
    "display(statistics_df)\n",
    "\n"
   ]
  },
  {
   "cell_type": "markdown",
   "id": "f3d24a5c",
   "metadata": {},
   "source": [
    "### First Move: Random"
   ]
  },
  {
   "cell_type": "code",
   "execution_count": 6,
   "id": "dcca5ce0",
   "metadata": {},
   "outputs": [
    {
     "name": "stderr",
     "output_type": "stream",
     "text": [
      "100%|███████████████████████████████████████████████████████████████████████████| 2000/2000 [00:00<00:00, 16529.34it/s]"
     ]
    },
    {
     "name": "stdout",
     "output_type": "stream",
     "text": [
      "Current Q Learning model has 5020 states\n"
     ]
    },
    {
     "name": "stderr",
     "output_type": "stream",
     "text": [
      "\n"
     ]
    }
   ],
   "source": [
    "games = 2000\n",
    "SIAgentWin = QLearningWin = Draw = 0\n",
    "\n",
    "qLearningPlayer = QLearning() \n",
    "qLearningPlayer.loadQLearningModel()\n",
    "\n",
    "print(f\"Current Q Learning model has {len(qLearningPlayer.QLearningStates)} states\")\n",
    "\n",
    "for _ in tqdm(range(games)):\n",
    "    ttt_game = TicTacToe_Game()\n",
    "    ttt_game.initialise_baord()\n",
    "    \n",
    "    SIAgent_plays_first = False\n",
    "    if ttt_game.tossForFirstMove() == 1 :\n",
    "        SIAgent_plays_first = True\n",
    "    else : \n",
    "        SIAgent_plays_first = False\n",
    "    \n",
    "    \n",
    "    \n",
    "    winner = qLearningPlayer.play_tic_tac_toe(SIAgent_plays_first, ttt_game)\n",
    "\n",
    "    if winner == 'QLearningWon':\n",
    "        QLearningWin += 1\n",
    "    elif winner == 'SIAgentWon':\n",
    "        SIAgentWin += 1\n",
    "    else:\n",
    "        Draw += 1\n"
   ]
  },
  {
   "cell_type": "code",
   "execution_count": 7,
   "id": "3284b3fe",
   "metadata": {},
   "outputs": [
    {
     "data": {
      "text/html": [
       "<style  type=\"text/css\" >\n",
       "#T_ac857_row0_col0,#T_ac857_row0_col1,#T_ac857_row0_col2,#T_ac857_row0_col3,#T_ac857_row0_col4{\n",
       "            white-space: nowrap;\n",
       "        }</style><table id=\"T_ac857_\" ><thead>    <tr>        <th class=\"blank level0\" ></th>        <th class=\"col_heading level0 col0\" >Game Type</th>        <th class=\"col_heading level0 col1\" >Total Number of Games</th>        <th class=\"col_heading level0 col2\" >Number of Games QLearning Won</th>        <th class=\"col_heading level0 col3\" >Number of Games Semi-Intelligent player Won</th>        <th class=\"col_heading level0 col4\" >Number of Games Drawn</th>    </tr></thead><tbody>\n",
       "                <tr>\n",
       "                        <th id=\"T_ac857_level0_row0\" class=\"row_heading level0 row0\" >0</th>\n",
       "                        <td id=\"T_ac857_row0_col0\" class=\"data row0 col0\" >First Move: Random</td>\n",
       "                        <td id=\"T_ac857_row0_col1\" class=\"data row0 col1\" >2000</td>\n",
       "                        <td id=\"T_ac857_row0_col2\" class=\"data row0 col2\" >869</td>\n",
       "                        <td id=\"T_ac857_row0_col3\" class=\"data row0 col3\" >862</td>\n",
       "                        <td id=\"T_ac857_row0_col4\" class=\"data row0 col4\" >269</td>\n",
       "            </tr>\n",
       "    </tbody></table>"
      ],
      "text/plain": [
       "<pandas.io.formats.style.Styler at 0x20a46ad2df0>"
      ]
     },
     "metadata": {},
     "output_type": "display_data"
    }
   ],
   "source": [
    "statistics_df = pd.DataFrame(columns=['Game Type', 'Total Number of Games', 'Number of Games QLearning Won', 'Number of Games Semi-Intelligent player Won', 'Number of Games Drawn'])\n",
    "statistics_dict = {}\n",
    "statistics_dict['Game Type'] = 'First Move: Random'\n",
    "statistics_dict['Total Number of Games'] = games\n",
    "statistics_dict['Number of Games QLearning Won'] = QLearningWin\n",
    "statistics_dict['Number of Games Semi-Intelligent player Won'] = SIAgentWin\n",
    "statistics_dict['Number of Games Drawn'] = Draw\n",
    "statistics_df = statistics_df.append(statistics_dict, ignore_index = True)\n",
    "statistics_df = statistics_df.style.applymap(lambda x:'white-space:nowrap')\n",
    "display(statistics_df)"
   ]
  },
  {
   "cell_type": "markdown",
   "id": "9aaea233",
   "metadata": {},
   "source": [
    "### First Move: Always Semi-Intelligent Agent"
   ]
  },
  {
   "cell_type": "code",
   "execution_count": 8,
   "id": "cb25be09",
   "metadata": {},
   "outputs": [
    {
     "name": "stderr",
     "output_type": "stream",
     "text": [
      "\r",
      "  0%|                                                                                         | 0/2000 [00:00<?, ?it/s]"
     ]
    },
    {
     "name": "stdout",
     "output_type": "stream",
     "text": [
      "Current Q Learning model has 5020 states\n"
     ]
    },
    {
     "name": "stderr",
     "output_type": "stream",
     "text": [
      "100%|███████████████████████████████████████████████████████████████████████████| 2000/2000 [00:00<00:00, 17241.57it/s]\n"
     ]
    }
   ],
   "source": [
    "games = 2000\n",
    "SIAgentWin = QLearningWin = Draw = 0\n",
    "\n",
    "qLearningPlayer = QLearning() \n",
    "qLearningPlayer.loadQLearningModel()\n",
    "\n",
    "print(f\"Current Q Learning model has {len(qLearningPlayer.QLearningStates)} states\")\n",
    "\n",
    "for _ in tqdm(range(games)):\n",
    "    ttt_game = TicTacToe_Game()\n",
    "    ttt_game.initialise_baord()\n",
    "    \n",
    "    SIAgent_plays_first = True\n",
    "\n",
    "    winner = qLearningPlayer.play_tic_tac_toe(SIAgent_plays_first, ttt_game)\n",
    "\n",
    "    if winner == 'QLearningWon':\n",
    "        QLearningWin += 1\n",
    "    elif winner == 'SIAgentWon':\n",
    "        SIAgentWin += 1\n",
    "    else:\n",
    "        Draw += 1\n"
   ]
  },
  {
   "cell_type": "code",
   "execution_count": 9,
   "id": "09b681d5",
   "metadata": {},
   "outputs": [
    {
     "data": {
      "text/html": [
       "<style  type=\"text/css\" >\n",
       "#T_633cc_row0_col0,#T_633cc_row0_col1,#T_633cc_row0_col2,#T_633cc_row0_col3,#T_633cc_row0_col4{\n",
       "            white-space: nowrap;\n",
       "        }</style><table id=\"T_633cc_\" ><thead>    <tr>        <th class=\"blank level0\" ></th>        <th class=\"col_heading level0 col0\" >Game Type</th>        <th class=\"col_heading level0 col1\" >Total Number of Games</th>        <th class=\"col_heading level0 col2\" >Number of Games QLearning Won</th>        <th class=\"col_heading level0 col3\" >Number of Games Semi-Intelligent player Won</th>        <th class=\"col_heading level0 col4\" >Number of Games Drawn</th>    </tr></thead><tbody>\n",
       "                <tr>\n",
       "                        <th id=\"T_633cc_level0_row0\" class=\"row_heading level0 row0\" >0</th>\n",
       "                        <td id=\"T_633cc_row0_col0\" class=\"data row0 col0\" >First Move: First Move: Semi Intelligent Player</td>\n",
       "                        <td id=\"T_633cc_row0_col1\" class=\"data row0 col1\" >2000</td>\n",
       "                        <td id=\"T_633cc_row0_col2\" class=\"data row0 col2\" >599</td>\n",
       "                        <td id=\"T_633cc_row0_col3\" class=\"data row0 col3\" >1128</td>\n",
       "                        <td id=\"T_633cc_row0_col4\" class=\"data row0 col4\" >273</td>\n",
       "            </tr>\n",
       "    </tbody></table>"
      ],
      "text/plain": [
       "<pandas.io.formats.style.Styler at 0x20a47eb5580>"
      ]
     },
     "metadata": {},
     "output_type": "display_data"
    }
   ],
   "source": [
    "statistics_df = pd.DataFrame(columns=['Game Type', 'Total Number of Games', 'Number of Games QLearning Won', 'Number of Games Semi-Intelligent player Won', 'Number of Games Drawn'])\n",
    "statistics_dict = {}\n",
    "statistics_dict['Game Type'] = 'First Move: First Move: Semi Intelligent Player'\n",
    "statistics_dict['Total Number of Games'] = games\n",
    "statistics_dict['Number of Games QLearning Won'] = QLearningWin\n",
    "statistics_dict['Number of Games Semi-Intelligent player Won'] = SIAgentWin\n",
    "statistics_dict['Number of Games Drawn'] = Draw\n",
    "statistics_df = statistics_df.append(statistics_dict, ignore_index = True)\n",
    "statistics_df = statistics_df.style.applymap(lambda x:'white-space:nowrap')\n",
    "display(statistics_df)"
   ]
  },
  {
   "cell_type": "markdown",
   "id": "3f2c11a9",
   "metadata": {},
   "source": [
    "### First Move: Always Q-Learning player"
   ]
  },
  {
   "cell_type": "code",
   "execution_count": 10,
   "id": "b11777df",
   "metadata": {},
   "outputs": [
    {
     "name": "stderr",
     "output_type": "stream",
     "text": [
      "\r",
      "  0%|                                                                                         | 0/2000 [00:00<?, ?it/s]"
     ]
    },
    {
     "name": "stdout",
     "output_type": "stream",
     "text": [
      "Current Q Learning model has 5020 states\n"
     ]
    },
    {
     "name": "stderr",
     "output_type": "stream",
     "text": [
      "100%|███████████████████████████████████████████████████████████████████████████| 2000/2000 [00:00<00:00, 16949.01it/s]\n"
     ]
    }
   ],
   "source": [
    "games = 2000\n",
    "SIAgentWin = QLearningWin = Draw = 0\n",
    "\n",
    "qLearningPlayer = QLearning() \n",
    "qLearningPlayer.loadQLearningModel()\n",
    "\n",
    "print(f\"Current Q Learning model has {len(qLearningPlayer.QLearningStates)} states\")\n",
    "\n",
    "for _ in tqdm(range(games)):\n",
    "    ttt_game = TicTacToe_Game()\n",
    "    ttt_game.initialise_baord()\n",
    "    \n",
    "    SIAgent_plays_first = False\n",
    "\n",
    "    winner = qLearningPlayer.play_tic_tac_toe(SIAgent_plays_first, ttt_game)\n",
    "\n",
    "    if winner == 'QLearningWon':\n",
    "        QLearningWin += 1\n",
    "    elif winner == 'SIAgentWon':\n",
    "        SIAgentWin += 1\n",
    "    else:\n",
    "        Draw += 1\n"
   ]
  },
  {
   "cell_type": "code",
   "execution_count": 11,
   "id": "aba7c82e",
   "metadata": {},
   "outputs": [
    {
     "data": {
      "text/html": [
       "<style  type=\"text/css\" >\n",
       "#T_f43ab_row0_col0,#T_f43ab_row0_col1,#T_f43ab_row0_col2,#T_f43ab_row0_col3,#T_f43ab_row0_col4{\n",
       "            white-space: nowrap;\n",
       "        }</style><table id=\"T_f43ab_\" ><thead>    <tr>        <th class=\"blank level0\" ></th>        <th class=\"col_heading level0 col0\" >Game Type</th>        <th class=\"col_heading level0 col1\" >Total Number of Games</th>        <th class=\"col_heading level0 col2\" >Number of Games QLearning Won</th>        <th class=\"col_heading level0 col3\" >Number of Games Semi-Intelligent player Won</th>        <th class=\"col_heading level0 col4\" >Number of Games Drawn</th>    </tr></thead><tbody>\n",
       "                <tr>\n",
       "                        <th id=\"T_f43ab_level0_row0\" class=\"row_heading level0 row0\" >0</th>\n",
       "                        <td id=\"T_f43ab_row0_col0\" class=\"data row0 col0\" >First Move: Q-Learning Player</td>\n",
       "                        <td id=\"T_f43ab_row0_col1\" class=\"data row0 col1\" >2000</td>\n",
       "                        <td id=\"T_f43ab_row0_col2\" class=\"data row0 col2\" >1183</td>\n",
       "                        <td id=\"T_f43ab_row0_col3\" class=\"data row0 col3\" >572</td>\n",
       "                        <td id=\"T_f43ab_row0_col4\" class=\"data row0 col4\" >245</td>\n",
       "            </tr>\n",
       "    </tbody></table>"
      ],
      "text/plain": [
       "<pandas.io.formats.style.Styler at 0x20a47e9ae20>"
      ]
     },
     "metadata": {},
     "output_type": "display_data"
    }
   ],
   "source": [
    "statistics_df = pd.DataFrame(columns=['Game Type', 'Total Number of Games', 'Number of Games QLearning Won', 'Number of Games Semi-Intelligent player Won', 'Number of Games Drawn'])\n",
    "statistics_dict = {}\n",
    "statistics_dict['Game Type'] = 'First Move: Q-Learning Player'\n",
    "statistics_dict['Total Number of Games'] = games\n",
    "statistics_dict['Number of Games QLearning Won'] = QLearningWin\n",
    "statistics_dict['Number of Games Semi-Intelligent player Won'] = SIAgentWin\n",
    "statistics_dict['Number of Games Drawn'] = Draw\n",
    "statistics_df = statistics_df.append(statistics_dict, ignore_index = True)\n",
    "statistics_df = statistics_df.style.applymap(lambda x:'white-space:nowrap')\n",
    "display(statistics_df)"
   ]
  },
  {
   "cell_type": "code",
   "execution_count": null,
   "id": "44263341",
   "metadata": {},
   "outputs": [],
   "source": []
  },
  {
   "cell_type": "code",
   "execution_count": null,
   "id": "56091c56",
   "metadata": {},
   "outputs": [],
   "source": []
  }
 ],
 "metadata": {
  "kernelspec": {
   "display_name": "Python 3",
   "language": "python",
   "name": "python3"
  },
  "language_info": {
   "codemirror_mode": {
    "name": "ipython",
    "version": 3
   },
   "file_extension": ".py",
   "mimetype": "text/x-python",
   "name": "python",
   "nbconvert_exporter": "python",
   "pygments_lexer": "ipython3",
   "version": "3.8.8"
  }
 },
 "nbformat": 4,
 "nbformat_minor": 5
}
