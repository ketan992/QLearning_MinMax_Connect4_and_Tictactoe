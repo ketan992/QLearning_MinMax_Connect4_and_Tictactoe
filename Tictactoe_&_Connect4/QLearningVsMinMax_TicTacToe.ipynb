{
 "cells": [
  {
   "cell_type": "code",
   "execution_count": 1,
   "id": "25fe86c5",
   "metadata": {},
   "outputs": [],
   "source": [
    "import random\n",
    "import math\n",
    "from IPython.display import display\n",
    "import pandas as pd\n",
    "from tqdm import tqdm\n",
    "import pickle\n",
    "import numpy as np"
   ]
  },
  {
   "cell_type": "code",
   "execution_count": 2,
   "id": "92a4a505",
   "metadata": {},
   "outputs": [],
   "source": [
    "class TicTacToe_Game:\n",
    "    \n",
    "    def initialise_baord(self) : \n",
    "        self.ttt_board = {\n",
    "                            1: ' ', 2:' ', 3: ' ',\n",
    "                            4: ' ', 5:' ', 6: ' ',\n",
    "                            7: ' ', 8:' ', 9: ' '\n",
    "                         }\n",
    "    def display_board(self):\n",
    "        print(\"\\n\")\n",
    "        for row in range(3):\n",
    "            for col in range(3):\n",
    "                cell = row * 3 + col + 1\n",
    "                print(self.ttt_board[cell], end=\"\")\n",
    "                if col < 2:\n",
    "                    print(\" | \", end=\"\")\n",
    "            print()\n",
    "            if row < 2:\n",
    "                print(\"---------\")\n",
    "        print()\n",
    "\n",
    "\n",
    "    def tossForFirstMove(self):\n",
    "        choices = [1,2]\n",
    "        return random.choice(choices)\n",
    "    \n",
    "    def get_random_generated_move(self):\n",
    "        position = random.randint(1, 9)\n",
    "        if self.validateMove(position):\n",
    "            return position\n",
    "        else:\n",
    "            position = self.get_random_generated_move()\n",
    "            return position\n",
    "        \n",
    "    def display_board(self):\n",
    "        print(\"\\n\")\n",
    "        print( self.ttt_board[1], '|', self.ttt_board[2], '|', self.ttt_board[3])\n",
    "        print(' -+---+-')\n",
    "        print(self.ttt_board[4], '|', self.ttt_board[5], '|', self.ttt_board[6])\n",
    "        print(' -+---+-')\n",
    "        print(self.ttt_board[7], '|', self.ttt_board[8], '|', self.ttt_board[9], \"\\n\")\n",
    "        \n",
    "    def validateMove(self, move):\n",
    "        return self.ttt_board[move] == ' '\n",
    "        \n",
    "    def validateDraw(self):\n",
    "        return all(self.ttt_board[key] != ' ' for key in self.ttt_board.keys())\n",
    "    \n",
    "    \n",
    "    def validateWin(self):\n",
    "        win_combinations = [\n",
    "            (1, 2, 3), (4, 5, 6), (7, 8, 9), \n",
    "            (1, 4, 7), (2, 5, 8), (3, 6, 9),  \n",
    "            (1, 5, 9), (7, 5, 3)\n",
    "        ]\n",
    "\n",
    "        for combo in win_combinations:\n",
    "            if (self.ttt_board[combo[0]] == self.ttt_board[combo[1]] == self.ttt_board[combo[2]] != ' '):\n",
    "                return True\n",
    "\n",
    "        return False\n",
    "                        \n",
    "    def validateWinForLetter(self, mark):\n",
    "        winning_positions = [\n",
    "            (1, 2, 3), (4, 5, 6), (7, 8, 9),\n",
    "            (1, 4, 7), (2, 5, 8), (3, 6, 9),\n",
    "            (1, 5, 9), (7, 5, 3)\n",
    "        ]\n",
    "        for pos in winning_positions:\n",
    "            if all(self.ttt_board[i] == mark for i in pos):\n",
    "                return True\n",
    "        return False\n",
    "\n",
    "    \n"
   ]
  },
  {
   "cell_type": "code",
   "execution_count": 3,
   "id": "1ba75824",
   "metadata": {},
   "outputs": [],
   "source": [
    "class QLearning:\n",
    "    def __init__(self):\n",
    "        self.epsilon = 1.0\n",
    "        self.QLearningStates = {}\n",
    "  \n",
    "    getPosition = lambda self, current_board: tuple(tuple(current_board[i+j] for j in range(3)) for i in range(1, 10, 3))\n",
    "\n",
    "    def getQLearningValue_For_Action(self, current_board, current_position):\n",
    "        position = self.getPosition(current_board)\n",
    "        if position not in self.QLearningStates:\n",
    "            self.QLearningStates[position] = np.zeros((9,))\n",
    "        return self.QLearningStates[position][current_position - 1]\n",
    "  \n",
    "\n",
    "    def getBestPositionFromQLearning(self, current_board, possible_positions):\n",
    "        return random.choice(possible_positions) if random.random() < self.epsilon else max(possible_positions, key=lambda x: self.getQLearningValue_For_Action(current_board, x))\n",
    "            \n",
    "    def loadQLearningModel(self):\n",
    "        with open(\"TicTacToeQLearningModel.pickle\", \"rb\") as file:\n",
    "            self.QLearningStates = pickle.load(file)\n",
    "                    \n",
    "    "
   ]
  },
  {
   "cell_type": "code",
   "execution_count": 4,
   "id": "ab770bf7",
   "metadata": {},
   "outputs": [],
   "source": [
    "class TicTacToe_MinMax:\n",
    "    \n",
    "    def Min_Max_Move_with_alpha_beta_pruning(self, ttt_game, MinMax_Letter, QLearing_Letter):\n",
    "        optimised_score =  -math.inf\n",
    "        optimised_position = ttt_game.get_random_generated_move()\n",
    "\n",
    "        for possible_position in ttt_game.ttt_board.keys() : \n",
    "\n",
    "            if ttt_game.ttt_board[possible_position] == ' ' :\n",
    "                ttt_game.ttt_board[possible_position] = MinMax_Letter\n",
    "                current_score = self.evaluate_MinMax_score_with_alpha_beta_pruning(ttt_game, MinMax_Letter, QLearing_Letter, False, -math.inf, math.inf)\n",
    "                ttt_game.ttt_board[possible_position] = ' '\n",
    "\n",
    "                if current_score > optimised_score :\n",
    "                    optimised_score = current_score\n",
    "                    optimised_position = possible_position\n",
    "        \n",
    "        return optimised_position\n",
    "    \n",
    "    \n",
    "    def evaluate_MinMax_score_with_alpha_beta_pruning(self, ttt_game, MinMax_Letter, QLearing_Letter, isMinMaxMove, alpha, beta):\n",
    "        if ttt_game.validateWinForLetter(MinMax_Letter) :\n",
    "            return 1\n",
    "        elif ttt_game.validateWinForLetter(QLearing_Letter) :\n",
    "            return -1\n",
    "        elif ttt_game.validateDraw() :\n",
    "            return 0\n",
    "\n",
    "        if isMinMaxMove :\n",
    "            optimisedScore = -math.inf\n",
    "\n",
    "            for possible_position in ttt_game.ttt_board.keys():\n",
    "\n",
    "                if ttt_game.ttt_board[possible_position] == ' ' :\n",
    "                    ttt_game.ttt_board[possible_position] = MinMax_Letter\n",
    "                    current_score = self.evaluate_MinMax_score_with_alpha_beta_pruning(ttt_game, MinMax_Letter, QLearing_Letter, False, alpha, beta)\n",
    "                    ttt_game.ttt_board[possible_position] = ' '\n",
    "\n",
    "                    optimisedScore = max(optimisedScore, current_score)\n",
    "                    alpha = max(alpha, optimisedScore)\n",
    "\n",
    "                    if alpha >= beta :\n",
    "                        break\n",
    "\n",
    "            return optimisedScore\n",
    "\n",
    "        else:\n",
    "            optimisedScore = math.inf\n",
    "            \n",
    "            for possible_position in ttt_game.ttt_board.keys():\n",
    "                if ttt_game.ttt_board[possible_position] == ' ':\n",
    "                    ttt_game.ttt_board[possible_position] = QLearing_Letter\n",
    "                    current_score = self.evaluate_MinMax_score_with_alpha_beta_pruning(ttt_game, MinMax_Letter, QLearing_Letter, True, alpha, beta)\n",
    "                    ttt_game.ttt_board[possible_position] = ' '\n",
    "\n",
    "                    optimisedScore = min(optimisedScore, current_score)\n",
    "                    beta = min(beta, optimisedScore)\n",
    "\n",
    "                    if alpha >= beta :\n",
    "                        break\n",
    "\n",
    "            return optimisedScore"
   ]
  },
  {
   "cell_type": "code",
   "execution_count": 5,
   "id": "b861187d",
   "metadata": {},
   "outputs": [],
   "source": [
    "\n",
    "def play_tic_tac_toe(MinMaxPlaysFirst, QLearning, MinMax, ttt_game):\n",
    "        MinMaxLetter = 'O'\n",
    "        QLearning_Letter = 'X'\n",
    "\n",
    "        while True:\n",
    "            if MinMaxPlaysFirst:\n",
    "                \n",
    "                MinMaxPossible_Positions = [i for i in range(1, 10) if ttt_game.validateMove(i)]\n",
    "\n",
    "                if len(MinMaxPossible_Positions) == 0:\n",
    "                    return \"Draw\"\n",
    "            \n",
    "                MinMaxPosition = MinMax.Min_Max_Move_with_alpha_beta_pruning(ttt_game, MinMaxLetter, QLearning_Letter)\n",
    "                \n",
    "                if ttt_game.validateMove(MinMaxPosition):\n",
    "                    ttt_game.ttt_board[MinMaxPosition] = MinMaxLetter\n",
    "      \n",
    "                if ttt_game.validateWinForLetter(MinMaxLetter) : \n",
    "                    return \"MinMaxWon\"\n",
    "\n",
    "                if ttt_game.validateDraw():\n",
    "                    return \"Draw\"\n",
    "\n",
    "                QLearningPossible_Positions = [i for i in range(1, 10) if ttt_game.validateMove(i)]\n",
    "\n",
    "                if len(QLearningPossible_Positions) == 0:\n",
    "                    break\n",
    "\n",
    "                QLearningPosition = QLearning.getBestPositionFromQLearning(ttt_game.ttt_board, QLearningPossible_Positions)\n",
    "\n",
    "                if ttt_game.validateMove(QLearningPosition):\n",
    "                    ttt_game.ttt_board[QLearningPosition] = QLearning_Letter\n",
    "\n",
    "                if ttt_game.validateWinForLetter(QLearning_Letter) : \n",
    "                    return \"QLearningWon\"\n",
    "\n",
    "                if ttt_game.validateDraw():\n",
    "                    return \"Draw\"\n",
    "\n",
    "            else:\n",
    "                QLearningPossible_Positions = [i for i in range(1, 10) if ttt_game.validateMove(i)]\n",
    "\n",
    "                if len(QLearningPossible_Positions) == 0:\n",
    "                    break\n",
    "\n",
    "                QLearningPosition = QLearning.getBestPositionFromQLearning(ttt_game.ttt_board, QLearningPossible_Positions)\n",
    "\n",
    "                if ttt_game.validateMove(QLearningPosition):\n",
    "                    ttt_game.ttt_board[QLearningPosition] = QLearning_Letter\n",
    "\n",
    "                if ttt_game.validateWinForLetter(QLearning_Letter) : \n",
    "                    return \"QLearningWon\"\n",
    "\n",
    "                if ttt_game.validateDraw():\n",
    "                    return \"Draw\"\n",
    "\n",
    "\n",
    "                MinMaxPossible_Positions = [i for i in range(1, 10) if ttt_game.validateMove(i)]\n",
    "\n",
    "                if len(MinMaxPossible_Positions) == 0:\n",
    "                    return \"Draw\"\n",
    "            \n",
    "                MinMaxPosition = MinMax.Min_Max_Move_with_alpha_beta_pruning(ttt_game, MinMaxLetter, QLearning_Letter)\n",
    "                \n",
    "                if ttt_game.validateMove(MinMaxPosition):\n",
    "                    ttt_game.ttt_board[MinMaxPosition] = MinMaxLetter\n",
    "      \n",
    "                if ttt_game.validateWinForLetter(MinMaxLetter) : \n",
    "                    return \"MinMaxWon\"\n",
    "\n",
    "                if ttt_game.validateDraw():\n",
    "                    return \"Draw\"\n",
    "                "
   ]
  },
  {
   "cell_type": "markdown",
   "id": "c9625b64",
   "metadata": {},
   "source": [
    "### First Move: Random"
   ]
  },
  {
   "cell_type": "code",
   "execution_count": 6,
   "id": "dcca5ce0",
   "metadata": {
    "scrolled": true
   },
   "outputs": [
    {
     "name": "stderr",
     "output_type": "stream",
     "text": [
      "\r",
      "  0%|                                                                                         | 0/2000 [00:00<?, ?it/s]"
     ]
    },
    {
     "name": "stdout",
     "output_type": "stream",
     "text": [
      "Current Q Learning model has 5020 states\n"
     ]
    },
    {
     "name": "stderr",
     "output_type": "stream",
     "text": [
      "100%|██████████████████████████████████████████████████████████████████████████████| 2000/2000 [07:56<00:00,  4.19it/s]\n"
     ]
    }
   ],
   "source": [
    "games = 2000\n",
    "MinMaxWin = QLearningWin = Draw = 0\n",
    "\n",
    "qLearningPlayer = QLearning() \n",
    "qLearningPlayer.loadQLearningModel()\n",
    "\n",
    "ttt_min_max = TicTacToe_MinMax()\n",
    "print(f\"Current Q Learning model has {len(qLearningPlayer.QLearningStates)} states\")\n",
    "\n",
    "for _ in tqdm(range(games)):\n",
    "    ttt_game = TicTacToe_Game()\n",
    "    ttt_game.initialise_baord()\n",
    "    \n",
    "    MinMaxPlaysFirst = False\n",
    "    if ttt_game.tossForFirstMove() == 1 :\n",
    "        MinMaxPlaysFirst = True\n",
    "    else : \n",
    "        MinMaxPlaysFirst = False\n",
    "    \n",
    "    \n",
    "    winner = play_tic_tac_toe(MinMaxPlaysFirst, qLearningPlayer, ttt_min_max, ttt_game)\n",
    "    \n",
    "    if winner == 'QLearningWon':\n",
    "        QLearningWin += 1\n",
    "    elif winner == 'MinMaxWon':\n",
    "        MinMaxWin += 1\n",
    "    else:\n",
    "        Draw += 1\n",
    "\n"
   ]
  },
  {
   "cell_type": "code",
   "execution_count": 9,
   "id": "3284b3fe",
   "metadata": {},
   "outputs": [
    {
     "data": {
      "text/html": [
       "<style  type=\"text/css\" >\n",
       "#T_832c6_row0_col0,#T_832c6_row0_col1,#T_832c6_row0_col2,#T_832c6_row0_col3,#T_832c6_row0_col4{\n",
       "            white-space: nowrap;\n",
       "        }</style><table id=\"T_832c6_\" ><thead>    <tr>        <th class=\"blank level0\" ></th>        <th class=\"col_heading level0 col0\" >Game Type</th>        <th class=\"col_heading level0 col1\" >Total Number of Games</th>        <th class=\"col_heading level0 col2\" >Number of Games QLearning Won</th>        <th class=\"col_heading level0 col3\" >Number of Games MinMax Won</th>        <th class=\"col_heading level0 col4\" >Number of Games Drawn</th>    </tr></thead><tbody>\n",
       "                <tr>\n",
       "                        <th id=\"T_832c6_level0_row0\" class=\"row_heading level0 row0\" >0</th>\n",
       "                        <td id=\"T_832c6_row0_col0\" class=\"data row0 col0\" >First Move: Random </td>\n",
       "                        <td id=\"T_832c6_row0_col1\" class=\"data row0 col1\" >2000</td>\n",
       "                        <td id=\"T_832c6_row0_col2\" class=\"data row0 col2\" >206</td>\n",
       "                        <td id=\"T_832c6_row0_col3\" class=\"data row0 col3\" >1196</td>\n",
       "                        <td id=\"T_832c6_row0_col4\" class=\"data row0 col4\" >598</td>\n",
       "            </tr>\n",
       "    </tbody></table>"
      ],
      "text/plain": [
       "<pandas.io.formats.style.Styler at 0x2406ad26250>"
      ]
     },
     "metadata": {},
     "output_type": "display_data"
    }
   ],
   "source": [
    "statistics_df = pd.DataFrame(columns=['Game Type', 'Total Number of Games', 'Number of Games QLearning Won', 'Number of Games MinMax Won', 'Number of Games Drawn'])\n",
    "statistics_dict = {}\n",
    "statistics_dict['Game Type'] = 'First Move: Random '\n",
    "statistics_dict['Total Number of Games'] = games\n",
    "statistics_dict['Number of Games QLearning Won'] = QLearningWin\n",
    "statistics_dict['Number of Games MinMax Won'] = MinMaxWin\n",
    "statistics_dict['Number of Games Drawn'] = Draw\n",
    "statistics_df = statistics_df.append(statistics_dict, ignore_index = True)\n",
    "statistics_df = statistics_df.style.applymap(lambda x:'white-space:nowrap')\n",
    "display(statistics_df)"
   ]
  },
  {
   "cell_type": "markdown",
   "id": "388e565c",
   "metadata": {},
   "source": [
    "### First Move: Always Q-Learning Player"
   ]
  },
  {
   "cell_type": "code",
   "execution_count": 10,
   "id": "e3fdfba4",
   "metadata": {},
   "outputs": [
    {
     "name": "stderr",
     "output_type": "stream",
     "text": [
      "  0%|                                                                                 | 1/2000 [00:00<03:57,  8.40it/s]"
     ]
    },
    {
     "name": "stdout",
     "output_type": "stream",
     "text": [
      "Current Q Learning model has 5020 states\n"
     ]
    },
    {
     "name": "stderr",
     "output_type": "stream",
     "text": [
      "100%|██████████████████████████████████████████████████████████████████████████████| 2000/2000 [03:00<00:00, 11.09it/s]\n"
     ]
    }
   ],
   "source": [
    "games = 2000\n",
    "MinMaxWin = QLearningWin = Draw = 0\n",
    "\n",
    "qLearningPlayer = QLearning() \n",
    "qLearningPlayer.loadQLearningModel()\n",
    "\n",
    "ttt_min_max = TicTacToe_MinMax()\n",
    "print(f\"Current Q Learning model has {len(qLearningPlayer.QLearningStates)} states\")\n",
    "\n",
    "for _ in tqdm(range(games)):\n",
    "    ttt_game = TicTacToe_Game()\n",
    "    ttt_game.initialise_baord()\n",
    "    \n",
    "    MinMaxPlaysFirst = False\n",
    "    \n",
    "    winner = play_tic_tac_toe(MinMaxPlaysFirst, qLearningPlayer, ttt_min_max, ttt_game)\n",
    "    \n",
    "    if winner == 'QLearningWon':\n",
    "        QLearningWin += 1\n",
    "    elif winner == 'MinMaxWon':\n",
    "        MinMaxWin += 1\n",
    "    else:\n",
    "        Draw += 1\n",
    "\n"
   ]
  },
  {
   "cell_type": "code",
   "execution_count": 12,
   "id": "8199ccec",
   "metadata": {},
   "outputs": [
    {
     "data": {
      "text/html": [
       "<style  type=\"text/css\" >\n",
       "#T_a49b1_row0_col0,#T_a49b1_row0_col1,#T_a49b1_row0_col2,#T_a49b1_row0_col3,#T_a49b1_row0_col4{\n",
       "            white-space: nowrap;\n",
       "        }</style><table id=\"T_a49b1_\" ><thead>    <tr>        <th class=\"blank level0\" ></th>        <th class=\"col_heading level0 col0\" >Game Type</th>        <th class=\"col_heading level0 col1\" >Total Number of Games</th>        <th class=\"col_heading level0 col2\" >Number of Games QLearning Won</th>        <th class=\"col_heading level0 col3\" >Number of Games MinMax Won</th>        <th class=\"col_heading level0 col4\" >Number of Games Drawn</th>    </tr></thead><tbody>\n",
       "                <tr>\n",
       "                        <th id=\"T_a49b1_level0_row0\" class=\"row_heading level0 row0\" >0</th>\n",
       "                        <td id=\"T_a49b1_row0_col0\" class=\"data row0 col0\" >First Move: Q-Learning Player</td>\n",
       "                        <td id=\"T_a49b1_row0_col1\" class=\"data row0 col1\" >2000</td>\n",
       "                        <td id=\"T_a49b1_row0_col2\" class=\"data row0 col2\" >318</td>\n",
       "                        <td id=\"T_a49b1_row0_col3\" class=\"data row0 col3\" >906</td>\n",
       "                        <td id=\"T_a49b1_row0_col4\" class=\"data row0 col4\" >776</td>\n",
       "            </tr>\n",
       "    </tbody></table>"
      ],
      "text/plain": [
       "<pandas.io.formats.style.Styler at 0x24067835550>"
      ]
     },
     "metadata": {},
     "output_type": "display_data"
    }
   ],
   "source": [
    "statistics_df = pd.DataFrame(columns=['Game Type', 'Total Number of Games', 'Number of Games QLearning Won', 'Number of Games MinMax Won', 'Number of Games Drawn'])\n",
    "statistics_dict = {}\n",
    "statistics_dict['Game Type'] = 'First Move: Q-Learning Player'\n",
    "statistics_dict['Total Number of Games'] = games\n",
    "statistics_dict['Number of Games QLearning Won'] = QLearningWin\n",
    "statistics_dict['Number of Games MinMax Won'] = MinMaxWin\n",
    "statistics_dict['Number of Games Drawn'] = Draw\n",
    "statistics_df = statistics_df.append(statistics_dict, ignore_index = True)\n",
    "statistics_df = statistics_df.style.applymap(lambda x:'white-space:nowrap')\n",
    "display(statistics_df)"
   ]
  },
  {
   "cell_type": "markdown",
   "id": "821aa051",
   "metadata": {},
   "source": [
    "### First Move: Always Min-Max Player"
   ]
  },
  {
   "cell_type": "code",
   "execution_count": 13,
   "id": "7fee2946",
   "metadata": {},
   "outputs": [
    {
     "name": "stderr",
     "output_type": "stream",
     "text": [
      "\r",
      "  0%|                                                                                         | 0/2000 [00:00<?, ?it/s]"
     ]
    },
    {
     "name": "stdout",
     "output_type": "stream",
     "text": [
      "Current Q Learning model has 5020 states\n"
     ]
    },
    {
     "name": "stderr",
     "output_type": "stream",
     "text": [
      "100%|██████████████████████████████████████████████████████████████████████████████| 2000/2000 [12:15<00:00,  2.72it/s]\n"
     ]
    }
   ],
   "source": [
    "games = 2000\n",
    "MinMaxWin = QLearningWin = Draw = 0\n",
    "\n",
    "qLearningPlayer = QLearning() \n",
    "qLearningPlayer.loadQLearningModel()\n",
    "\n",
    "ttt_min_max = TicTacToe_MinMax()\n",
    "print(f\"Current Q Learning model has {len(qLearningPlayer.QLearningStates)} states\")\n",
    "\n",
    "for _ in tqdm(range(games)):\n",
    "    ttt_game = TicTacToe_Game()\n",
    "    ttt_game.initialise_baord()\n",
    "    \n",
    "    MinMaxPlaysFirst = True\n",
    "    \n",
    "    winner = play_tic_tac_toe(MinMaxPlaysFirst, qLearningPlayer, ttt_min_max, ttt_game)\n",
    "\n",
    "    if winner == 'QLearningWon':\n",
    "        QLearningWin += 1\n",
    "    elif winner == 'MinMaxWon':\n",
    "        MinMaxWin += 1\n",
    "    else:\n",
    "        Draw += 1\n",
    "\n"
   ]
  },
  {
   "cell_type": "code",
   "execution_count": 16,
   "id": "c44c15b6",
   "metadata": {},
   "outputs": [
    {
     "data": {
      "text/html": [
       "<style  type=\"text/css\" >\n",
       "#T_d554d_row0_col0,#T_d554d_row0_col1,#T_d554d_row0_col2,#T_d554d_row0_col3,#T_d554d_row0_col4{\n",
       "            white-space: nowrap;\n",
       "        }</style><table id=\"T_d554d_\" ><thead>    <tr>        <th class=\"blank level0\" ></th>        <th class=\"col_heading level0 col0\" >Game Type</th>        <th class=\"col_heading level0 col1\" >Total Number of Games</th>        <th class=\"col_heading level0 col2\" >Number of Games QLearning Won</th>        <th class=\"col_heading level0 col3\" >Number of Games MinMax Won</th>        <th class=\"col_heading level0 col4\" >Number of Games Drawn</th>    </tr></thead><tbody>\n",
       "                <tr>\n",
       "                        <th id=\"T_d554d_level0_row0\" class=\"row_heading level0 row0\" >0</th>\n",
       "                        <td id=\"T_d554d_row0_col0\" class=\"data row0 col0\" >First Move: Min-Max Player</td>\n",
       "                        <td id=\"T_d554d_row0_col1\" class=\"data row0 col1\" >2000</td>\n",
       "                        <td id=\"T_d554d_row0_col2\" class=\"data row0 col2\" >0</td>\n",
       "                        <td id=\"T_d554d_row0_col3\" class=\"data row0 col3\" >1809</td>\n",
       "                        <td id=\"T_d554d_row0_col4\" class=\"data row0 col4\" >191</td>\n",
       "            </tr>\n",
       "    </tbody></table>"
      ],
      "text/plain": [
       "<pandas.io.formats.style.Styler at 0x2406abeb250>"
      ]
     },
     "metadata": {},
     "output_type": "display_data"
    }
   ],
   "source": [
    "statistics_df = pd.DataFrame(columns=['Game Type', 'Total Number of Games', 'Number of Games QLearning Won', 'Number of Games MinMax Won', 'Number of Games Drawn'])\n",
    "statistics_dict = {}\n",
    "statistics_dict['Game Type'] = 'First Move: Min-Max Player'\n",
    "statistics_dict['Total Number of Games'] = games\n",
    "statistics_dict['Number of Games QLearning Won'] = QLearningWin\n",
    "statistics_dict['Number of Games MinMax Won'] = MinMaxWin\n",
    "statistics_dict['Number of Games Drawn'] = Draw\n",
    "statistics_df = statistics_df.append(statistics_dict, ignore_index = True)\n",
    "statistics_df = statistics_df.style.applymap(lambda x:'white-space:nowrap')\n",
    "display(statistics_df)"
   ]
  },
  {
   "cell_type": "code",
   "execution_count": null,
   "id": "3a2ecf6d",
   "metadata": {},
   "outputs": [],
   "source": []
  }
 ],
 "metadata": {
  "kernelspec": {
   "display_name": "Python 3",
   "language": "python",
   "name": "python3"
  },
  "language_info": {
   "codemirror_mode": {
    "name": "ipython",
    "version": 3
   },
   "file_extension": ".py",
   "mimetype": "text/x-python",
   "name": "python",
   "nbconvert_exporter": "python",
   "pygments_lexer": "ipython3",
   "version": "3.8.8"
  }
 },
 "nbformat": 4,
 "nbformat_minor": 5
}
