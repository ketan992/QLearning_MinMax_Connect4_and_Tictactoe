{
 "cells": [
  {
   "cell_type": "code",
   "execution_count": 1,
   "id": "9193fa3e",
   "metadata": {},
   "outputs": [],
   "source": [
    "import random\n",
    "import math\n",
    "from IPython.display import display\n",
    "import pandas as pd\n",
    "from tqdm import tqdm\n",
    "import pickle\n",
    "import numpy as np\n",
    "import time"
   ]
  },
  {
   "cell_type": "code",
   "execution_count": 2,
   "id": "d824f4b0",
   "metadata": {},
   "outputs": [],
   "source": [
    "class Connect4_Game:\n",
    "    \n",
    "    def initialise_board(self) : \n",
    "        self.rows = 6\n",
    "        self.columns = 7\n",
    "        self.connect4_board = np.zeros((self.rows, self.columns))\n",
    "    \n",
    "    validateMove = lambda self, column: self.connect4_board[len(self.connect4_board)-1][column] == 0\n",
    "    \n",
    "    getNextAvailableRow = lambda self, column: next((row for row in range(len(self.connect4_board)) if self.connect4_board[row][column] == 0), None)\n",
    "\n",
    "    getValidMove = lambda self: [column for column in range(self.columns) if self.validateMove(column)]\n",
    "\n",
    "    def getNextAvailablePosition(self, letter):\n",
    "        rows, cols = self.rows, self.columns\n",
    "        for row, row_vals in enumerate(self.connect4_board):\n",
    "            for col, col_val in enumerate(row_vals[:-3]):\n",
    "                if all(elem == letter for elem in row_vals[col:col+4]):\n",
    "                    return row, col\n",
    "            for col, col_vals in zip(range(cols), (self.connect4_board[r][col] for r in range(row, min(row+4, rows)))):\n",
    "                if all(elem == letter for elem in col_vals):\n",
    "                    return row, col\n",
    "            for col, col_vals in enumerate(row_vals[:-3]):\n",
    "                if row < rows-3 and col < cols-3:\n",
    "                    diag_vals = [self.connect4_board[row+i][col+i] for i in range(4)]\n",
    "                    if all(elem == letter for elem in diag_vals):\n",
    "                        return row, col\n",
    "            for col, col_vals in enumerate(row_vals[:-3]):\n",
    "                if row >= 3 and col < cols-3:\n",
    "                    diag_vals = [self.connect4_board[row-i][col+i] for i in range(4)]\n",
    "                    if all(elem == letter for elem in diag_vals):\n",
    "                        return row, col\n",
    "        else:\n",
    "            return -1, -1\n",
    "\n",
    "    \n",
    "\n",
    "    def validateWin(self, letter):\n",
    "        for row in range(self.rows):\n",
    "            for col in range(self.columns - 3):\n",
    "                if all(self.connect4_board[row][col + i] == letter for i in range(4)):\n",
    "                    return True\n",
    "\n",
    "        for row in range(self.rows - 3):\n",
    "            for col in range(self.columns):\n",
    "                if all(self.connect4_board[row + i][col] == letter for i in range(4)):\n",
    "                    return True\n",
    "\n",
    "        for row in range(self.rows - 3):\n",
    "            for col in range(self.columns - 3):\n",
    "                if all(self.connect4_board[row + i][col + i] == letter for i in range(4)):\n",
    "                    return True\n",
    "\n",
    "        for row in range(3, self.rows):\n",
    "            for col in range(self.columns - 3):\n",
    "                if all(self.connect4_board[row - i][col + i] == letter for i in range(4)):\n",
    "                    return True\n",
    "\n",
    "        return False\n",
    "\n",
    "    \n",
    "        \n",
    "    def tossForFirstMove(self):\n",
    "        choices = [1,2]\n",
    "        return random.choice(choices)\n",
    "        \n",
    "    def validateFinalMove(self, SI_Agent_Letter, MinMax_Letter):\n",
    "        return any(self.validateWin(letter) for letter in (SI_Agent_Letter, MinMax_Letter)) or not self.getValidMove()"
   ]
  },
  {
   "cell_type": "code",
   "execution_count": 3,
   "id": "4d21fec6",
   "metadata": {},
   "outputs": [],
   "source": [
    "class SI_Agent : \n",
    "    \n",
    "    def Semi_Intelligent_Agent_Move(self, c4_game, SIAgentLetter, MinMaxLetter) : \n",
    "        if c4_game.validateFinalMove(SIAgentLetter, MinMaxLetter):\n",
    "            siagent_row, siagent_col = c4_game.getNextAvailablePosotion(SIAgentLetter)\n",
    "            if siagent_row != -1:\n",
    "                return siagent_row, siagent_col\n",
    "            else:\n",
    "                minmax_row, minmax_col = c4_game.getNextAvailablePosotion(MinMaxLetter)\n",
    "                if minmax_row != -1:\n",
    "                    return minmax_row, minmax_col\n",
    "                else:\n",
    "                    possible_positions = c4_game.getValidMove()\n",
    "                    random_row = c4_game.getNextAvailableRow(random.choice(possible_positions))\n",
    "                    random_col = random.choice(possible_positions)\n",
    "                    return random_row, random_col\n",
    "        else:\n",
    "            possible_positions = c4_game.getValidMove()\n",
    "            random_row = c4_game.getNextAvailableRow(random.choice(possible_positions)) \n",
    "            random_col = random.choice(possible_positions)\n",
    "\n",
    "            return random_row, random_col"
   ]
  },
  {
   "cell_type": "code",
   "execution_count": 4,
   "id": "5c993198",
   "metadata": {},
   "outputs": [],
   "source": [
    "class QLearning:\n",
    "    def __init__(self):\n",
    "        self.epsilon = 1.0\n",
    "        self.QLearningStates = {}\n",
    "    \n",
    "    getPosition = lambda self, positions: int(''.join([str(int(position)) for position in positions.flatten()]))\n",
    "\n",
    "    def getQLearningValue_For_Action(self, current_board, current_position):\n",
    "        position = self.getPosition(current_board)\n",
    "        if position not in self.QLearningStates:\n",
    "            self.QLearningStates[(position, current_position)] = 0\n",
    "        return self.QLearningStates[(position, current_position)]\n",
    "    \n",
    "    def getBestPositionFromQLearning(self, current_board, possible_positions):\n",
    "        return random.choice(possible_positions) if random.random() < self.epsilon else max([(self.getQLearningValue_For_Action(current_board, position), position) for position in possible_positions], key=lambda x: x[0])[1]\n",
    "    \n",
    "    def updateQLearningModel(self, current_board, current_position, reward, successive_board, possible_positions):\n",
    "        bestQValue = max([self.getQLearningValue_For_Action(successive_board, next_position) for next_position in possible_positions], default=0)\n",
    "        optimisedQValue = self.getQLearningValue_For_Action(current_board, current_position) + 0.1 * ((reward + 0.99 * bestQValue) - self.getQLearningValue_For_Action(current_board, current_position))\n",
    "        position = self.getPosition(current_board)\n",
    "        self.QLearningStates[(position, current_position)] = optimisedQValue\n",
    "        \n",
    "    def update_epsilon(self):\n",
    "        self.epsilon = max(self.epsilon * 0.999, 0.1)\n",
    "        \n",
    "    def saveQLearningModel(self):\n",
    "        with open(\"Connect4QLearningModel.pickle\", \"wb\") as file:\n",
    "            pickle.dump(self.QLearningStates, file)\n",
    "            \n",
    "    def loadQLearningModel(self):\n",
    "        with open(\"Connect4QLearningModel.pickle\", \"rb\") as file:\n",
    "            self.QLearningStates = pickle.load(file)\n",
    "            \n",
    "    def trainQLearningModel(self):\n",
    "        QLearningWin = SIAgentWin = Draw = 0\n",
    "        QLearningLetter = 1\n",
    "        SIAgentLetter = 2\n",
    "        total_episodes = 3000000\n",
    "        si_agent = SI_Agent()\n",
    "        \n",
    "        for episode in tqdm(range(total_episodes)):\n",
    "            c4Game = Connect4_Game()\n",
    "            c4Game.initialise_board()\n",
    "            current_board = c4Game.connect4_board\n",
    "            \n",
    "            while True:\n",
    "            \n",
    "                QLearningPossible_Positions = c4Game.getValidMove()\n",
    "                \n",
    "                if len(QLearningPossible_Positions) == 0:\n",
    "                    break\n",
    "                \n",
    "                QLearning_chosen_column = self.getBestPositionFromQLearning(current_board, QLearningPossible_Positions)\n",
    "                QLearning_chosen_row = c4Game.getNextAvailableRow(QLearning_chosen_column)\n",
    "                c4Game.connect4_board[QLearning_chosen_row][QLearning_chosen_column] = QLearningLetter\n",
    "                \n",
    "                possibleMoves = c4Game.getValidMove()\n",
    "                \n",
    "                if c4Game.validateWin(QLearningLetter):\n",
    "                    QLearningWin += 1\n",
    "                    self.updateQLearningModel(current_board, QLearning_chosen_column, 1, c4Game.connect4_board, [])\n",
    "                    break\n",
    "                    \n",
    "                elif c4Game.validateWin(SIAgentLetter):\n",
    "                    SIAgentWin += 1\n",
    "                    self.updateQLearningModel(current_board, QLearning_chosen_column, -1, c4Game.connect4_board, [])\n",
    "                    break\n",
    "\n",
    "                elif len(possibleMoves) == 0:\n",
    "                    Draw += 1\n",
    "                    self.updateQLearningModel(current_board, QLearning_chosen_column, 0, c4Game.connect4_board, [])\n",
    "                    break\n",
    "                \n",
    "                else:\n",
    "                    self.updateQLearningModel(current_board, QLearning_chosen_column, 0, c4Game.connect4_board, possibleMoves)\n",
    "                    \n",
    "                    \n",
    "                SIAgent_chosen_row, SIAgent_chosen_column = si_agent.Semi_Intelligent_Agent_Move(c4Game, SIAgentLetter, QLearningLetter)\n",
    "                c4Game.connect4_board[SIAgent_chosen_row][SIAgent_chosen_column] = SIAgentLetter\n",
    "                \n",
    "                possibleMoves = c4Game.getValidMove()\n",
    "                \n",
    "                if c4Game.validateWin(QLearningLetter):\n",
    "                    QLearningWin += 1\n",
    "                    self.updateQLearningModel(current_board, SIAgent_chosen_column, 1, c4Game.connect4_board, [])\n",
    "                    break\n",
    "                    \n",
    "                elif c4Game.validateWin(SIAgentLetter):\n",
    "                    SIAgentWin += 1\n",
    "                    self.updateQLearningModel(current_board, SIAgent_chosen_column, -1, c4Game.connect4_board, [])\n",
    "                    break\n",
    "\n",
    "                elif len(possibleMoves) == 0:\n",
    "                    Draw += 1\n",
    "                    self.updateQLearningModel(current_board, SIAgent_chosen_column, 0, c4Game.connect4_board, [])\n",
    "                    break\n",
    "                \n",
    "                else:\n",
    "                    self.updateQLearningModel(current_board, SIAgent_chosen_column, 0, c4Game.connect4_board, possibleMoves)\n",
    "                \n",
    "                current_board = c4Game.connect4_board\n",
    "            self.update_epsilon()\n",
    "                    \n",
    "        return QLearningWin, SIAgentWin, Draw, total_episodes\n",
    "                    "
   ]
  },
  {
   "cell_type": "markdown",
   "id": "66954361",
   "metadata": {},
   "source": [
    "### Training QLearning Model"
   ]
  },
  {
   "cell_type": "code",
   "execution_count": 5,
   "id": "a0accff1",
   "metadata": {},
   "outputs": [
    {
     "name": "stderr",
     "output_type": "stream",
     "text": [
      "100%|█████████████████████████████████████████████████████████████████████| 3000000/3000000 [3:17:07<00:00, 253.64it/s]\n"
     ]
    }
   ],
   "source": [
    "qLearning = QLearning()\n",
    "\n",
    "QLearningWin, SIAgentWin, Draw, total_episodes = qLearning.trainQLearningModel()\n",
    "\n",
    "qLearning.saveQLearningModel()"
   ]
  },
  {
   "cell_type": "code",
   "execution_count": 6,
   "id": "c388ba66",
   "metadata": {},
   "outputs": [
    {
     "data": {
      "text/html": [
       "<style  type=\"text/css\" >\n",
       "#T_98150_row0_col0,#T_98150_row0_col1,#T_98150_row0_col2,#T_98150_row0_col3,#T_98150_row0_col4{\n",
       "            white-space: nowrap;\n",
       "        }</style><table id=\"T_98150_\" ><thead>    <tr>        <th class=\"blank level0\" ></th>        <th class=\"col_heading level0 col0\" >Game Type</th>        <th class=\"col_heading level0 col1\" >Total Number of Games</th>        <th class=\"col_heading level0 col2\" >Number of Games Qlearning Won</th>        <th class=\"col_heading level0 col3\" >Number of Games Semi-Intelligent player Won</th>        <th class=\"col_heading level0 col4\" >Number of Games Drawn</th>    </tr></thead><tbody>\n",
       "                <tr>\n",
       "                        <th id=\"T_98150_level0_row0\" class=\"row_heading level0 row0\" >0</th>\n",
       "                        <td id=\"T_98150_row0_col0\" class=\"data row0 col0\" >Training</td>\n",
       "                        <td id=\"T_98150_row0_col1\" class=\"data row0 col1\" >3000000</td>\n",
       "                        <td id=\"T_98150_row0_col2\" class=\"data row0 col2\" >2943920</td>\n",
       "                        <td id=\"T_98150_row0_col3\" class=\"data row0 col3\" >55547</td>\n",
       "                        <td id=\"T_98150_row0_col4\" class=\"data row0 col4\" >533</td>\n",
       "            </tr>\n",
       "    </tbody></table>"
      ],
      "text/plain": [
       "<pandas.io.formats.style.Styler at 0x2335183e880>"
      ]
     },
     "metadata": {},
     "output_type": "display_data"
    }
   ],
   "source": [
    "\n",
    "statistics_df = pd.DataFrame(columns=['Game Type', 'Total Number of Games', 'Number of Games Qlearning Won', 'Number of Games Semi-Intelligent player Won', 'Number of Games Drawn'])\n",
    "statistics_dict = {}\n",
    "statistics_dict['Game Type'] = 'Training'\n",
    "statistics_dict['Total Number of Games'] = total_episodes\n",
    "statistics_dict['Number of Games Qlearning Won'] = QLearningWin\n",
    "statistics_dict['Number of Games Semi-Intelligent player Won'] = SIAgentWin\n",
    "statistics_dict['Number of Games Drawn'] = Draw\n",
    "\n",
    "statistics_df = statistics_df.append(statistics_dict, ignore_index = True)\n",
    "statistics_df = statistics_df.style.applymap(lambda x:'white-space:nowrap')\n",
    "display(statistics_df)\n",
    "\n"
   ]
  },
  {
   "cell_type": "code",
   "execution_count": 7,
   "id": "63d15433",
   "metadata": {},
   "outputs": [],
   "source": [
    "def play_connect4(SIAgent_plays_first, c4Game, si_agent, qLearningPlayer):\n",
    "    QLearningLetter = 1\n",
    "    SIAgentLetter = 2\n",
    "\n",
    "    while True:\n",
    "        if SIAgent_plays_first:\n",
    "            \n",
    "            SIAgentPossible_Positions = c4Game.getValidMove()\n",
    "\n",
    "            if len(SIAgentPossible_Positions) == 0:\n",
    "                return \"Draw\"\n",
    "\n",
    "            SIAgent_chosen_row, SIAgent_chosen_column = si_agent.Semi_Intelligent_Agent_Move(c4Game, SIAgentLetter, QLearningLetter)\n",
    "            c4Game.connect4_board[SIAgent_chosen_row][SIAgent_chosen_column] = SIAgentLetter\n",
    "            \n",
    "            if c4Game.validateWin(SIAgentLetter) : \n",
    "                return \"SIAgentWon\"\n",
    "\n",
    "            if c4Game.validateWin(QLearningLetter):\n",
    "                return \"QLearningWon\"\n",
    "\n",
    "            if len(c4Game.getValidMove()) == 0 :\n",
    "                return \"Draw\"\n",
    "            \n",
    "            QLearningPossible_Positions = c4Game.getValidMove()\n",
    "                \n",
    "            if len(QLearningPossible_Positions) == 0:\n",
    "                return \"Draw\"\n",
    "                \n",
    "            QLearning_chosen_column = qLearningPlayer.getBestPositionFromQLearning(c4Game.connect4_board, QLearningPossible_Positions)\n",
    "            QLearning_chosen_row = c4Game.getNextAvailableRow(QLearning_chosen_column)\n",
    "            c4Game.connect4_board[QLearning_chosen_row][QLearning_chosen_column] = QLearningLetter\n",
    "            \n",
    "            if c4Game.validateWin(SIAgentLetter) : \n",
    "                return \"SIAgentWon\"\n",
    "\n",
    "            if c4Game.validateWin(QLearningLetter):\n",
    "                return \"QLearningWon\"\n",
    "\n",
    "            if len(c4Game.getValidMove()) == 0 :\n",
    "                return \"Draw\"\n",
    "            \n",
    "        else:\n",
    "            QLearningPossible_Positions = c4Game.getValidMove()\n",
    "                \n",
    "            if len(QLearningPossible_Positions) == 0:\n",
    "                return \"Draw\"\n",
    "                \n",
    "            QLearning_chosen_column = qLearningPlayer.getBestPositionFromQLearning(c4Game.connect4_board, QLearningPossible_Positions)\n",
    "            QLearning_chosen_row = c4Game.getNextAvailableRow(QLearning_chosen_column)\n",
    "            c4Game.connect4_board[QLearning_chosen_row][QLearning_chosen_column] = QLearningLetter\n",
    "            \n",
    "            if c4Game.validateWin(SIAgentLetter) : \n",
    "                return \"SIAgentWon\"\n",
    "\n",
    "            if c4Game.validateWin(QLearningLetter):\n",
    "                return \"QLearningWon\"\n",
    "\n",
    "            if len(c4Game.getValidMove()) == 0 :\n",
    "                return \"Draw\"\n",
    "\n",
    "\n",
    "            SIAgentPossible_Positions = c4Game.getValidMove()\n",
    "\n",
    "            if len(SIAgentPossible_Positions) == 0:\n",
    "                return \"Draw\"\n",
    "\n",
    "            SIAgent_chosen_row, SIAgent_chosen_column = si_agent.Semi_Intelligent_Agent_Move(c4Game, SIAgentLetter, QLearningLetter)\n",
    "            c4Game.connect4_board[SIAgent_chosen_row][SIAgent_chosen_column] = SIAgentLetter\n",
    "            \n",
    "            if c4Game.validateWin(SIAgentLetter) : \n",
    "                return \"SIAgentWon\"\n",
    "\n",
    "            if c4Game.validateWin(QLearningLetter):\n",
    "                return \"QLearningWon\"\n",
    "\n",
    "            if len(c4Game.getValidMove()) == 0 :\n",
    "                return \"Draw\""
   ]
  },
  {
   "cell_type": "markdown",
   "id": "a026ccc7",
   "metadata": {},
   "source": [
    "### First Move: Random"
   ]
  },
  {
   "cell_type": "code",
   "execution_count": 14,
   "id": "76170e0c",
   "metadata": {},
   "outputs": [
    {
     "name": "stderr",
     "output_type": "stream",
     "text": [
      "  2%|█▏                                                                             | 31/2000 [00:00<00:13, 151.35it/s]"
     ]
    },
    {
     "name": "stdout",
     "output_type": "stream",
     "text": [
      "Current Q Learning model has 11822743 states\n"
     ]
    },
    {
     "name": "stderr",
     "output_type": "stream",
     "text": [
      "100%|█████████████████████████████████████████████████████████████████████████████| 2000/2000 [00:12<00:00, 162.19it/s]\n"
     ]
    }
   ],
   "source": [
    "games = 2000\n",
    "SIAgentWin = QLearningWin = Draw = 0\n",
    "\n",
    "qLearningPlayer = QLearning() \n",
    "qLearningPlayer.loadQLearningModel()\n",
    "\n",
    "si_agent = SI_Agent()\n",
    "\n",
    "\n",
    "print(f\"Current Q Learning model has {len(qLearningPlayer.QLearningStates)} states\")\n",
    "\n",
    "for _ in tqdm(range(games)):\n",
    "    c4Game = Connect4_Game()\n",
    "    c4Game.initialise_board()\n",
    "    \n",
    "    SIAgent_plays_first = False\n",
    "    if c4Game.tossForFirstMove() == 1 :\n",
    "        SIAgent_plays_first = True\n",
    "    else : \n",
    "        SIAgent_plays_first = False\n",
    "    \n",
    "    winner = play_connect4(SIAgent_plays_first, c4Game, si_agent, qLearningPlayer)\n",
    "\n",
    "    if winner == 'QLearningWon':\n",
    "        QLearningWin += 1\n",
    "    elif winner == 'SIAgentWon':\n",
    "        SIAgentWin += 1\n",
    "    else:\n",
    "        Draw += 1\n"
   ]
  },
  {
   "cell_type": "code",
   "execution_count": 15,
   "id": "8b764589",
   "metadata": {},
   "outputs": [
    {
     "data": {
      "text/html": [
       "<style  type=\"text/css\" >\n",
       "#T_2a60b_row0_col0,#T_2a60b_row0_col1,#T_2a60b_row0_col2,#T_2a60b_row0_col3,#T_2a60b_row0_col4{\n",
       "            white-space: nowrap;\n",
       "        }</style><table id=\"T_2a60b_\" ><thead>    <tr>        <th class=\"blank level0\" ></th>        <th class=\"col_heading level0 col0\" >Game Type</th>        <th class=\"col_heading level0 col1\" >Total Number of Games</th>        <th class=\"col_heading level0 col2\" >Number of Games QLearning Won</th>        <th class=\"col_heading level0 col3\" >Number of Games Semi-Intelligent player Won</th>        <th class=\"col_heading level0 col4\" >Number of Games Drawn</th>    </tr></thead><tbody>\n",
       "                <tr>\n",
       "                        <th id=\"T_2a60b_level0_row0\" class=\"row_heading level0 row0\" >0</th>\n",
       "                        <td id=\"T_2a60b_row0_col0\" class=\"data row0 col0\" >First Move: Random</td>\n",
       "                        <td id=\"T_2a60b_row0_col1\" class=\"data row0 col1\" >2000</td>\n",
       "                        <td id=\"T_2a60b_row0_col2\" class=\"data row0 col2\" >1277</td>\n",
       "                        <td id=\"T_2a60b_row0_col3\" class=\"data row0 col3\" >694</td>\n",
       "                        <td id=\"T_2a60b_row0_col4\" class=\"data row0 col4\" >29</td>\n",
       "            </tr>\n",
       "    </tbody></table>"
      ],
      "text/plain": [
       "<pandas.io.formats.style.Styler at 0x233d62b8c70>"
      ]
     },
     "metadata": {},
     "output_type": "display_data"
    }
   ],
   "source": [
    "statistics_df = pd.DataFrame(columns=['Game Type', 'Total Number of Games', 'Number of Games QLearning Won', 'Number of Games Semi-Intelligent player Won', 'Number of Games Drawn'])\n",
    "statistics_dict = {}\n",
    "statistics_dict['Game Type'] = 'First Move: Random'\n",
    "statistics_dict['Total Number of Games'] = games\n",
    "statistics_dict['Number of Games QLearning Won'] = QLearningWin\n",
    "statistics_dict['Number of Games Semi-Intelligent player Won'] = SIAgentWin\n",
    "statistics_dict['Number of Games Drawn'] = Draw\n",
    "statistics_df = statistics_df.append(statistics_dict, ignore_index = True)\n",
    "statistics_df = statistics_df.style.applymap(lambda x:'white-space:nowrap')\n",
    "display(statistics_df)"
   ]
  },
  {
   "cell_type": "markdown",
   "id": "89dab0ec",
   "metadata": {},
   "source": [
    "### First Move: Always Semi-Intelligent Agent"
   ]
  },
  {
   "cell_type": "code",
   "execution_count": 16,
   "id": "8f7724a4",
   "metadata": {},
   "outputs": [
    {
     "name": "stderr",
     "output_type": "stream",
     "text": [
      "  1%|█                                                                              | 26/2000 [00:00<00:15, 131.49it/s]"
     ]
    },
    {
     "name": "stdout",
     "output_type": "stream",
     "text": [
      "Current Q Learning model has 11822743 states\n"
     ]
    },
    {
     "name": "stderr",
     "output_type": "stream",
     "text": [
      "100%|█████████████████████████████████████████████████████████████████████████████| 2000/2000 [00:13<00:00, 151.10it/s]\n"
     ]
    }
   ],
   "source": [
    "games = 2000\n",
    "SIAgentWin = QLearningWin = Draw = 0\n",
    "\n",
    "qLearningPlayer = QLearning() \n",
    "qLearningPlayer.loadQLearningModel()\n",
    "\n",
    "si_agent = SI_Agent()\n",
    "\n",
    "\n",
    "print(f\"Current Q Learning model has {len(qLearningPlayer.QLearningStates)} states\")\n",
    "\n",
    "for _ in tqdm(range(games)):\n",
    "    c4Game = Connect4_Game()\n",
    "    c4Game.initialise_board()\n",
    "    \n",
    "    SIAgent_plays_first = True\n",
    "    \n",
    "    winner = play_connect4(SIAgent_plays_first, c4Game, si_agent, qLearningPlayer)\n",
    "\n",
    "    if winner == 'QLearningWon':\n",
    "        QLearningWin += 1\n",
    "    elif winner == 'SIAgentWon':\n",
    "        SIAgentWin += 1\n",
    "    else:\n",
    "        Draw += 1\n"
   ]
  },
  {
   "cell_type": "code",
   "execution_count": 17,
   "id": "604f1e4d",
   "metadata": {},
   "outputs": [
    {
     "data": {
      "text/html": [
       "<style  type=\"text/css\" >\n",
       "#T_5abac_row0_col0,#T_5abac_row0_col1,#T_5abac_row0_col2,#T_5abac_row0_col3,#T_5abac_row0_col4{\n",
       "            white-space: nowrap;\n",
       "        }</style><table id=\"T_5abac_\" ><thead>    <tr>        <th class=\"blank level0\" ></th>        <th class=\"col_heading level0 col0\" >Game Type</th>        <th class=\"col_heading level0 col1\" >Total Number of Games</th>        <th class=\"col_heading level0 col2\" >Number of Games QLearning Won</th>        <th class=\"col_heading level0 col3\" >Number of Games Semi-Intelligent player Won</th>        <th class=\"col_heading level0 col4\" >Number of Games Drawn</th>    </tr></thead><tbody>\n",
       "                <tr>\n",
       "                        <th id=\"T_5abac_level0_row0\" class=\"row_heading level0 row0\" >0</th>\n",
       "                        <td id=\"T_5abac_row0_col0\" class=\"data row0 col0\" >First Move: First Move: Semi Intelligent Player</td>\n",
       "                        <td id=\"T_5abac_row0_col1\" class=\"data row0 col1\" >2000</td>\n",
       "                        <td id=\"T_5abac_row0_col2\" class=\"data row0 col2\" >1225</td>\n",
       "                        <td id=\"T_5abac_row0_col3\" class=\"data row0 col3\" >740</td>\n",
       "                        <td id=\"T_5abac_row0_col4\" class=\"data row0 col4\" >35</td>\n",
       "            </tr>\n",
       "    </tbody></table>"
      ],
      "text/plain": [
       "<pandas.io.formats.style.Styler at 0x2330a5e2100>"
      ]
     },
     "metadata": {},
     "output_type": "display_data"
    }
   ],
   "source": [
    "statistics_df = pd.DataFrame(columns=['Game Type', 'Total Number of Games', 'Number of Games QLearning Won', 'Number of Games Semi-Intelligent player Won', 'Number of Games Drawn'])\n",
    "statistics_dict = {}\n",
    "statistics_dict['Game Type'] = 'First Move: First Move: Semi Intelligent Player'\n",
    "statistics_dict['Total Number of Games'] = games\n",
    "statistics_dict['Number of Games QLearning Won'] = QLearningWin\n",
    "statistics_dict['Number of Games Semi-Intelligent player Won'] = SIAgentWin\n",
    "statistics_dict['Number of Games Drawn'] = Draw\n",
    "statistics_df = statistics_df.append(statistics_dict, ignore_index = True)\n",
    "statistics_df = statistics_df.style.applymap(lambda x:'white-space:nowrap')\n",
    "display(statistics_df)"
   ]
  },
  {
   "cell_type": "markdown",
   "id": "2637c898",
   "metadata": {},
   "source": [
    "### First Move: Always Q-Learning player"
   ]
  },
  {
   "cell_type": "code",
   "execution_count": 18,
   "id": "03d2de20",
   "metadata": {},
   "outputs": [
    {
     "name": "stderr",
     "output_type": "stream",
     "text": [
      "  2%|█▍                                                                             | 35/2000 [00:00<00:11, 172.47it/s]"
     ]
    },
    {
     "name": "stdout",
     "output_type": "stream",
     "text": [
      "Current Q Learning model has 11822743 states\n"
     ]
    },
    {
     "name": "stderr",
     "output_type": "stream",
     "text": [
      "100%|█████████████████████████████████████████████████████████████████████████████| 2000/2000 [00:11<00:00, 170.16it/s]\n"
     ]
    }
   ],
   "source": [
    "games = 2000\n",
    "SIAgentWin = QLearningWin = Draw = 0\n",
    "\n",
    "qLearningPlayer = QLearning() \n",
    "qLearningPlayer.loadQLearningModel()\n",
    "\n",
    "si_agent = SI_Agent()\n",
    "\n",
    "\n",
    "print(f\"Current Q Learning model has {len(qLearningPlayer.QLearningStates)} states\")\n",
    "\n",
    "for _ in tqdm(range(games)):\n",
    "    c4Game = Connect4_Game()\n",
    "    c4Game.initialise_board()\n",
    "    \n",
    "    SIAgent_plays_first = False\n",
    "    \n",
    "    winner = play_connect4(SIAgent_plays_first, c4Game, si_agent, qLearningPlayer)\n",
    "\n",
    "    if winner == 'QLearningWon':\n",
    "        QLearningWin += 1\n",
    "    elif winner == 'SIAgentWon':\n",
    "        SIAgentWin += 1\n",
    "    else:\n",
    "        Draw += 1\n"
   ]
  },
  {
   "cell_type": "code",
   "execution_count": 19,
   "id": "2886a43b",
   "metadata": {},
   "outputs": [
    {
     "data": {
      "text/html": [
       "<style  type=\"text/css\" >\n",
       "#T_1d034_row0_col0,#T_1d034_row0_col1,#T_1d034_row0_col2,#T_1d034_row0_col3,#T_1d034_row0_col4{\n",
       "            white-space: nowrap;\n",
       "        }</style><table id=\"T_1d034_\" ><thead>    <tr>        <th class=\"blank level0\" ></th>        <th class=\"col_heading level0 col0\" >Game Type</th>        <th class=\"col_heading level0 col1\" >Total Number of Games</th>        <th class=\"col_heading level0 col2\" >Number of Games QLearning Won</th>        <th class=\"col_heading level0 col3\" >Number of Games Semi-Intelligent player Won</th>        <th class=\"col_heading level0 col4\" >Number of Games Drawn</th>    </tr></thead><tbody>\n",
       "                <tr>\n",
       "                        <th id=\"T_1d034_level0_row0\" class=\"row_heading level0 row0\" >0</th>\n",
       "                        <td id=\"T_1d034_row0_col0\" class=\"data row0 col0\" >First Move: Q-Learning Player</td>\n",
       "                        <td id=\"T_1d034_row0_col1\" class=\"data row0 col1\" >2000</td>\n",
       "                        <td id=\"T_1d034_row0_col2\" class=\"data row0 col2\" >1322</td>\n",
       "                        <td id=\"T_1d034_row0_col3\" class=\"data row0 col3\" >646</td>\n",
       "                        <td id=\"T_1d034_row0_col4\" class=\"data row0 col4\" >32</td>\n",
       "            </tr>\n",
       "    </tbody></table>"
      ],
      "text/plain": [
       "<pandas.io.formats.style.Styler at 0x23352949070>"
      ]
     },
     "metadata": {},
     "output_type": "display_data"
    }
   ],
   "source": [
    "statistics_df = pd.DataFrame(columns=['Game Type', 'Total Number of Games', 'Number of Games QLearning Won', 'Number of Games Semi-Intelligent player Won', 'Number of Games Drawn'])\n",
    "statistics_dict = {}\n",
    "statistics_dict['Game Type'] = 'First Move: Q-Learning Player'\n",
    "statistics_dict['Total Number of Games'] = games\n",
    "statistics_dict['Number of Games QLearning Won'] = QLearningWin\n",
    "statistics_dict['Number of Games Semi-Intelligent player Won'] = SIAgentWin\n",
    "statistics_dict['Number of Games Drawn'] = Draw\n",
    "statistics_df = statistics_df.append(statistics_dict, ignore_index = True)\n",
    "statistics_df = statistics_df.style.applymap(lambda x:'white-space:nowrap')\n",
    "display(statistics_df)"
   ]
  },
  {
   "cell_type": "code",
   "execution_count": null,
   "id": "f7e07b9b",
   "metadata": {},
   "outputs": [],
   "source": []
  }
 ],
 "metadata": {
  "kernelspec": {
   "display_name": "Python 3",
   "language": "python",
   "name": "python3"
  },
  "language_info": {
   "codemirror_mode": {
    "name": "ipython",
    "version": 3
   },
   "file_extension": ".py",
   "mimetype": "text/x-python",
   "name": "python",
   "nbconvert_exporter": "python",
   "pygments_lexer": "ipython3",
   "version": "3.8.8"
  }
 },
 "nbformat": 4,
 "nbformat_minor": 5
}
