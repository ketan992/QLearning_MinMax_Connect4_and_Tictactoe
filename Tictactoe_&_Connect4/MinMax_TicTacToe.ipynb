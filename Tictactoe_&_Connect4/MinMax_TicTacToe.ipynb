{
 "cells": [
  {
   "cell_type": "code",
   "execution_count": 1,
   "id": "25fe86c5",
   "metadata": {},
   "outputs": [],
   "source": [
    "import random\n",
    "import math\n",
    "from IPython.display import display\n",
    "import pandas as pd\n",
    "from tqdm import tqdm\n",
    "import time"
   ]
  },
  {
   "cell_type": "code",
   "execution_count": 2,
   "id": "92a4a505",
   "metadata": {},
   "outputs": [],
   "source": [
    "class TicTacToe_MinMax:\n",
    "    \n",
    "    def initialise_baord_set_letter(self) : \n",
    "        self.ttt_board = {\n",
    "                            1: ' ', 2:' ', 3: ' ',\n",
    "                            4: ' ', 5:' ', 6: ' ',\n",
    "                            7: ' ', 8:' ', 9: ' '\n",
    "                         }\n",
    "        self.SI_Agent_Letter = 'X'\n",
    "        self.MinMax_Letter = 'O'\n",
    "    \n",
    "    def display_board(self):\n",
    "        print(\"\\n\")\n",
    "        for row in range(3):\n",
    "            for col in range(3):\n",
    "                cell = row * 3 + col + 1\n",
    "                print(self.ttt_board[cell], end=\"\")\n",
    "                if col < 2:\n",
    "                    print(\" | \", end=\"\")\n",
    "            print()\n",
    "            if row < 2:\n",
    "                print(\"---------\")\n",
    "        print()\n",
    "        \n",
    "    def tossForFirstMove(self):\n",
    "        choices = [1,2]\n",
    "        return random.choice(choices)\n",
    "        \n",
    "    def validateMove(self, move):\n",
    "        return self.ttt_board[move] == ' '\n",
    "        \n",
    "    def validateDraw(self):\n",
    "        return all(self.ttt_board[key] != ' ' for key in self.ttt_board.keys())\n",
    "    \n",
    "    \n",
    "    def validateWin(self):\n",
    "        win_combinations = [\n",
    "            (1, 2, 3), (4, 5, 6), (7, 8, 9), \n",
    "            (1, 4, 7), (2, 5, 8), (3, 6, 9),  \n",
    "            (1, 5, 9), (7, 5, 3)\n",
    "        ]\n",
    "\n",
    "        for combo in win_combinations:\n",
    "            if (self.ttt_board[combo[0]] == self.ttt_board[combo[1]] == self.ttt_board[combo[2]] != ' '):\n",
    "                return True\n",
    "\n",
    "        return False\n",
    "                        \n",
    "    def validateWinForLetter(self, mark):\n",
    "        winning_positions = [\n",
    "            (1, 2, 3), (4, 5, 6), (7, 8, 9),\n",
    "            (1, 4, 7), (2, 5, 8), (3, 6, 9),\n",
    "            (1, 5, 9), (7, 5, 3)\n",
    "        ]\n",
    "        for pos in winning_positions:\n",
    "            if all(self.ttt_board[i] == mark for i in pos):\n",
    "                return True\n",
    "        return False\n",
    "\n",
    "    def get_random_generated_move(self):\n",
    "        position = random.randint(1, 9)\n",
    "        if self.validateMove(position):\n",
    "            return position\n",
    "        else:\n",
    "            position = self.get_random_generated_move()\n",
    "            return position\n",
    "    \n",
    "    def play_tic_tac_toe_with_alpha_beta_pruning(self, SIAgent_plays_first):\n",
    "        while True:\n",
    "            if SIAgent_plays_first:\n",
    "                self.Semi_Intelligent_Agent_Move()\n",
    "\n",
    "                if self.validateWinForLetter(self.SI_Agent_Letter) : \n",
    "                    return \"SIAgentWon\"\n",
    "\n",
    "                if self.validateDraw():\n",
    "                    return \"Draw\"\n",
    "\n",
    "                self.Min_Max_Move_with_alpha_beta_pruning()\n",
    "\n",
    "                if self.validateWinForLetter(self.MinMax_Letter) : \n",
    "                    return \"MinMaxWon\"\n",
    "\n",
    "\n",
    "            else:\n",
    "\n",
    "                self.Min_Max_Move_with_alpha_beta_pruning()\n",
    "\n",
    "                if self.validateWinForLetter(self.MinMax_Letter) : \n",
    "                    return \"MinMaxWon\"\n",
    "\n",
    "                self.Semi_Intelligent_Agent_Move()\n",
    "\n",
    "                if self.validateWinForLetter(self.SI_Agent_Letter) :\n",
    "                    return \"SIAgentWon\"\n",
    "                \n",
    "                if self.validateDraw():\n",
    "                    return \"Draw\"\n",
    "\n",
    "\n",
    "\n",
    "    def Semi_Intelligent_Agent_Move(self) : \n",
    "        for possible_position in self.ttt_board.keys():\n",
    "            if self.ttt_board[possible_position] == ' ':\n",
    "                \n",
    "                self.ttt_board[possible_position] = self.SI_Agent_Letter\n",
    "                \n",
    "                if self.validateWin() : \n",
    "                    self.ttt_board[possible_position] = ' '\n",
    "                    position = possible_position\n",
    "                    break\n",
    "                    \n",
    "                elif self.validateDraw():\n",
    "                    self.ttt_board[possible_position] = ' '\n",
    "                    position = possible_position\n",
    "                    break\n",
    "                \n",
    "                else:\n",
    "                    self.ttt_board[possible_position] = ' '\n",
    "                    position = self.get_random_generated_move()\n",
    "\n",
    "        self.ttt_board[position] = self.SI_Agent_Letter\n",
    "        return\n",
    "        \n",
    "    def Min_Max_Move_with_alpha_beta_pruning(self):\n",
    "        optimised_score =  -math.inf\n",
    "        optimised_position = self.get_random_generated_move()\n",
    "\n",
    "        for possible_position in self.ttt_board.keys() : \n",
    "\n",
    "            if self.ttt_board[possible_position] == ' ' :\n",
    "                self.ttt_board[possible_position] = self.MinMax_Letter\n",
    "                current_score = self.evaluate_MinMax_score_with_alpha_beta_pruning(False, -math.inf, math.inf)\n",
    "                self.ttt_board[possible_position] = ' '\n",
    "\n",
    "                if current_score > optimised_score :\n",
    "                    optimised_score = current_score\n",
    "                    optimised_position = possible_position\n",
    "\n",
    "        self.ttt_board[optimised_position] = self.MinMax_Letter\n",
    "        return\n",
    "    \n",
    "    \n",
    "    def evaluate_MinMax_score_with_alpha_beta_pruning(self, isMinMaxMove, alpha, beta):\n",
    "        if self.validateWinForLetter(self.MinMax_Letter) :\n",
    "            return 1\n",
    "        elif self.validateWinForLetter(self.SI_Agent_Letter) :\n",
    "            return -1\n",
    "        elif self.validateDraw() :\n",
    "            return 0\n",
    "\n",
    "        if isMinMaxMove :\n",
    "            optimisedScore = -math.inf\n",
    "\n",
    "            for possible_position in self.ttt_board.keys():\n",
    "\n",
    "                if self.ttt_board[possible_position] == ' ' :\n",
    "                    self.ttt_board[possible_position] = self.MinMax_Letter\n",
    "                    current_score = self.evaluate_MinMax_score_with_alpha_beta_pruning(False, alpha, beta)\n",
    "                    self.ttt_board[possible_position] = ' '\n",
    "\n",
    "                    optimisedScore = max(optimisedScore, current_score)\n",
    "                    alpha = max(alpha, optimisedScore)\n",
    "\n",
    "                    if alpha >= beta :\n",
    "                        break\n",
    "\n",
    "            return optimisedScore\n",
    "\n",
    "        else:\n",
    "            optimisedScore = math.inf\n",
    "            for possible_position in self.ttt_board.keys():\n",
    "                if self.ttt_board[possible_position] == ' ':\n",
    "                    self.ttt_board[possible_position] = self.SI_Agent_Letter\n",
    "                    current_score = self.evaluate_MinMax_score_with_alpha_beta_pruning(True, alpha, beta)\n",
    "                    self.ttt_board[possible_position] = ' '\n",
    "\n",
    "                    optimisedScore = min(optimisedScore, current_score)\n",
    "                    beta = min(beta, optimisedScore)\n",
    "\n",
    "                    if alpha >= beta :\n",
    "                        break\n",
    "\n",
    "            return optimisedScore\n",
    "        \n",
    "    def play_tic_tac_toe(self, SIAgent_plays_first):\n",
    "        while True:\n",
    "            if SIAgent_plays_first:\n",
    "                self.Semi_Intelligent_Agent_Move()\n",
    "\n",
    "                if self.validateWinForLetter(self.SI_Agent_Letter) : \n",
    "                    return \"SIAgentWon\"\n",
    "\n",
    "                if self.validateDraw():\n",
    "                    return \"Draw\"\n",
    "\n",
    "                self.Min_Max_Move()\n",
    "\n",
    "                if self.validateWinForLetter(self.MinMax_Letter) : \n",
    "                    return \"MinMaxWon\"\n",
    "\n",
    "\n",
    "            else:\n",
    "\n",
    "                self.Min_Max_Move()\n",
    "\n",
    "                if self.validateWinForLetter(self.MinMax_Letter) : \n",
    "                    return \"MinMaxWon\"\n",
    "\n",
    "                self.Semi_Intelligent_Agent_Move()\n",
    "\n",
    "                if self.validateWinForLetter(self.SI_Agent_Letter) :\n",
    "                    return \"SIAgentWon\"\n",
    "                \n",
    "                if self.validateDraw():\n",
    "                    return \"Draw\"\n",
    "                \n",
    "    def Min_Max_Move(self):\n",
    "        optimised_score =  -math.inf\n",
    "        optimised_position = self.get_random_generated_move()\n",
    "\n",
    "        for possible_position in self.ttt_board.keys() : \n",
    "\n",
    "            if self.ttt_board[possible_position] == ' ' :\n",
    "                self.ttt_board[possible_position] = self.MinMax_Letter\n",
    "                current_score = self.evaluate_MinMax_score(False)\n",
    "                self.ttt_board[possible_position] = ' '\n",
    "\n",
    "                if current_score > optimised_score :\n",
    "                    optimised_score = current_score\n",
    "                    optimised_position = possible_position\n",
    "\n",
    "        self.ttt_board[optimised_position] = self.MinMax_Letter\n",
    "        return\n",
    "    \n",
    "    def evaluate_MinMax_score(self, isMinMaxMove):\n",
    "        if self.validateWinForLetter(self.MinMax_Letter) :\n",
    "            return 1\n",
    "        elif self.validateWinForLetter(self.SI_Agent_Letter) :\n",
    "            return -1\n",
    "        elif self.validateDraw() :\n",
    "            return 0\n",
    "\n",
    "        if isMinMaxMove :\n",
    "            optimisedScore = -math.inf\n",
    "\n",
    "            for possible_position in self.ttt_board.keys():\n",
    "\n",
    "                if self.ttt_board[possible_position] == ' ' :\n",
    "                    self.ttt_board[possible_position] = self.MinMax_Letter\n",
    "                    current_score = self.evaluate_MinMax_score(False)\n",
    "                    self.ttt_board[possible_position] = ' '\n",
    "\n",
    "                    optimisedScore = max(optimisedScore, current_score)\n",
    "                    \n",
    "            return optimisedScore\n",
    "\n",
    "        else:\n",
    "            optimisedScore = math.inf\n",
    "            for possible_position in self.ttt_board.keys():\n",
    "                if self.ttt_board[possible_position] == ' ':\n",
    "                    self.ttt_board[possible_position] = self.SI_Agent_Letter\n",
    "                    current_score = self.evaluate_MinMax_score(True)\n",
    "                    self.ttt_board[possible_position] = ' '\n",
    "\n",
    "                    optimisedScore = min(optimisedScore, current_score)\n",
    "\n",
    "            return optimisedScore"
   ]
  },
  {
   "cell_type": "markdown",
   "id": "ac5ba0a8",
   "metadata": {},
   "source": [
    "### First Move: Random, Algorithm: Min-Max without Alpha-Beta pruning"
   ]
  },
  {
   "cell_type": "code",
   "execution_count": 3,
   "id": "d22752ab",
   "metadata": {},
   "outputs": [
    {
     "name": "stderr",
     "output_type": "stream",
     "text": [
      "100%|████████████████████████████████████████████████████████████████████████████████| 100/100 [04:08<00:00,  2.48s/it]\n"
     ]
    }
   ],
   "source": [
    "games = 100\n",
    "SIAgentWin = MinMaxWin = Draw = 0\n",
    "\n",
    "startTime = time.time()\n",
    "for _ in tqdm(range(games)):\n",
    "    ttt_min_max = TicTacToe_MinMax()\n",
    "    ttt_min_max.initialise_baord_set_letter()\n",
    "    \n",
    "    SIAgent_plays_first = False\n",
    "    if ttt_min_max.tossForFirstMove() == 1 :\n",
    "        SIAgent_plays_first = True\n",
    "    else : \n",
    "        SIAgent_plays_first = False\n",
    "    try:\n",
    "        winner = ttt_min_max.play_tic_tac_toe(SIAgent_plays_first)\n",
    "    except:\n",
    "        continue\n",
    "        \n",
    "    if winner == 'MinMaxWon':\n",
    "        MinMaxWin += 1\n",
    "    elif winner == 'SIAgentWon':\n",
    "        SIAgentWin += 1\n",
    "    else:\n",
    "        Draw += 1\n",
    "totalTime = time.time()-startTime"
   ]
  },
  {
   "cell_type": "code",
   "execution_count": 17,
   "id": "47a745ae",
   "metadata": {},
   "outputs": [
    {
     "data": {
      "text/html": [
       "<style  type=\"text/css\" >\n",
       "#T_b47f8_row0_col0,#T_b47f8_row0_col1,#T_b47f8_row0_col2,#T_b47f8_row0_col3,#T_b47f8_row0_col4,#T_b47f8_row0_col5{\n",
       "            white-space: nowrap;\n",
       "        }</style><table id=\"T_b47f8_\" ><thead>    <tr>        <th class=\"blank level0\" ></th>        <th class=\"col_heading level0 col0\" >Game Type</th>        <th class=\"col_heading level0 col1\" >Time taken without Alpha Beta Pruning (in seconds)</th>        <th class=\"col_heading level0 col2\" >Total Number of Games</th>        <th class=\"col_heading level0 col3\" >Number of Games MinMax Won</th>        <th class=\"col_heading level0 col4\" >Number of Games Semi-Intelligent player Won</th>        <th class=\"col_heading level0 col5\" >Number of Games Drawn</th>    </tr></thead><tbody>\n",
       "                <tr>\n",
       "                        <th id=\"T_b47f8_level0_row0\" class=\"row_heading level0 row0\" >0</th>\n",
       "                        <td id=\"T_b47f8_row0_col0\" class=\"data row0 col0\" >First Move: Random</td>\n",
       "                        <td id=\"T_b47f8_row0_col1\" class=\"data row0 col1\" >448.515099</td>\n",
       "                        <td id=\"T_b47f8_row0_col2\" class=\"data row0 col2\" >100</td>\n",
       "                        <td id=\"T_b47f8_row0_col3\" class=\"data row0 col3\" >91</td>\n",
       "                        <td id=\"T_b47f8_row0_col4\" class=\"data row0 col4\" >0</td>\n",
       "                        <td id=\"T_b47f8_row0_col5\" class=\"data row0 col5\" >9</td>\n",
       "            </tr>\n",
       "    </tbody></table>"
      ],
      "text/plain": [
       "<pandas.io.formats.style.Styler at 0x255991f9880>"
      ]
     },
     "metadata": {},
     "output_type": "display_data"
    }
   ],
   "source": [
    "statistics_df = pd.DataFrame(columns=['Game Type', 'Time taken without Alpha Beta Pruning (in seconds)', 'Total Number of Games', 'Number of Games MinMax Won', 'Number of Games Semi-Intelligent player Won', 'Number of Games Drawn'])\n",
    "statistics_dict = {}\n",
    "statistics_dict['Game Type'] = 'First Move: Random'\n",
    "statistics_dict['Time taken without Alpha Beta Pruning (in seconds)'] = totalTime\n",
    "statistics_dict['Total Number of Games'] = games\n",
    "statistics_dict['Number of Games MinMax Won'] = MinMaxWin\n",
    "statistics_dict['Number of Games Semi-Intelligent player Won'] = SIAgentWin\n",
    "statistics_dict['Number of Games Drawn'] = Draw\n",
    "statistics_df = statistics_df.append(statistics_dict, ignore_index = True)\n",
    "statistics_df = statistics_df.style.applymap(lambda x:'white-space:nowrap')\n",
    "display(statistics_df)"
   ]
  },
  {
   "cell_type": "markdown",
   "id": "39950fde",
   "metadata": {},
   "source": [
    "### First Move: Always Min-Max, Algorithm: Min-Max without Alpha-Beta pruning"
   ]
  },
  {
   "cell_type": "code",
   "execution_count": 5,
   "id": "90421e00",
   "metadata": {},
   "outputs": [
    {
     "name": "stderr",
     "output_type": "stream",
     "text": [
      "100%|████████████████████████████████████████████████████████████████████████████████| 100/100 [08:01<00:00,  4.82s/it]\n"
     ]
    }
   ],
   "source": [
    "games = 100\n",
    "SIAgentWin = 0\n",
    "MinMaxWin = 0\n",
    "Draw = 0\n",
    "\n",
    "startTime = time.time()\n",
    "for _ in tqdm(range(games)):\n",
    "    ttt_min_max = TicTacToe_MinMax()\n",
    "    ttt_min_max.initialise_baord_set_letter()\n",
    "    \n",
    "    SIAgent_plays_first = False\n",
    "    \n",
    "    try:\n",
    "        winner = ttt_min_max.play_tic_tac_toe(SIAgent_plays_first)\n",
    "    except:\n",
    "        continue\n",
    "        \n",
    "    if winner == 'MinMaxWon':\n",
    "        MinMaxWin += 1\n",
    "    elif winner == 'SIAgentWon':\n",
    "        SIAgentWin += 1\n",
    "    else:\n",
    "        Draw += 1\n",
    "\n",
    "totalTime = time.time()-startTime"
   ]
  },
  {
   "cell_type": "code",
   "execution_count": 19,
   "id": "09a78ae3",
   "metadata": {},
   "outputs": [
    {
     "data": {
      "text/html": [
       "<style  type=\"text/css\" >\n",
       "#T_35f51_row0_col0,#T_35f51_row0_col1,#T_35f51_row0_col2,#T_35f51_row0_col3,#T_35f51_row0_col4,#T_35f51_row0_col5{\n",
       "            white-space: nowrap;\n",
       "        }</style><table id=\"T_35f51_\" ><thead>    <tr>        <th class=\"blank level0\" ></th>        <th class=\"col_heading level0 col0\" >Game Type</th>        <th class=\"col_heading level0 col1\" >Time taken without Alpha Beta Pruning (in seconds)</th>        <th class=\"col_heading level0 col2\" >Total Number of Games</th>        <th class=\"col_heading level0 col3\" >Number of Games MinMax Won</th>        <th class=\"col_heading level0 col4\" >Number of Games Semi-Intelligent player Won</th>        <th class=\"col_heading level0 col5\" >Number of Games Drawn</th>    </tr></thead><tbody>\n",
       "                <tr>\n",
       "                        <th id=\"T_35f51_level0_row0\" class=\"row_heading level0 row0\" >0</th>\n",
       "                        <td id=\"T_35f51_row0_col0\" class=\"data row0 col0\" >First Move: MinMax Player</td>\n",
       "                        <td id=\"T_35f51_row0_col1\" class=\"data row0 col1\" >481.483409</td>\n",
       "                        <td id=\"T_35f51_row0_col2\" class=\"data row0 col2\" >100</td>\n",
       "                        <td id=\"T_35f51_row0_col3\" class=\"data row0 col3\" >99</td>\n",
       "                        <td id=\"T_35f51_row0_col4\" class=\"data row0 col4\" >0</td>\n",
       "                        <td id=\"T_35f51_row0_col5\" class=\"data row0 col5\" >1</td>\n",
       "            </tr>\n",
       "    </tbody></table>"
      ],
      "text/plain": [
       "<pandas.io.formats.style.Styler at 0x255991f9ac0>"
      ]
     },
     "metadata": {},
     "output_type": "display_data"
    }
   ],
   "source": [
    "statistics_df = pd.DataFrame(columns=['Game Type', 'Time taken without Alpha Beta Pruning (in seconds)', 'Total Number of Games', 'Number of Games MinMax Won', 'Number of Games Semi-Intelligent player Won', 'Number of Games Drawn'])\n",
    "statistics_dict = {}\n",
    "statistics_dict['Game Type'] = 'First Move: MinMax Player'\n",
    "statistics_dict['Time taken without Alpha Beta Pruning (in seconds)'] = totalTime\n",
    "statistics_dict['Total Number of Games'] = games\n",
    "statistics_dict['Number of Games MinMax Won'] = MinMaxWin\n",
    "statistics_dict['Number of Games Semi-Intelligent player Won'] = SIAgentWin\n",
    "statistics_dict['Number of Games Drawn'] = Draw\n",
    "statistics_df = statistics_df.append(statistics_dict, ignore_index = True)\n",
    "statistics_df = statistics_df.style.applymap(lambda x:'white-space:nowrap')\n",
    "display(statistics_df)"
   ]
  },
  {
   "cell_type": "markdown",
   "id": "779284c2",
   "metadata": {},
   "source": [
    "### First Move: Semi-Intelligent Player, Algorithm: Min-Max without Alpha-Beta pruning"
   ]
  },
  {
   "cell_type": "code",
   "execution_count": 7,
   "id": "98c50d1a",
   "metadata": {},
   "outputs": [
    {
     "name": "stderr",
     "output_type": "stream",
     "text": [
      "100%|████████████████████████████████████████████████████████████████████████████████| 100/100 [00:54<00:00,  1.84it/s]\n"
     ]
    }
   ],
   "source": [
    "games = 100\n",
    "SIAgentWin = 0\n",
    "MinMaxWin = 0\n",
    "Draw = 0\n",
    "\n",
    "startTime = time.time()\n",
    "for _ in tqdm(range(games)):\n",
    "    ttt_min_max = TicTacToe_MinMax()\n",
    "    ttt_min_max.initialise_baord_set_letter()\n",
    "    \n",
    "    SIAgent_plays_first = True\n",
    "    \n",
    "    try:\n",
    "        winner = ttt_min_max.play_tic_tac_toe(SIAgent_plays_first)\n",
    "    except:\n",
    "        continue\n",
    "        \n",
    "    if winner == 'MinMaxWon':\n",
    "        MinMaxWin += 1\n",
    "    elif winner == 'SIAgentWon':\n",
    "        SIAgentWin += 1\n",
    "    else:\n",
    "        Draw += 1\n",
    "\n",
    "totalTime = time.time()-startTime"
   ]
  },
  {
   "cell_type": "code",
   "execution_count": 20,
   "id": "63bb0e25",
   "metadata": {},
   "outputs": [
    {
     "data": {
      "text/html": [
       "<style  type=\"text/css\" >\n",
       "#T_aad5f_row0_col0,#T_aad5f_row0_col1,#T_aad5f_row0_col2,#T_aad5f_row0_col3,#T_aad5f_row0_col4,#T_aad5f_row0_col5{\n",
       "            white-space: nowrap;\n",
       "        }</style><table id=\"T_aad5f_\" ><thead>    <tr>        <th class=\"blank level0\" ></th>        <th class=\"col_heading level0 col0\" >Game Type</th>        <th class=\"col_heading level0 col1\" >Time taken without Alpha Beta Pruning (in seconds)</th>        <th class=\"col_heading level0 col2\" >Total Number of Games</th>        <th class=\"col_heading level0 col3\" >Number of Games MinMax Won</th>        <th class=\"col_heading level0 col4\" >Number of Games Semi-Intelligent player Won</th>        <th class=\"col_heading level0 col5\" >Number of Games Drawn</th>    </tr></thead><tbody>\n",
       "                <tr>\n",
       "                        <th id=\"T_aad5f_level0_row0\" class=\"row_heading level0 row0\" >0</th>\n",
       "                        <td id=\"T_aad5f_row0_col0\" class=\"data row0 col0\" >First Move: Semi Intelligent Player</td>\n",
       "                        <td id=\"T_aad5f_row0_col1\" class=\"data row0 col1\" >454.219773</td>\n",
       "                        <td id=\"T_aad5f_row0_col2\" class=\"data row0 col2\" >100</td>\n",
       "                        <td id=\"T_aad5f_row0_col3\" class=\"data row0 col3\" >85</td>\n",
       "                        <td id=\"T_aad5f_row0_col4\" class=\"data row0 col4\" >0</td>\n",
       "                        <td id=\"T_aad5f_row0_col5\" class=\"data row0 col5\" >15</td>\n",
       "            </tr>\n",
       "    </tbody></table>"
      ],
      "text/plain": [
       "<pandas.io.formats.style.Styler at 0x25599224040>"
      ]
     },
     "metadata": {},
     "output_type": "display_data"
    }
   ],
   "source": [
    "statistics_df = pd.DataFrame(columns=['Game Type', 'Time taken without Alpha Beta Pruning (in seconds)', 'Total Number of Games', 'Number of Games MinMax Won', 'Number of Games Semi-Intelligent player Won', 'Number of Games Drawn'])\n",
    "statistics_dict = {}\n",
    "statistics_dict['Game Type'] = 'First Move: Semi Intelligent Player'\n",
    "statistics_dict['Time taken without Alpha Beta Pruning (in seconds)'] = totalTime\n",
    "statistics_dict['Total Number of Games'] = games\n",
    "statistics_dict['Number of Games MinMax Won'] = MinMaxWin\n",
    "statistics_dict['Number of Games Semi-Intelligent player Won'] = SIAgentWin\n",
    "statistics_dict['Number of Games Drawn'] = Draw\n",
    "statistics_df = statistics_df.append(statistics_dict, ignore_index = True)\n",
    "statistics_df = statistics_df.style.applymap(lambda x:'white-space:nowrap')\n",
    "display(statistics_df)\n",
    "\n"
   ]
  },
  {
   "cell_type": "markdown",
   "id": "060f5653",
   "metadata": {},
   "source": [
    "### First Move: Random, Algorithm: Min-Max with Alpha-Beta pruning"
   ]
  },
  {
   "cell_type": "code",
   "execution_count": 9,
   "id": "0cc7fbb8",
   "metadata": {},
   "outputs": [
    {
     "name": "stderr",
     "output_type": "stream",
     "text": [
      "100%|██████████████████████████████████████████████████████████████████████████████| 1000/1000 [02:56<00:00,  5.67it/s]\n"
     ]
    }
   ],
   "source": [
    "games = 1000\n",
    "SIAgentWin = MinMaxWin = Draw = 0\n",
    "\n",
    "startTime = time.time()\n",
    "for _ in tqdm(range(games)):\n",
    "    ttt_min_max = TicTacToe_MinMax()\n",
    "    ttt_min_max.initialise_baord_set_letter()\n",
    "    \n",
    "    SIAgent_plays_first = False\n",
    "    if ttt_min_max.tossForFirstMove() == 1 :\n",
    "        SIAgent_plays_first = True\n",
    "    else : \n",
    "        SIAgent_plays_first = False\n",
    "    \n",
    "    try:\n",
    "        winner = ttt_min_max.play_tic_tac_toe_with_alpha_beta_pruning(SIAgent_plays_first)\n",
    "    except:\n",
    "        continue\n",
    "        \n",
    "    if winner == 'MinMaxWon':\n",
    "        MinMaxWin += 1\n",
    "    elif winner == 'SIAgentWon':\n",
    "        SIAgentWin += 1\n",
    "    else:\n",
    "        Draw += 1\n",
    "totalTime = time.time()-startTime\n"
   ]
  },
  {
   "cell_type": "code",
   "execution_count": 10,
   "id": "35a8954e",
   "metadata": {},
   "outputs": [
    {
     "data": {
      "text/html": [
       "<style  type=\"text/css\" >\n",
       "#T_97800_row0_col0,#T_97800_row0_col1,#T_97800_row0_col2,#T_97800_row0_col3,#T_97800_row0_col4,#T_97800_row0_col5{\n",
       "            white-space: nowrap;\n",
       "        }</style><table id=\"T_97800_\" ><thead>    <tr>        <th class=\"blank level0\" ></th>        <th class=\"col_heading level0 col0\" >Game Type</th>        <th class=\"col_heading level0 col1\" >Time taken with Alpha Beta Pruning (in seconds)</th>        <th class=\"col_heading level0 col2\" >Total Number of Games</th>        <th class=\"col_heading level0 col3\" >Number of Games MinMax Won</th>        <th class=\"col_heading level0 col4\" >Number of Games Semi-Intelligent player Won</th>        <th class=\"col_heading level0 col5\" >Number of Games Drawn</th>    </tr></thead><tbody>\n",
       "                <tr>\n",
       "                        <th id=\"T_97800_level0_row0\" class=\"row_heading level0 row0\" >0</th>\n",
       "                        <td id=\"T_97800_row0_col0\" class=\"data row0 col0\" >First Move: Random Player</td>\n",
       "                        <td id=\"T_97800_row0_col1\" class=\"data row0 col1\" >176.371480</td>\n",
       "                        <td id=\"T_97800_row0_col2\" class=\"data row0 col2\" >1000</td>\n",
       "                        <td id=\"T_97800_row0_col3\" class=\"data row0 col3\" >899</td>\n",
       "                        <td id=\"T_97800_row0_col4\" class=\"data row0 col4\" >0</td>\n",
       "                        <td id=\"T_97800_row0_col5\" class=\"data row0 col5\" >101</td>\n",
       "            </tr>\n",
       "    </tbody></table>"
      ],
      "text/plain": [
       "<pandas.io.formats.style.Styler at 0x25599331a00>"
      ]
     },
     "metadata": {},
     "output_type": "display_data"
    }
   ],
   "source": [
    "statistics_df = pd.DataFrame(columns=['Game Type', 'Time taken with Alpha Beta Pruning (in seconds)', 'Total Number of Games', 'Number of Games MinMax Won', 'Number of Games Semi-Intelligent player Won', 'Number of Games Drawn'])\n",
    "statistics_dict = {}\n",
    "statistics_dict['Game Type'] = 'First Move: Random Player'\n",
    "statistics_dict['Time taken with Alpha Beta Pruning (in seconds)'] = totalTime\n",
    "statistics_dict['Total Number of Games'] = games\n",
    "statistics_dict['Number of Games MinMax Won'] = MinMaxWin\n",
    "statistics_dict['Number of Games Semi-Intelligent player Won'] = SIAgentWin\n",
    "statistics_dict['Number of Games Drawn'] = Draw\n",
    "statistics_df = statistics_df.append(statistics_dict, ignore_index = True)\n",
    "statistics_df = statistics_df.style.applymap(lambda x:'white-space:nowrap')\n",
    "display(statistics_df)"
   ]
  },
  {
   "cell_type": "markdown",
   "id": "0d8e10c9",
   "metadata": {},
   "source": [
    "### First Move: Min-Max, Algorithm: Min-Max with Alpha-Beta pruning"
   ]
  },
  {
   "cell_type": "code",
   "execution_count": 11,
   "id": "351d1034",
   "metadata": {},
   "outputs": [
    {
     "name": "stderr",
     "output_type": "stream",
     "text": [
      "100%|██████████████████████████████████████████████████████████████████████████████| 1000/1000 [04:53<00:00,  3.41it/s]\n"
     ]
    }
   ],
   "source": [
    "games = 1000\n",
    "SIAgentWin = 0\n",
    "MinMaxWin = 0\n",
    "Draw = 0\n",
    "\n",
    "startTime = time.time()\n",
    "for _ in tqdm(range(games)):\n",
    "    ttt_min_max = TicTacToe_MinMax()\n",
    "    ttt_min_max.initialise_baord_set_letter()\n",
    "    \n",
    "    SIAgent_plays_first = False\n",
    "\n",
    "    try:\n",
    "        winner = ttt_min_max.play_tic_tac_toe_with_alpha_beta_pruning(SIAgent_plays_first)\n",
    "    except:\n",
    "        continue\n",
    "        \n",
    "    if winner == 'MinMaxWon':\n",
    "        MinMaxWin += 1\n",
    "    elif winner == 'SIAgentWon':\n",
    "        SIAgentWin += 1\n",
    "    else:\n",
    "        Draw += 1\n",
    "\n",
    "totalTime = time.time()-startTime"
   ]
  },
  {
   "cell_type": "code",
   "execution_count": 21,
   "id": "41df3ce4",
   "metadata": {},
   "outputs": [
    {
     "data": {
      "text/html": [
       "<style  type=\"text/css\" >\n",
       "#T_69744_row0_col0,#T_69744_row0_col1,#T_69744_row0_col2,#T_69744_row0_col3,#T_69744_row0_col4,#T_69744_row0_col5{\n",
       "            white-space: nowrap;\n",
       "        }</style><table id=\"T_69744_\" ><thead>    <tr>        <th class=\"blank level0\" ></th>        <th class=\"col_heading level0 col0\" >Game Type</th>        <th class=\"col_heading level0 col1\" >Time taken with Alpha Beta Pruning (in seconds)</th>        <th class=\"col_heading level0 col2\" >Total Number of Games</th>        <th class=\"col_heading level0 col3\" >Number of Games MinMax Won</th>        <th class=\"col_heading level0 col4\" >Number of Games Semi-Intelligent player Won</th>        <th class=\"col_heading level0 col5\" >Number of Games Drawn</th>    </tr></thead><tbody>\n",
       "                <tr>\n",
       "                        <th id=\"T_69744_level0_row0\" class=\"row_heading level0 row0\" >0</th>\n",
       "                        <td id=\"T_69744_row0_col0\" class=\"data row0 col0\" >First Move: MinMax Player</td>\n",
       "                        <td id=\"T_69744_row0_col1\" class=\"data row0 col1\" >193.123701</td>\n",
       "                        <td id=\"T_69744_row0_col2\" class=\"data row0 col2\" >1000</td>\n",
       "                        <td id=\"T_69744_row0_col3\" class=\"data row0 col3\" >993</td>\n",
       "                        <td id=\"T_69744_row0_col4\" class=\"data row0 col4\" >0</td>\n",
       "                        <td id=\"T_69744_row0_col5\" class=\"data row0 col5\" >7</td>\n",
       "            </tr>\n",
       "    </tbody></table>"
      ],
      "text/plain": [
       "<pandas.io.formats.style.Styler at 0x25596011f70>"
      ]
     },
     "metadata": {},
     "output_type": "display_data"
    }
   ],
   "source": [
    "statistics_df = pd.DataFrame(columns=['Game Type', 'Time taken with Alpha Beta Pruning (in seconds)', 'Total Number of Games', 'Number of Games MinMax Won', 'Number of Games Semi-Intelligent player Won', 'Number of Games Drawn'])\n",
    "statistics_dict = {}\n",
    "statistics_dict['Game Type'] = 'First Move: MinMax Player'\n",
    "statistics_dict['Time taken with Alpha Beta Pruning (in seconds)'] = totalTime\n",
    "statistics_dict['Total Number of Games'] = games\n",
    "statistics_dict['Number of Games MinMax Won'] = MinMaxWin\n",
    "statistics_dict['Number of Games Semi-Intelligent player Won'] = SIAgentWin\n",
    "statistics_dict['Number of Games Drawn'] = Draw\n",
    "statistics_df = statistics_df.append(statistics_dict, ignore_index = True)\n",
    "statistics_df = statistics_df.style.applymap(lambda x:'white-space:nowrap')\n",
    "display(statistics_df)"
   ]
  },
  {
   "cell_type": "markdown",
   "id": "4090214e",
   "metadata": {},
   "source": [
    "### First Move: Semi-Intelligent Player, Algorithm: Min-Max with Alpha-Beta pruning"
   ]
  },
  {
   "cell_type": "code",
   "execution_count": 13,
   "id": "cf1b9501",
   "metadata": {},
   "outputs": [
    {
     "name": "stderr",
     "output_type": "stream",
     "text": [
      "100%|██████████████████████████████████████████████████████████████████████████████| 1000/1000 [01:09<00:00, 14.39it/s]\n"
     ]
    }
   ],
   "source": [
    "games = 1000\n",
    "SIAgentWin = 0\n",
    "MinMaxWin = 0\n",
    "Draw = 0\n",
    "\n",
    "startTime = time.time()\n",
    "for _ in tqdm(range(games)):\n",
    "    ttt_min_max = TicTacToe_MinMax()\n",
    "    ttt_min_max.initialise_baord_set_letter()\n",
    "    \n",
    "    SIAgent_plays_first = True\n",
    "    try:\n",
    "        winner = ttt_min_max.play_tic_tac_toe_with_alpha_beta_pruning(SIAgent_plays_first)\n",
    "    except:\n",
    "        continue\n",
    "        \n",
    "    if winner == 'MinMaxWon':\n",
    "        MinMaxWin += 1\n",
    "    elif winner == 'SIAgentWon':\n",
    "        SIAgentWin += 1\n",
    "    else:\n",
    "        Draw += 1\n",
    "\n",
    "totalTime = time.time()-startTime"
   ]
  },
  {
   "cell_type": "code",
   "execution_count": 23,
   "id": "e2f2e3ea",
   "metadata": {},
   "outputs": [
    {
     "data": {
      "text/html": [
       "<style  type=\"text/css\" >\n",
       "#T_c86a4_row0_col0,#T_c86a4_row0_col1,#T_c86a4_row0_col2,#T_c86a4_row0_col3,#T_c86a4_row0_col4,#T_c86a4_row0_col5{\n",
       "            white-space: nowrap;\n",
       "        }</style><table id=\"T_c86a4_\" ><thead>    <tr>        <th class=\"blank level0\" ></th>        <th class=\"col_heading level0 col0\" >Game Type</th>        <th class=\"col_heading level0 col1\" >Time taken with Alpha Beta Pruning (in seconds)</th>        <th class=\"col_heading level0 col2\" >Total Number of Games</th>        <th class=\"col_heading level0 col3\" >Number of Games MinMax Won</th>        <th class=\"col_heading level0 col4\" >Number of Games Semi-Intelligent player Won</th>        <th class=\"col_heading level0 col5\" >Number of Games Drawn</th>    </tr></thead><tbody>\n",
       "                <tr>\n",
       "                        <th id=\"T_c86a4_level0_row0\" class=\"row_heading level0 row0\" >0</th>\n",
       "                        <td id=\"T_c86a4_row0_col0\" class=\"data row0 col0\" >First Move: Semi Intelligent Player</td>\n",
       "                        <td id=\"T_c86a4_row0_col1\" class=\"data row0 col1\" >169.496459</td>\n",
       "                        <td id=\"T_c86a4_row0_col2\" class=\"data row0 col2\" >1000</td>\n",
       "                        <td id=\"T_c86a4_row0_col3\" class=\"data row0 col3\" >818</td>\n",
       "                        <td id=\"T_c86a4_row0_col4\" class=\"data row0 col4\" >0</td>\n",
       "                        <td id=\"T_c86a4_row0_col5\" class=\"data row0 col5\" >182</td>\n",
       "            </tr>\n",
       "    </tbody></table>"
      ],
      "text/plain": [
       "<pandas.io.formats.style.Styler at 0x255993a8040>"
      ]
     },
     "metadata": {},
     "output_type": "display_data"
    }
   ],
   "source": [
    "statistics_df = pd.DataFrame(columns=['Game Type', 'Time taken with Alpha Beta Pruning (in seconds)', 'Total Number of Games', 'Number of Games MinMax Won', 'Number of Games Semi-Intelligent player Won', 'Number of Games Drawn'])\n",
    "statistics_dict = {}\n",
    "statistics_dict['Game Type'] = 'First Move: Semi Intelligent Player'\n",
    "statistics_dict['Time taken with Alpha Beta Pruning (in seconds)'] = totalTime\n",
    "statistics_dict['Total Number of Games'] = games\n",
    "statistics_dict['Number of Games MinMax Won'] = MinMaxWin\n",
    "statistics_dict['Number of Games Semi-Intelligent player Won'] = SIAgentWin\n",
    "statistics_dict['Number of Games Drawn'] = Draw\n",
    "statistics_df = statistics_df.append(statistics_dict, ignore_index = True)\n",
    "statistics_df = statistics_df.style.applymap(lambda x:'white-space:nowrap')\n",
    "display(statistics_df)\n",
    "\n"
   ]
  },
  {
   "cell_type": "code",
   "execution_count": null,
   "id": "1ba75824",
   "metadata": {},
   "outputs": [],
   "source": []
  }
 ],
 "metadata": {
  "kernelspec": {
   "display_name": "Python 3",
   "language": "python",
   "name": "python3"
  },
  "language_info": {
   "codemirror_mode": {
    "name": "ipython",
    "version": 3
   },
   "file_extension": ".py",
   "mimetype": "text/x-python",
   "name": "python",
   "nbconvert_exporter": "python",
   "pygments_lexer": "ipython3",
   "version": "3.8.8"
  }
 },
 "nbformat": 4,
 "nbformat_minor": 5
}
